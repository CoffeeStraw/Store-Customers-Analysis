{
  "nbformat": 4,
  "nbformat_minor": 0,
  "metadata": {
    "language_info": {
      "codemirror_mode": {
        "name": "ipython",
        "version": 3
      },
      "file_extension": ".py",
      "mimetype": "text/x-python",
      "name": "python",
      "nbconvert_exporter": "python",
      "pygments_lexer": "ipython3",
      "version": "3.8.5-final"
    },
    "orig_nbformat": 2,
    "kernelspec": {
      "name": "python3",
      "display_name": "Python 3"
    },
    "colab": {
      "name": "clustering_pt2.ipynb",
      "provenance": []
    }
  },
  "cells": [
    {
      "source": [
        "# DATA MINING PROJECT: Analysis of a Supermarket’s Customers\n",
        "## 2.2) Clustering Analysis: DBScan\n",
        "### *Antonio Strippoli, Valerio Mariani*"
      ],
      "cell_type": "markdown",
      "metadata": {}
    },
    {
      "cell_type": "code",
      "metadata": {
        "id": "rQm_KZ18wc67"
      },
      "source": [
        "%matplotlib inline\n",
        "import numpy as np\n",
        "import pandas as pd\n",
        "import seaborn as sn\n",
        "import matplotlib.pyplot as plt\n",
        "from IPython.display import clear_output\n",
        "from matplotlib.colors import LinearSegmentedColormap\n",
        "\n",
        "from sklearn.cluster import DBSCAN\n",
        "from sklearn.preprocessing import MinMaxScaler\n",
        "from sklearn.metrics import silhouette_score, davies_bouldin_score\n",
        "\n",
        "pd.set_option('mode.chained_assignment', None)"
      ],
      "execution_count": null,
      "outputs": []
    },
    {
      "cell_type": "code",
      "execution_count": null,
      "metadata": {},
      "outputs": [],
      "source": [
        "def plot(ax, folder=\"clustering_dbscan\", filename=\"\", figsize=(6.4, 4.8)):\n",
        "    fig = plt.gcf()\n",
        "    fig.set_size_inches(*figsize)\n",
        "    plt.tight_layout()\n",
        "    if filename:\n",
        "        path = os.path.join(\"..\", \"report\", \"imgs\", folder)\n",
        "        if not os.path.exists(path):\n",
        "            os.mkdir(path)\n",
        "        plt.savefig(os.path.join(path, filename))\n",
        "    plt.show()\n",
        "    plt.close()"
      ]
    },
    {
      "cell_type": "code",
      "metadata": {
        "id": "TVC2uw52wc7J"
      },
      "source": [
        "# Load dataset for clustering\n",
        "cdf = pd.read_csv(\"customer_profilation.csv\", index_col=0)"
      ],
      "execution_count": null,
      "outputs": []
    },
    {
      "source": [
        "### Definition of attributes employed for clustering and hyperparameters search"
      ],
      "cell_type": "markdown",
      "metadata": {}
    },
    {
      "cell_type": "code",
      "metadata": {
        "id": "qdbNTw-uwc7S"
      },
      "source": [
        "# We choosed these 3 attributes, since they usually classify very well customers\n",
        "attr_cluster = ['Recency', 'Frequency', 'Monetary']\n",
        "cdf_cluster = cdf[attr_cluster]\n",
        "\n",
        "# Normalize values\n",
        "scaler = MinMaxScaler() # Minmax?\n",
        "X = scaler.fit_transform(cdf_cluster.values)"
      ],
      "execution_count": null,
      "outputs": []
    },
    {
      "cell_type": "code",
      "metadata": {
        "id": "67tfY5lR6Ib_",
        "outputId": "fbace4c6-7d81-4d06-f558-0254d5ba0de1",
        "colab": {
          "base_uri": "https://localhost:8080/",
          "height": 552
        }
      },
      "source": [
        "# Create a matrix to select best values for eps and min_pts\n",
        "eps_list = np.arange(0.01,0.2,0.001)\n",
        "min_pts_list = np.arange(0,15,1)\n",
        "mat = np.zeros(( eps_list.size, min_pts_list.size) )\n",
        "\n",
        "for i, eps in enumerate(eps_list):\n",
        "    for j, min_pts in enumerate(min_pts_list):\n",
        "        dbscan = DBSCAN(eps=eps, min_samples=min_pts)\n",
        "        dbscan.fit(X)\n",
        "        mat[i,j] = silhouette_score(X, dbscan.labels_) + davies_bouldin_score(X, dbscan.labels_)\n",
        "\n",
        "        clear_output(wait=True)\n",
        "        print(i, '/', eps_list.size)\n",
        "\n",
        "mat1 = pd.DataFrame(mat.transpose(), columns=np.round(eps_list,3))\n",
        "plot(sn.heatmap(mat1, cmap='coolwarm'), figsize=(12, 9), filename=\"Heatmap_Hyperparameters\")"
      ],
      "execution_count": null,
      "outputs": []
    },
    {
      "cell_type": "code",
      "metadata": {
        "id": "5hQaJI3h3Vel",
        "outputId": "80ee37a3-be43-4ae0-d834-610008c6bf8d",
        "colab": {
          "base_uri": "https://localhost:8080/"
        }
      },
      "source": [
        "print(\"BEST EPS:\", eps_list[np.where(mat == np.amax(mat))[0]])\n",
        "print(\"BEST MIN_PTS:\", min_pts_list[np.where(mat == np.amax(mat))[1]])"
      ],
      "execution_count": null,
      "outputs": []
    },
    {
      "source": [
        "### Clusterization and distribution of the choosed attributes"
      ],
      "cell_type": "markdown",
      "metadata": {}
    },
    {
      "cell_type": "code",
      "execution_count": null,
      "metadata": {},
      "outputs": [],
      "source": [
        "# We choosed 0.056 as our eps and 10 as our min_samples, proceede with the clusterization\n",
        "dbscan = DBSCAN(eps=0.056, min_samples=10)\n",
        "dbscan.fit(X)\n",
        "\n",
        "# Save number of clusters\n",
        "k = len(np.unique(dbscan.labels_))\n",
        "\n",
        "# Define a new colormap to employ in the visualizations\n",
        "colors = np.array([\n",
        "    (219, 42, 42, 255), # Red\n",
        "    (219, 116, 42, 255), # Orange\n",
        "    (80, 219, 42, 255), # Green\n",
        "    (42, 219, 213, 255), # Cyan\n",
        "    (42, 48, 219, 255), # Blue\n",
        "    (219, 42, 213, 255) # Fuchsia\n",
        "])\n",
        "colors = colors[:k]\n",
        "colors = colors / 255.0\n",
        "cm = LinearSegmentedColormap.from_list('clusters_6', colors, N=6)"
      ]
    },
    {
      "cell_type": "code",
      "metadata": {
        "id": "ONpkXDsJA3K7",
        "outputId": "034e7bed-678a-4d39-d9e1-275978a5030e",
        "colab": {
          "base_uri": "https://localhost:8080/",
          "height": 447
        }
      },
      "source": [
        "# 3D Scatter plot of the attributes clusterized\n",
        "def cluster_scatter_3d(view_init=None, filename=\"\"):\n",
        "    fig = plt.figure()\n",
        "    ax = fig.add_subplot(111, projection='3d')\n",
        "\n",
        "    c1, c2, c3 = attr_cluster\n",
        "    scatter = ax.scatter3D(cdf_cluster[c1], cdf_cluster[c2], cdf_cluster[c3], c=dbscan.labels_, label=dbscan.labels_, s=20, cmap=cm)\n",
        "    ax.set_xlabel(c1)\n",
        "    ax.set_ylabel(c2)\n",
        "    ax.set_zlabel(c3)\n",
        "\n",
        "    legend1 = ax.legend(*scatter.legend_elements(), title=\"Clusters\")\n",
        "    ax.add_artist(legend1)\n",
        "\n",
        "    if view_init:\n",
        "        ax.view_init(*view_init)\n",
        "\n",
        "    plot(None, figsize=(6,6), filename=filename)\n",
        "\n",
        "cluster_scatter_3d(filename=\"Attr_3D\")\n",
        "cluster_scatter_3d(filename=\"Attr_3D_rot\", view_init=(30,60))"
      ],
      "execution_count": null,
      "outputs": []
    }
  ]
}