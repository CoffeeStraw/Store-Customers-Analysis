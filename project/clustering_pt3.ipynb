{
 "metadata": {
  "language_info": {
   "codemirror_mode": {
    "name": "ipython",
    "version": 3
   },
   "file_extension": ".py",
   "mimetype": "text/x-python",
   "name": "python",
   "nbconvert_exporter": "python",
   "pygments_lexer": "ipython3",
   "version": "3.8.5-final"
  },
  "orig_nbformat": 2,
  "kernelspec": {
   "name": "python3",
   "display_name": "Python 3"
  }
 },
 "nbformat": 4,
 "nbformat_minor": 2,
 "cells": [
  {
   "source": [
    "# DATA MINING PROJECT: Analysis of a Supermarket’s Customers\n",
    "## 2.3) Clustering Analysis: Hierarchical\n",
    "### *Antonio Strippoli, Valerio Mariani*"
   ],
   "cell_type": "markdown",
   "metadata": {}
  },
  {
   "cell_type": "code",
   "execution_count": null,
   "metadata": {},
   "outputs": [],
   "source": [
    "%matplotlib inline\n",
    "import numpy as np\n",
    "import pandas as pd\n",
    "import seaborn as sn\n",
    "import matplotlib.pyplot as plt\n",
    "from sklearn.preprocessing import MinMaxScaler\n",
    "\n",
    "from scipy.spatial.distance import pdist, squareform\n",
    "from sklearn.metrics import silhouette_score, davies_bouldin_score\n",
    "from scipy.cluster.hierarchy import linkage, dendrogram, fcluster, cut_tree\n",
    "\n",
    "pd.set_option('mode.chained_assignment', None)"
   ]
  },
  {
   "cell_type": "code",
   "execution_count": null,
   "metadata": {},
   "outputs": [],
   "source": [
    "def plot(ax, folder=\"clustering_hierarchical\", filename=\"\", figsize=(6.4, 4.8)):\n",
    "    fig = plt.gcf()\n",
    "    fig.set_size_inches(*figsize)\n",
    "    plt.tight_layout()\n",
    "    if filename:\n",
    "        path = os.path.join(\"..\", \"report\", \"imgs\", folder)\n",
    "        if not os.path.exists(path):\n",
    "            os.mkdir(path)\n",
    "        plt.savefig(os.path.join(path, filename))\n",
    "    plt.show()\n",
    "    plt.close()"
   ]
  },
  {
   "cell_type": "code",
   "execution_count": null,
   "metadata": {},
   "outputs": [],
   "source": [
    "# Load dataset for clustering\n",
    "cdf = pd.read_csv(\"customer_profilation.csv\", index_col=0)"
   ]
  },
  {
   "source": [
    "### Definition of attributes employed for clustering"
   ],
   "cell_type": "markdown",
   "metadata": {}
  },
  {
   "cell_type": "code",
   "execution_count": null,
   "metadata": {},
   "outputs": [],
   "source": [
    "# We choosed these 3 attributes, since they usually classify very well customers\n",
    "attr_cluster = ['Recency', 'Frequency', 'Monetary']\n",
    "cdf_cluster = cdf[attr_cluster]\n",
    "\n",
    "# Normalize values\n",
    "scaler = MinMaxScaler()\n",
    "X = scaler.fit_transform(cdf_cluster.values)"
   ]
  },
  {
   "source": [
    "### Clusterization using different algorithms"
   ],
   "cell_type": "markdown",
   "metadata": {}
  },
  {
   "cell_type": "code",
   "execution_count": null,
   "metadata": {},
   "outputs": [],
   "source": [
    "sn.heatmap(squareform(pdist(X, metric='euclidean')))"
   ]
  },
  {
   "cell_type": "code",
   "execution_count": null,
   "metadata": {},
   "outputs": [],
   "source": [
    "# 3D Scatter plot of the attributes clusterized\n",
    "def cluster_scatter_3d(view_init=None, label=None, filename=\"\"):\n",
    "    fig = plt.figure()\n",
    "    ax = fig.add_subplot(111, projection='3d')\n",
    "\n",
    "    c1, c2, c3 = attr_cluster\n",
    "    scatter = ax.scatter3D(cdf_cluster[c1], cdf_cluster[c2], cdf_cluster[c3], c=label, label=label, s=20)\n",
    "    ax.set_xlabel(c1)\n",
    "    ax.set_ylabel(c2)\n",
    "    ax.set_zlabel(c3)\n",
    "\n",
    "    legend1 = ax.legend(*scatter.legend_elements(), title=\"Clusters\")\n",
    "    ax.add_artist(legend1)\n",
    "\n",
    "    if view_init:\n",
    "        ax.view_init(*view_init)\n",
    "\n",
    "    plot(None, figsize=(6,6), filename=filename)\n",
    "\n",
    "def hierarchical_analysis(data_dist, method, metric, height=None):\n",
    "    data_link = linkage(data_dist, method=method, metric=metric)\n",
    "    plot(dendrogram(data_link, truncate_mode='lastp'), filename=f\"{method}_{metric}\")\n",
    "    cdf['label'] = cut_tree(data_link, height=height)\n",
    "    cluster_scatter_3d(label=cdf['label'], filename=f'{method}_{metric}_Scatter3D')\n",
    "\n",
    "def analysis(X, metric='euclidean'):\n",
    "    data_dist = pdist(X, metric=metric)\n",
    "\n",
    "    # Nearest Point Algorithm - MIN\n",
    "    hierarchical_analysis(data_dist, method='single', metric=metric, height=0.14)\n",
    "\n",
    "    # Voor Hees Algorithm - MAX\n",
    "    hierarchical_analysis(data_dist, method='complete', metric=metric, height=1.05)\n",
    "\n",
    "    # UPGMA Algorithm - Group Average\n",
    "    hierarchical_analysis(data_dist, method='average', metric=metric, height=0.6)"
   ]
  },
  {
   "cell_type": "code",
   "execution_count": null,
   "metadata": {},
   "outputs": [],
   "source": [
    "analysis(X, metric='euclidean')"
   ]
  },
  {
   "cell_type": "code",
   "execution_count": null,
   "metadata": {},
   "outputs": [],
   "source": [
    "analysis(X, metric='cityblock')"
   ]
  },
  {
   "cell_type": "code",
   "execution_count": null,
   "metadata": {},
   "outputs": [],
   "source": [
    "def last_iterations(metric = 'cityblock', method = 'complete', hs=[]):\n",
    "    data_dist = pdist(X, metric=metric)\n",
    "    data_link = linkage(data_dist, method=method, metric=metric)\n",
    "\n",
    "    dendrogram(data_link, truncate_mode='lastp')\n",
    "\n",
    "    for i, h in enumerate(hs):\n",
    "        cdf['label'] = cut_tree(data_link, height=h)\n",
    "        cluster_scatter_3d(label=cdf['label'], filename=f\"Scatter3D_{i+1}\")"
   ]
  },
  {
   "cell_type": "code",
   "execution_count": null,
   "metadata": {},
   "outputs": [],
   "source": [
    "# Analyze hierarchies produced by euclidean-max\n",
    "last_iterations(metric='euclidean', method = 'complete', hs=[1.4, 1.1, 1, .75, .6, .49])"
   ]
  },
  {
   "cell_type": "code",
   "execution_count": null,
   "metadata": {},
   "outputs": [],
   "source": [
    "# Other tries\n",
    "last_iterations(metric = 'cityblock', method = 'average', hs=[1,.8,.6])\n",
    "last_iterations(metric = 'cityblock', method = 'complete', hs=[2,1.5,1.3])"
   ]
  },
  {
   "cell_type": "code",
   "execution_count": null,
   "metadata": {},
   "outputs": [],
   "source": [
    "data_dist = pdist(X, metric='euclidean')\n",
    "data_link = linkage(data_dist, method='complete', metric='euclidean')\n",
    "labels = cut_tree(data_link, height=.6)\n",
    "\n",
    "sil = round(silhouette_score(X, labels), 2)\n",
    "db = round(davies_bouldin_score(X, labels), 2)\n",
    "print(\"Silhouette:\", sil)\n",
    "print(\"Davies Bouldin:\", db)"
   ]
  }
 ]
}