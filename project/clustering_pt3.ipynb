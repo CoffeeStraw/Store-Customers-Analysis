{
 "metadata": {
  "language_info": {
   "codemirror_mode": {
    "name": "ipython",
    "version": 3
   },
   "file_extension": ".py",
   "mimetype": "text/x-python",
   "name": "python",
   "nbconvert_exporter": "python",
   "pygments_lexer": "ipython3",
   "version": "3.8.5-final"
  },
  "orig_nbformat": 2,
  "kernelspec": {
   "name": "python3",
   "display_name": "Python 3"
  }
 },
 "nbformat": 4,
 "nbformat_minor": 2,
 "cells": [
  {
   "cell_type": "code",
   "execution_count": null,
   "metadata": {},
   "outputs": [],
   "source": [
    "import numpy as np\n",
    "import pandas as pd\n",
    "import seaborn as sn\n",
    "from scipy import stats\n",
    "from math import log, ceil\n",
    "from natsort import natsorted\n",
    "import matplotlib.pyplot as plt\n",
    "\n",
    "from sklearn.preprocessing import StandardScaler, MinMaxScaler\n",
    "from sklearn.cluster import KMeans\n",
    "from sklearn.metrics import silhouette_score\n",
    "from sklearn import metrics\n",
    "from itertools import combinations\n",
    "\n",
    "pd.set_option('mode.chained_assignment', None)\n",
    "\n",
    "from sklearn.cluster import DBSCAN\n",
    "\n",
    "from scipy.stats import mode\n",
    "from scipy.spatial.distance import pdist\n",
    "from scipy.cluster.hierarchy import linkage, dendrogram"
   ]
  },
  {
   "cell_type": "code",
   "execution_count": null,
   "metadata": {},
   "outputs": [],
   "source": [
    "cdf = pd.read_csv(\"customer_profilation.csv\", index_col=0)\n",
    "# HACK\n",
    "cdf = cdf[cdf['Frequency'] < 2000]\n",
    "\n",
    "attr_cluster = ['Recency', 'Frequency', 'Monetary']\n",
    "cdf_cluster = cdf[attr_cluster]"
   ]
  },
  {
   "cell_type": "code",
   "execution_count": null,
   "metadata": {},
   "outputs": [],
   "source": [
    "scaler = MinMaxScaler() # Minmax?\n",
    "X = scaler.fit_transform(cdf_cluster.values)"
   ]
  },
  {
   "cell_type": "code",
   "execution_count": null,
   "metadata": {},
   "outputs": [],
   "source": [
    "data_dist = pdist(X, metric='euclidean')\n",
    "data_link = linkage(data_dist, method='complete', metric='euclidean')\n",
    "res = dendrogram(data_link, color_threshold=1.0, truncate_mode='lastp')"
   ]
  },
  {
   "cell_type": "code",
   "execution_count": null,
   "metadata": {},
   "outputs": [],
   "source": [
    "data_dist = pdist(X, metric='euclidean')\n",
    "data_link = linkage(data_dist, method='single', metric='euclidean')\n",
    "res = dendrogram(data_link, color_threshold=0.2, truncate_mode='lastp')"
   ]
  },
  {
   "cell_type": "code",
   "execution_count": null,
   "metadata": {},
   "outputs": [],
   "source": [
    "data_dist = pdist(X, metric='euclidean')\n",
    "data_link = linkage(data_dist, method='average', metric='euclidean')\n",
    "res = dendrogram(data_link, color_threshold=0.4, truncate_mode='lastp')"
   ]
  },
  {
   "cell_type": "code",
   "execution_count": null,
   "metadata": {},
   "outputs": [],
   "source": []
  }
 ]
}