{
  "nbformat": 4,
  "nbformat_minor": 0,
  "metadata": {
    "language_info": {
      "codemirror_mode": {
        "name": "ipython",
        "version": 3
      },
      "file_extension": ".py",
      "mimetype": "text/x-python",
      "name": "python",
      "nbconvert_exporter": "python",
      "pygments_lexer": "ipython3",
      "version": "3.9.1-final"
    },
    "orig_nbformat": 2,
    "kernelspec": {
      "name": "python3",
      "display_name": "Python 3.9.1 64-bit",
      "metadata": {
        "interpreter": {
          "hash": "64dd129ebe5eea3f7c4ad7a7bed0cd500aa1df55277a1a2f0fc1d960cef7258e"
        }
      }
    },
    "colab": {
      "name": "clustering.ipynb",
      "provenance": [],
      "collapsed_sections": [],
      "toc_visible": true
    }
  },
  "cells": [
    {
      "cell_type": "markdown",
      "metadata": {
        "id": "5tMkvRtkJtzy"
      },
      "source": [
        "# DATA MINING PROJECT: Analysis of a Supermarket’s Customers\n",
        "## 2.1) Clustering Analysis: K-means\n",
        "### *Antonio Strippoli, Valerio Mariani*"
      ]
    },
    {
      "cell_type": "code",
      "metadata": {
        "id": "JCmFk6ueJtzz"
      },
      "source": [
        "%matplotlib inline\n",
        "import numpy as np\n",
        "import pandas as pd\n",
        "import seaborn as sn\n",
        "from math import ceil\n",
        "import matplotlib.pyplot as plt\n",
        "from itertools import combinations\n",
        "from IPython.display import clear_output\n",
        "from matplotlib.colors import LinearSegmentedColormap\n",
        "\n",
        "from sklearn.cluster import KMeans\n",
        "from sklearn.metrics import silhouette_score, davies_bouldin_score\n",
        "from sklearn.preprocessing import MinMaxScaler, StandardScaler\n",
        "\n",
        "pd.set_option('mode.chained_assignment', None)"
      ],
      "execution_count": null,
      "outputs": []
    },
    {
      "cell_type": "code",
      "execution_count": null,
      "metadata": {},
      "outputs": [],
      "source": [
        "def plot(ax, folder=\"clustering_kmeans\", filename=\"\", figsize=(6.4, 4.8)):\n",
        "    fig = plt.gcf()\n",
        "    fig.set_size_inches(*figsize)\n",
        "    plt.tight_layout()\n",
        "    if filename:\n",
        "        path = os.path.join(\"..\", \"..\", \"report\", \"imgs\", folder)\n",
        "        if not os.path.exists(path):\n",
        "            os.mkdir(path)\n",
        "        plt.savefig(os.path.join(path, filename))\n",
        "    plt.show()\n",
        "    plt.close()\n",
        "\n",
        "def plt_radar(df: pd.DataFrame, colors=[], ylabels=True, legend_title=\"\", folder=\"clustering_kmeans\", filename=\"\"):\n",
        "    \"\"\"Represent a DataFrame using a radar plot.\n",
        "    \"\"\"\n",
        "    # Number of variable\n",
        "    categories=list(df.index)\n",
        "    N = len(categories)\n",
        "\n",
        "    # What will be the angle of each axis in the plot? (we divide the plot / number of variable)\n",
        "    angles = [n / float(N) * 2 * np.pi for n in range(N)]\n",
        "    angles += angles[:1]\n",
        "\n",
        "    # Initialise the spider plot\n",
        "    ax = plt.subplot(111, polar=True)\n",
        "\n",
        "    # If you want the first axis to be on top:\n",
        "    ax.set_theta_offset(np.pi / 2)\n",
        "    ax.set_theta_direction(-1)\n",
        "\n",
        "    # Draw one axe per variable + add labels\n",
        "    plt.xticks(angles[:-1], categories)\n",
        "\n",
        "    # Draw ylabels\n",
        "    if ylabels:\n",
        "        ax.set_rlabel_position(0)\n",
        "        ylim = ceil(df.max().max())\n",
        "        ticks = list(range(0,ylim,5))\n",
        "        ticks_str = list(map(lambda x: str(x), ticks))\n",
        "        plt.yticks(ticks, ticks_str, color=\"grey\", size=7)\n",
        "        plt.ylim(0,ylim)\n",
        "\n",
        "    # PART 2: Add plots\n",
        "    for i, c in enumerate(df.columns):\n",
        "        # Ind1\n",
        "        values = list(df[c])\n",
        "        values += values[:1]\n",
        "        ax.plot(angles, values, color=colors[i], linewidth=1, linestyle='solid', label=c)\n",
        "        ax.fill(angles, values, color=colors[i], alpha=0.1)\n",
        "    \n",
        "    # Add legend and plot\n",
        "    plt.legend(title=legend_title, loc='upper right', bbox_to_anchor=(0.1, 0.1))\n",
        "    plot(None, folder=folder, filename=filename)"
      ]
    },
    {
      "cell_type": "code",
      "metadata": {
        "id": "uhH9LYxyJtz4"
      },
      "source": [
        "# Load dataset for clustering\n",
        "cdf = pd.read_csv(\"../DM_25_TASK1/customer_profilation.csv\", index_col=0)"
      ],
      "execution_count": null,
      "outputs": []
    },
    {
      "source": [
        "### Definition of attributes employed for clustering and best k value search"
      ],
      "cell_type": "markdown",
      "metadata": {}
    },
    {
      "cell_type": "code",
      "execution_count": null,
      "metadata": {},
      "outputs": [],
      "source": [
        "def cluster_score(X, k):\n",
        "    kmeans = KMeans(n_clusters=k, n_init=10, max_iter=1000)\n",
        "    kmeans.fit(X)\n",
        "    centers = kmeans.cluster_centers_\n",
        "\n",
        "    # Values\n",
        "    inertia = -1 * kmeans.inertia_ / 100\n",
        "    sil = silhouette_score(X, kmeans.labels_) * 100\n",
        "    k_weight = -1 * (k / 2)**2\n",
        "    return inertia + sil + k_weight"
      ]
    },
    {
      "cell_type": "code",
      "execution_count": null,
      "metadata": {},
      "outputs": [],
      "source": [
        "cdf.drop(columns=['ItemPref','MainCountry','WeekDayPref','WeekMonthPref','PReturn'], inplace=True)\n",
        "\n",
        "combos = list(combinations(cdf.columns.array, 3))\n",
        "\n",
        "score = -100000\n",
        "best = []\n",
        "best_k = 0\n",
        "for i, combo in enumerate(combos):\n",
        "    print(i, \"/\", len(combos))\n",
        "    clear_output(wait=True)\n",
        "    new_cdf = cdf[list(combo)]\n",
        "    scaler = MinMaxScaler()\n",
        "    X = scaler.fit_transform(new_cdf.values)\n",
        "    \n",
        "    for k in range(3, 7):\n",
        "        new_score = cluster_score(X, k)\n",
        "        if new_score > score:\n",
        "            score = new_score\n",
        "            best = list(combo)\n",
        "            best_k = k\n",
        "\n",
        "print(best)\n",
        "print(best_k)\n",
        "print(score)"
      ]
    },
    {
      "cell_type": "code",
      "execution_count": null,
      "metadata": {},
      "outputs": [],
      "source": [
        "# First attempts\n",
        "attr_cluster = ['Recency', 'TotItems', 'Monetary']\n",
        "attr_cluster = ['Recency', 'TotItems', 'MaxSale']\n",
        "attr_cluster = ['Monetary', 'TotItems', 'MeanItemSale'] # Best of 3\n",
        "attr_cluster = ['Frequency', 'TotItems', 'MeanItems', 'MeanBasketSale'] # Best of 4\n",
        "\n",
        "# We choosed these 3 attributes, since they usually classify very well customers\n",
        "attr_cluster = ['Recency', 'Frequency', 'Monetary']\n",
        "cdf_cluster = cdf[attr_cluster]\n",
        "\n",
        "# Normalize values\n",
        "scaler = StandardScaler() # MinMaxScaler\n",
        "X = scaler.fit_transform(cdf_cluster.values)"
      ]
    },
    {
      "cell_type": "code",
      "metadata": {
        "id": "2LpldNUVJtz_",
        "outputId": "3952d2b6-4f92-4e44-a87a-63362d595db8",
        "colab": {
          "base_uri": "https://localhost:8080/",
          "height": 974
        }
      },
      "source": [
        "# Elbow Method: select best value of K based on SSE and Silhouette Score\n",
        "max_k = 30\n",
        "sse_list = []\n",
        "sil_list = []\n",
        "sse_sil_list = []\n",
        "for k in range(2, max_k+1):\n",
        "    # Try to clusterize with current value of k\n",
        "    kmeans = KMeans(n_clusters=k, init=\"k-means++\", n_init=10, max_iter=100)\n",
        "    kmeans.fit(X)\n",
        "    \n",
        "    # Save scores\n",
        "    inertia = -1* kmeans.inertia_ / 100\n",
        "    sil = silhouette_score(X, kmeans.labels_) * 100\n",
        "    k_weight = -1*(k / 2)**2\n",
        "\n",
        "    sse_list.append(-inertia)\n",
        "    sil_list.append(sil)\n",
        "    sse_sil_list.append(inertia + sil + k_weight)\n",
        "\n",
        "# Plot scores\n",
        "plt.plot(range(2, len(sse_list) + 2), sse_list, marker='o')\n",
        "plt.ylabel('SSE', fontsize=22)\n",
        "plt.xlabel('K', fontsize=22)\n",
        "plot(None, filename=\"SSE\")\n",
        "\n",
        "plt.plot(range(2, len(sil_list) + 2), sil_list, marker='o')\n",
        "plt.ylabel('Silhouette Score', fontsize=22)\n",
        "plt.xlabel('K', fontsize=22)\n",
        "plot(None, filename=\"Silhouette\")\n",
        "\n",
        "plt.plot(range(2, len(sse_sil_list) + 2), sse_sil_list, marker='o')\n",
        "plt.ylabel('Combined Score', fontsize=22)\n",
        "plt.xlabel('K', fontsize=22)\n",
        "plot(None, filename=\"Combined_Score\")\n",
        "\n",
        "print(max(sse_sil_list))"
      ],
      "execution_count": null,
      "outputs": []
    },
    {
      "source": [
        "### Clusterization, distribution of the choosed attributes, analysis of the centroids"
      ],
      "cell_type": "markdown",
      "metadata": {}
    },
    {
      "cell_type": "code",
      "execution_count": null,
      "metadata": {},
      "outputs": [],
      "source": [
        "# We choosed 6 as our number of clusters, proceede with the clusterization\n",
        "kmeans = KMeans(n_clusters=5, init=\"k-means++\", n_init=100, max_iter=1000)\n",
        "kmeans.fit(X)\n",
        "\n",
        "sse = round(kmeans.inertia_, 2)\n",
        "sil = round(silhouette_score(X, kmeans.labels_), 2)\n",
        "db = round(davies_bouldin_score(X, kmeans.labels_), 2)\n",
        "print(\"SSE:\", sse)\n",
        "print(\"Silhouette:\", sil)\n",
        "print(\"Davies Bouldin:\", db)\n",
        "\n",
        "# Save centroids\n",
        "centers = scaler.inverse_transform(kmeans.cluster_centers_)\n",
        "\n",
        "# Define a new colormap to employ in the visualizations\n",
        "colors = np.array([\n",
        "    (219, 42, 42, 255), # Red\n",
        "    (219, 116, 42, 255), # Orange\n",
        "    (80, 219, 42, 255), # Green\n",
        "    (42, 219, 213, 255), # Cyan\n",
        "    (42, 48, 219, 255), # Blue\n",
        "])\n",
        "colors = colors / 255.0\n",
        "cm = LinearSegmentedColormap.from_list('clusters_6', colors, N=5)"
      ]
    },
    {
      "cell_type": "code",
      "execution_count": null,
      "metadata": {},
      "outputs": [],
      "source": [
        "# 3D Scatter plot of the attributes clusterized\n",
        "def cluster_scatter_3d(view_init=None, filename=\"\"):\n",
        "    fig = plt.figure()\n",
        "    ax = fig.add_subplot(111, projection='3d')\n",
        "\n",
        "    c1, c2, c3 = attr_cluster\n",
        "    scatter = ax.scatter3D(cdf_cluster[c1], cdf_cluster[c2], cdf_cluster[c3], c=kmeans.labels_, label=kmeans.labels_, s=20, cmap=cm)\n",
        "    ax.scatter3D(centers[:, 0], centers[:, 1], centers[:, 2], s=200, marker='*', c='k')\n",
        "    ax.set_xlabel(c1)\n",
        "    ax.set_ylabel(c2)\n",
        "    ax.set_zlabel(c3)\n",
        "\n",
        "    legend1 = ax.legend(*scatter.legend_elements(), title=\"Clusters\")\n",
        "    ax.add_artist(legend1)\n",
        "\n",
        "    if view_init:\n",
        "        ax.view_init(*view_init)\n",
        "\n",
        "    plot(None, figsize=(6,6), filename=filename)\n",
        "\n",
        "cluster_scatter_3d(filename=\"Attr_3D\")\n",
        "cluster_scatter_3d(filename=\"Attr_3D_rot\", view_init=(30,60))"
      ]
    },
    {
      "cell_type": "code",
      "execution_count": null,
      "metadata": {},
      "outputs": [],
      "source": [
        "# Get normalized centers\n",
        "norm_centers = kmeans.cluster_centers_\n",
        "\n",
        "# Centroids plotted using parallel coordinates\n",
        "for i in range(0, len(norm_centers)):\n",
        "    plt.plot(norm_centers[i], marker='o', label=str(i), color=colors[i])\n",
        "plt.tick_params(axis='both', which='major', labelsize=22)\n",
        "plt.xticks(range(0, len(cdf_cluster.columns)), cdf_cluster.columns, fontsize=18)\n",
        "plt.legend(title=\"Clusters\", bbox_to_anchor=(1, 1), loc='upper left')\n",
        "plot(None, filename=\"Parallel_Coordinates\")\n",
        "\n",
        "# Centroids using Radar Plot\n",
        "centroids_df = pd.DataFrame(norm_centers, columns=attr_cluster).T\n",
        "plt_radar(centroids_df, ylabels=False, legend_title=\"Clusters\", colors=colors, filename=\"Radar\")"
      ]
    },
    {
      "source": [
        "### Further clusters analysis"
      ],
      "cell_type": "markdown",
      "metadata": {}
    },
    {
      "cell_type": "code",
      "metadata": {
        "id": "JW_dkJaGJt0D"
      },
      "source": [
        "# Add Cluster Labels to the dataset\n",
        "cdf = pd.read_csv(\"../DM_25_TASK1/customer_profilation.csv\", index_col=0)\n",
        "cdf['ClusterLabels'] = kmeans.labels_"
      ],
      "execution_count": null,
      "outputs": []
    },
    {
      "cell_type": "code",
      "metadata": {
        "id": "559xB-OaQc1_",
        "outputId": "55421ab6-bde3-4b2d-87d0-9d4b3d4340d9",
        "colab": {
          "base_uri": "https://localhost:8080/",
          "height": 293
        }
      },
      "source": [
        "# Barplot of Clusters distribution\n",
        "plot(cdf.groupby('ClusterLabels')['Recency'].count().plot.bar(), filename=\"Distribution\")"
      ],
      "execution_count": null,
      "outputs": []
    },
    {
      "cell_type": "code",
      "metadata": {
        "id": "qcNur8_gJt0F",
        "outputId": "f7938d83-a0fc-4f76-b88f-ed604a2eea50",
        "colab": {
          "base_uri": "https://localhost:8080/",
          "height": 1000
        }
      },
      "source": [
        "# PlotBox of attributes utilized for clusterization\n",
        "plot(sn.boxplot(x='ClusterLabels', y='Recency', data=cdf), filename=\"Recency_BP\")\n",
        "plot(sn.boxplot(x='ClusterLabels', y='Frequency', data=cdf), filename=\"Frequency_BP\")\n",
        "plot(sn.boxplot(x='ClusterLabels', y='Monetary', data=cdf), filename=\"Monetary_BP\")"
      ],
      "execution_count": null,
      "outputs": []
    },
    {
      "cell_type": "code",
      "metadata": {
        "id": "RJLXsbICPvLk",
        "outputId": "590d5434-7c05-4e13-e853-7fe07c670043",
        "colab": {
          "base_uri": "https://localhost:8080/",
          "height": 355
        }
      },
      "source": [
        "# PReturn distribution\n",
        "# Result: Gruppo 1 ha PReturn più alta e recency alta (non vengono da un po' ed hanno dato via parecchia roba)\n",
        "preturn_mean = cdf[['ClusterLabels', 'PReturn']].groupby('ClusterLabels').agg('mean')\n",
        "plot(preturn_mean.plot.bar(), filename=\"PReturn\")"
      ],
      "execution_count": null,
      "outputs": []
    },
    {
      "cell_type": "code",
      "metadata": {
        "id": "Yw45aedZXL0p",
        "outputId": "8e00655e-d9e0-4f7b-f233-83be74314e3a",
        "colab": {
          "base_uri": "https://localhost:8080/",
          "height": 266
        }
      },
      "source": [
        "# Preferred item for each cluster\n",
        "df = pd.read_csv('customer_supermarket_2.csv', index_col=0, parse_dates=[\"PurchaseDate\"])\n",
        "preferred_items = cdf[['ClusterLabels', 'ItemPref']].groupby('ClusterLabels').agg(lambda x: x.mode().iloc[0])\n",
        "preferred_items['ProdDescr'] = [df[df['ProdID'] == element]['ProdDescr'].iloc[0] for element in preferred_items['ItemPref']]\n",
        "preferred_items"
      ],
      "execution_count": null,
      "outputs": []
    },
    {
      "cell_type": "code",
      "metadata": {
        "id": "deHlwb9uaMyL",
        "outputId": "27152ac5-6fc2-4f90-9b1e-408dffc3ff9a",
        "colab": {
          "base_uri": "https://localhost:8080/",
          "height": 266
        }
      },
      "source": [
        "# Populars attributes of each cluster: MainCountry\n",
        "cdf[['ClusterLabels', 'MainCountry']].groupby('ClusterLabels').agg(lambda x: x.mode().iloc[0])"
      ],
      "execution_count": null,
      "outputs": []
    },
    {
      "cell_type": "code",
      "metadata": {
        "id": "bcQ3Qupnacn7",
        "outputId": "ff1f4f97-0efd-4464-8ca7-a6d64d1dadd7",
        "colab": {
          "base_uri": "https://localhost:8080/",
          "height": 266
        }
      },
      "source": [
        "# Populars attributes of each cluster: WeekDayPref\n",
        "cdf[['ClusterLabels', 'WeekDayPref']].groupby('ClusterLabels').agg(lambda x: x.mode().iloc[0])"
      ],
      "execution_count": null,
      "outputs": []
    },
    {
      "cell_type": "code",
      "metadata": {
        "id": "mu9HHf8Cahie",
        "outputId": "7aaffd8a-c1d3-4e54-d0a7-3172db1e34bd",
        "colab": {
          "base_uri": "https://localhost:8080/",
          "height": 266
        }
      },
      "source": [
        "# Populars attributes of each cluster: WeekMonthPref\n",
        "cdf[['ClusterLabels', 'WeekMonthPref']].groupby('ClusterLabels').agg(lambda x: x.mode().iloc[0])"
      ],
      "execution_count": null,
      "outputs": []
    },
    {
      "cell_type": "code",
      "metadata": {
        "id": "KZFSZqk_Jt0O"
      },
      "source": [
        "# Entropies plot box\n",
        "plot(sn.boxplot(x='ClusterLabels', y='E-Qta', data=cdf), filename=\"EQta_BP\")\n",
        "plot(sn.boxplot(x='ClusterLabels', y='E-Sale', data=cdf), filename=\"ESale_BP\")"
      ],
      "execution_count": null,
      "outputs": []
    },
    {
      "cell_type": "code",
      "execution_count": null,
      "metadata": {},
      "outputs": [],
      "source": [
        "# Popular mean item sale\n",
        "mean_item_sale = cdf[['ClusterLabels', 'MeanItemSale']].groupby('ClusterLabels').agg('mean')\n",
        "plot(mean_item_sale.plot.bar(), filename=\"MeanItemSale\")"
      ]
    }
  ]
}