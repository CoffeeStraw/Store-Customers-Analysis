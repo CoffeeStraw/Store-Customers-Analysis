{
  "nbformat": 4,
  "nbformat_minor": 0,
  "metadata": {
    "colab": {
      "name": "03_clustering_pt4.ipynb",
      "provenance": [],
      "collapsed_sections": []
    },
    "kernelspec": {
      "display_name": "Python 3",
      "language": "python",
      "name": "python3"
    },
    "language_info": {
      "codemirror_mode": {
        "name": "ipython",
        "version": 3
      },
      "file_extension": ".py",
      "mimetype": "text/x-python",
      "name": "python",
      "nbconvert_exporter": "python",
      "pygments_lexer": "ipython3",
      "version": "3.8.6-final"
    }
  },
  "cells": [
    {
      "cell_type": "markdown",
      "metadata": {
        "id": "E9M1qaRH3y48"
      },
      "source": [
        "# DATA MINING PROJECT: Analysis of a Supermarket’s Customers\n",
        "## 2.3-optional) Clustering Analysis: Pyclustering\n",
        "### *Antonio Strippoli, Valerio Mariani*"
      ]
    },
    {
      "cell_type": "code",
      "metadata": {
        "colab": {
          "base_uri": "https://localhost:8080/"
        },
        "id": "ek6M-9Jt4cu-",
        "outputId": "49fee593-1753-4c91-c307-bf5468154e53"
      },
      "source": [
        "!pip3 install pyclustering"
      ],
      "execution_count": null,
      "outputs": []
    },
    {
      "cell_type": "code",
      "metadata": {
        "id": "rxYEIe473y4_"
      },
      "source": [
        "%matplotlib inline\n",
        "import numpy as np\n",
        "import pandas as pd\n",
        "import seaborn as sn\n",
        "import matplotlib.pyplot as plt\n",
        "from sklearn.preprocessing import MinMaxScaler"
      ],
      "execution_count": null,
      "outputs": []
    },
    {
      "cell_type": "code",
      "metadata": {
        "id": "671-kq7D3y5A"
      },
      "source": [
        "def load_and_scale(range=(0,1)):\n",
        "    # Load dataset for clustering\n",
        "    cdf = pd.read_csv(\"../DM_25_TASK1/customer_profilation.csv\", index_col=0)\n",
        "\n",
        "    # We choosed these 3 attributes, since they usually classify very well customers\n",
        "    attr_cluster = ['Recency', 'Frequency', 'Monetary']\n",
        "    cdf_cluster = cdf[attr_cluster]\n",
        "\n",
        "    # Normalize values\n",
        "    scaler = MinMaxScaler(feature_range= range) \n",
        "    X = scaler.fit_transform(cdf_cluster.values)\n",
        "\n",
        "    return X"
      ],
      "execution_count": null,
      "outputs": []
    },
    {
      "cell_type": "code",
      "metadata": {
        "id": "6qCbtaS03y5B",
        "colab": {
          "base_uri": "https://localhost:8080/",
          "height": 266
        },
        "outputId": "fe87e754-e50a-4f8a-a3dc-bbbe9d3400bc"
      },
      "source": [
        "# x-means to automatically determine number of clusters\n",
        "from pyclustering.cluster import cluster_visualizer\n",
        "from pyclustering.cluster.xmeans import xmeans\n",
        "from pyclustering.cluster.center_initializer import kmeans_plusplus_initializer\n",
        "\n",
        "# Prepare initial center\n",
        "X = load_and_scale()\n",
        "amount_initial_centers = 1\n",
        "initial_centers = kmeans_plusplus_initializer(X, amount_initial_centers).initialize()\n",
        "# Create instance of X-Means algorithm. The algorithm will start analysis from 1 cluster, the maximum number of clusters that can be allocated is 100.\n",
        "xmeans_instance = xmeans(X, initial_centers, 100)\n",
        "xmeans_instance.process()\n",
        "# Extract clustering results: clusters and their centers\n",
        "clusters = xmeans_instance.get_clusters()\n",
        "centers = xmeans_instance.get_centers()\n",
        "# Visualize clustering results\n",
        "visualizer = cluster_visualizer()\n",
        "visualizer.append_clusters(clusters, X)\n",
        "visualizer.append_cluster(centers, None, marker='*')\n",
        "visualizer.show()\n",
        "\n",
        "print( len(clusters) ) "
      ],
      "execution_count": null,
      "outputs": []
    },
    {
      "source": [
        "### Fuzzy c-means"
      ],
      "cell_type": "markdown",
      "metadata": {}
    },
    {
      "cell_type": "code",
      "metadata": {
        "colab": {
          "base_uri": "https://localhost:8080/",
          "height": 1000
        },
        "id": "IHcszc1WxiZ3",
        "outputId": "f34b5527-cb9b-49f3-d472-2a6f72a7eac2"
      },
      "source": [
        "from pyclustering.cluster import cluster_visualizer\n",
        "from pyclustering.cluster.center_initializer import kmeans_plusplus_initializer\n",
        "from pyclustering.cluster.fcm import fcm\n",
        "\n",
        "import matplotlib.pyplot as plt\n",
        "plt.rcParams[\"figure.figsize\"] = (7,5)\n",
        "\n",
        "def test_fcm(n_init_centers, m):\n",
        "  # initialize\n",
        "  X = load_and_scale()\n",
        "  initial_centers = kmeans_plusplus_initializer(X, n_init_centers, kmeans_plusplus_initializer.FARTHEST_CENTER_CANDIDATE).initialize()\n",
        "  # create instance of Fuzzy C-Means algorithm\n",
        "  fcm_instance = fcm(X, initial_centers, m=m)\n",
        "  # run cluster analysis and obtain results\n",
        "  fcm_instance.process()\n",
        "  clusters = fcm_instance.get_clusters()\n",
        "  centers = fcm_instance.get_centers()\n",
        "  # visualize clustering results\n",
        "  visualizer = cluster_visualizer()\n",
        "  visualizer.append_clusters(clusters, X)\n",
        "  #visualizer.append_cluster(centers, marker='*', markersize=2)\n",
        "  visualizer.show()\n",
        "\n",
        "test_fcm(5,2)\n",
        "test_fcm(6,2.1)\n",
        "test_fcm(6,2.2)\n",
        "test_fcm(6,2.5)"
      ],
      "execution_count": null,
      "outputs": []
    },
    {
      "source": [
        "### Expectation Maximization (EM) to reach Maximum Likelihood Estimation"
      ],
      "cell_type": "markdown",
      "metadata": {}
    },
    {
      "cell_type": "code",
      "metadata": {
        "id": "nS-vSu8v3y5B",
        "colab": {
          "base_uri": "https://localhost:8080/",
          "height": 479
        },
        "outputId": "05b47756-1f3e-42be-f32d-8145384ee782"
      },
      "source": [
        "from pyclustering.cluster.ema import ema, ema_visualizer\n",
        "from pyclustering.utils import read_sample\n",
        "\n",
        "# Create EM istance\n",
        "X = load_and_scale()\n",
        "ema_instance = ema(X, 5)\n",
        "# Run clustering process.\n",
        "ema_instance.process()\n",
        "# Get clustering results.\n",
        "clusters = ema_instance.get_clusters()\n",
        "covariances = ema_instance.get_covariances()\n",
        "means = ema_instance.get_centers()\n",
        "# Visualize obtained clustering results.\n",
        "ema_visualizer.show_clusters(clusters, X, covariances, means)"
      ],
      "execution_count": null,
      "outputs": []
    },
    {
      "source": [
        "### Genetic algorithm"
      ],
      "cell_type": "markdown",
      "metadata": {}
    },
    {
      "cell_type": "code",
      "metadata": {
        "id": "QncqEUx03y5C"
      },
      "source": [
        "%%time\n",
        "from pyclustering.cluster.ga import genetic_algorithm, ga_observer, ga_visualizer\n",
        "\n",
        "\n",
        "X=load_and_scale(range=(.01,.9)) # bug: contrary to what docs say, interval needs to be included\n",
        "observer_instance = ga_observer(True, True, True)\n",
        "\n",
        "# Create genetic algorithm for clustering\n",
        "X = load_and_scale()\n",
        "ga_instance = genetic_algorithm(data=X,\n",
        "                                count_clusters=4,# number of clusters\n",
        "                                chromosome_count=500, # elementi per popolazione\n",
        "                                population_count=2000, # The amount of populations that essentially defines the amount of iterations. \n",
        "                                count_mutation_gens=1,\n",
        "                                observer = observer_instance)\n",
        " \n",
        "# Start processing\n",
        "ga_instance.process()\n",
        " \n",
        "# Obtain results and show'em\n",
        "clusters = ga_instance.get_clusters()\n",
        "ga_visualizer.show_clusters(X, observer_instance)\n",
        "\n",
        "# Print n. of clustersstrict\n",
        "print(\"Amount of clusters: '%d'\" % len(clusters))"
      ],
      "execution_count": null,
      "outputs": []
    },
    {
      "source": [
        "### Optic"
      ],
      "cell_type": "markdown",
      "metadata": {}
    },
    {
      "cell_type": "code",
      "metadata": {
        "id": "kw5zVY9N3y5D",
        "colab": {
          "base_uri": "https://localhost:8080/",
          "height": 699
        },
        "outputId": "8d842aa5-f2b9-478c-ad8f-181ed29e57d6"
      },
      "source": [
        "from pyclustering.cluster import cluster_visualizer\n",
        "from pyclustering.cluster.optics import optics, ordering_analyser, ordering_visualizer\n",
        "import matplotlib.pyplot as plt\n",
        "\n",
        "# Run cluster analysis where connectivity radius is bigger than real.\n",
        "radius = 0.08\n",
        "neighbors = 4\n",
        "X = load_and_scale()\n",
        "optics_instance = optics(X, radius, neighbors)\n",
        " \n",
        "# Performs cluster analysis.\n",
        "optics_instance.process()\n",
        " \n",
        "# Obtain results of clustering.\n",
        "clusters = optics_instance.get_clusters()\n",
        "noise = optics_instance.get_noise()\n",
        "ordering = optics_instance.get_ordering()\n",
        "\n",
        "plt.rcParams[\"figure.figsize\"] = (7,5)\n",
        "\n",
        "# Visualize clustering results (clusters and outliers).\n",
        "visualizer = cluster_visualizer()\n",
        "visualizer.append_clusters(clusters, X)\n",
        "visualizer.append_cluster(noise, X, marker='x')\n",
        "visualizer.show()\n",
        "\n",
        "plt.rcParams[\"figure.figsize\"] = (20,7)\n",
        "\n",
        "# Display ordering.\n",
        "analyser = ordering_analyser(ordering)\n",
        "ordering_visualizer.show_ordering_diagram(analyser,4)"
      ],
      "execution_count": null,
      "outputs": []
    }
  ]
}