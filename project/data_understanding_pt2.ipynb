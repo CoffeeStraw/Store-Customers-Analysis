{
 "metadata": {
  "language_info": {
   "codemirror_mode": {
    "name": "ipython",
    "version": 3
   },
   "file_extension": ".py",
   "mimetype": "text/x-python",
   "name": "python",
   "nbconvert_exporter": "python",
   "pygments_lexer": "ipython3",
   "version": "3.8.5-final"
  },
  "orig_nbformat": 2,
  "kernelspec": {
   "name": "python3",
   "display_name": "Python 3"
  }
 },
 "nbformat": 4,
 "nbformat_minor": 2,
 "cells": [
  {
   "source": [
    "# DATA MINING PROJECT: Analysis of a Supermarket’s Customers\n",
    "## 1.1) Data Understanding: Distribution, Statistics & Correlation\n",
    "### *Antonio Strippoli, Valerio Mariani*"
   ],
   "cell_type": "markdown",
   "metadata": {}
  },
  {
   "cell_type": "code",
   "execution_count": null,
   "metadata": {},
   "outputs": [],
   "source": [
    "%matplotlib inline\n",
    "import numpy as np\n",
    "import pandas as pd\n",
    "import seaborn as sn\n",
    "from scipy import stats\n",
    "from math import log, ceil\n",
    "from natsort import natsorted\n",
    "import matplotlib.pyplot as plt\n",
    "\n",
    "pd.set_option('mode.chained_assignment', None)"
   ]
  },
  {
   "cell_type": "code",
   "execution_count": null,
   "metadata": {},
   "outputs": [],
   "source": [
    "def plot(ax, filename=\"\", figsize=(6.4, 4.8)):\n",
    "    ax.figure.set_size_inches(*figsize)\n",
    "    ax.figure.tight_layout()\n",
    "    if filename:\n",
    "        ax.figure.savefig(f\"../report/imgs/{filename}\")\n",
    "    plt.show()\n",
    "    plt.close()\n",
    "\n",
    "def plt_radar(df: pd.DataFrame, filepath=\"\"):\n",
    "    \"\"\"Represent a DataFrame using a radar plot.\n",
    "    \"\"\"\n",
    "    # Number of variable\n",
    "    categories=list(df.index)\n",
    "    N = len(categories)\n",
    "\n",
    "    # What will be the angle of each axis in the plot? (we divide the plot / number of variable)\n",
    "    angles = [n / float(N) * 2 * np.pi for n in range(N)]\n",
    "    angles += angles[:1]\n",
    "\n",
    "    # Initialise the spider plot\n",
    "    ax = plt.subplot(111, polar=True)\n",
    "\n",
    "    # If you want the first axis to be on top:\n",
    "    ax.set_theta_offset(np.pi / 2)\n",
    "    ax.set_theta_direction(-1)\n",
    "\n",
    "    # Draw one axe per variable + add labels labels yet\n",
    "    plt.xticks(angles[:-1], categories)\n",
    "\n",
    "    # Draw ylabels\n",
    "    ax.set_rlabel_position(0)\n",
    "    ylim = ceil(df.max().max())\n",
    "    ticks = list(range(0,ylim,5))\n",
    "    ticks_str = list(map(lambda x: str(x), ticks))\n",
    "    plt.yticks(ticks, ticks_str, color=\"grey\", size=7)\n",
    "    plt.ylim(0,ylim)\n",
    "\n",
    "    # PART 2: Add plots\n",
    "    # Ind1\n",
    "    values = list(df[df.columns[0]])\n",
    "    values += values[:1]\n",
    "    ax.plot(angles, values, linewidth=1, linestyle='solid', label=df.columns[0])\n",
    "    ax.fill(angles, values, 'b', alpha=0.1)\n",
    "    \n",
    "    # Ind2\n",
    "    values = list(df[df.columns[1]])\n",
    "    values += values[:1]\n",
    "    ax.plot(angles, values, linewidth=1, linestyle='solid', label=df.columns[1])\n",
    "    ax.fill(angles, values, 'r', alpha=0.1)\n",
    "    \n",
    "    # Add legend and tight the layout\n",
    "    plt.legend(loc='upper right', bbox_to_anchor=(0.1, 0.1))\n",
    "    plt.tight_layout()\n",
    "\n",
    "    # Show or save?\n",
    "    if not filepath:\n",
    "        plt.show()\n",
    "        plt.close()\n",
    "    else:\n",
    "        plt.savefig(filepath)"
   ]
  },
  {
   "cell_type": "code",
   "execution_count": null,
   "metadata": {},
   "outputs": [],
   "source": [
    "# Load the secondary data from the given file\n",
    "df = pd.read_csv('customer_supermarket_2.csv', index_col=0, parse_dates=[\"PurchaseDate\"])"
   ]
  },
  {
   "cell_type": "code",
   "execution_count": null,
   "metadata": {},
   "outputs": [],
   "source": [
    "# Prints data's samples and informations,\n",
    "# including the number of not null values for each columns\n",
    "df.info()\n",
    "print(\"\")\n",
    "df.head()"
   ]
  },
  {
   "cell_type": "code",
   "execution_count": null,
   "metadata": {},
   "outputs": [],
   "source": [
    "# Sale statistics\n",
    "print(\"SALE DESCRIBE:\\n\", df[\"Sale\"].describe())\n",
    "\n",
    "# Sale distribution\n",
    "df_products_catalog = df[[\"ProdID\", \"Sale\"]].drop_duplicates()[\"Sale\"]\n",
    "print(\"PRODUCTS CATALOG DESCRIBE:\\n\", df_products_catalog.describe())\n",
    "\n",
    "plot(df_products_catalog[df_products_catalog < 100].hist(bins=50), filename=\"Sale_Distribution\")\n",
    "plot(df_products_catalog.plot.box(), filename=\"Sale_Box_Plot\", figsize=(2, 4.8))"
   ]
  },
  {
   "cell_type": "code",
   "execution_count": null,
   "metadata": {},
   "outputs": [],
   "source": [
    "# Distribution of buys and returns\n",
    "print(\"RATIO QTA POSITIVE/NEGATIVE:\\n\", (df[\"Qta\"] > 0).value_counts())\n",
    "print(\"STATISTICS QTA > 0:\\n\", df[df[\"Qta\"] > 0][\"Qta\"].describe())\n",
    "print(\"STATISTICS QTA < 0:\\n\", df[df[\"Qta\"] < 0][\"Qta\"].describe())\n",
    "\n",
    "plot(\n",
    "    df[abs(df['Qta']) < 75].plot.scatter('Qta', 'Sale', c='Sale', colormap='winter', colorbar=False, figsize=(10,7)),\n",
    "    filename=\"Sale_Qta_Distribution\"\n",
    ")"
   ]
  },
  {
   "cell_type": "code",
   "execution_count": null,
   "metadata": {},
   "outputs": [],
   "source": [
    "# === Monthly statistics ===\n",
    "def year_month(i):\n",
    "    x = df.loc[i]['PurchaseDate']\n",
    "    return f\"{x.year}/{x.month}\"\n",
    "\n",
    "# Number of baskets and profit per month\n",
    "tmp = df[[\"PurchaseDate\", \"Sale\", \"Qta\"]]\n",
    "tmp[\"Profit\"] = tmp[\"Sale\"] * tmp[\"Qta\"]\n",
    "tmp.drop([\"Sale\", \"Qta\"], axis=1, inplace=True)\n",
    "monthly_stats = tmp.groupby(year_month).agg('sum')\n",
    "\n",
    "monthly_stats[\"Baskets\"] = df[[\"PurchaseDate\", \"BasketID\"]].drop_duplicates().groupby(year_month).size()\n",
    "monthly_stats = monthly_stats.reindex(index=natsorted(monthly_stats.index))\n",
    "\n",
    "print(\"MONTHLY STATS:\\n\", monthly_stats)\n",
    "print(\"CORRELAZIONE:\")\n",
    "print(monthly_stats.corr())\n",
    "\n",
    "monthly_stats['Baskets'] = monthly_stats['Baskets'] / sum(monthly_stats['Baskets']) * 100\n",
    "monthly_stats['Profit'] = monthly_stats['Profit'] / sum(monthly_stats['Profit']) * 100\n",
    "\n",
    "plot(monthly_stats.plot.bar(), filename=\"Monthly_Baskets_Profit\", figsize=(14,7))"
   ]
  },
  {
   "cell_type": "code",
   "execution_count": null,
   "metadata": {},
   "outputs": [],
   "source": [
    "# Number of baskets and profit per country\n",
    "tmp = df[[\"CustomerCountry\", \"Sale\", \"Qta\"]]\n",
    "tmp[\"Profit\"] = tmp[\"Sale\"] * tmp[\"Qta\"]\n",
    "tmp.drop([\"Qta\", \"Sale\"], axis=1, inplace=True)\n",
    "country_stats = tmp.groupby(\"CustomerCountry\").agg('sum')\n",
    "\n",
    "country_stats[\"Baskets\"] = df[['CustomerCountry', 'BasketID']].groupby('CustomerCountry').agg(lambda x: x.nunique())['BasketID']\n",
    "\n",
    "print(\"COUNTRY STATS:\\n\", country_stats)\n",
    "print(\"CORRELAZIONE:\")\n",
    "print(country_stats.corr())\n",
    "\n",
    "# First plot: UK vs Other countries\n",
    "tmp = country_stats[country_stats.index != 'United Kingdom'].agg('sum')\n",
    "country_stats1 = country_stats[country_stats.index == 'United Kingdom']\n",
    "country_stats1.loc[\"Others\"] = tmp.values\n",
    "# Normalize values\n",
    "country_stats1['Baskets'] = country_stats1['Baskets'] / sum(country_stats1['Baskets']) * 100\n",
    "country_stats1['Profit'] = country_stats1['Profit'] / sum(country_stats1['Profit']) * 100\n",
    "# Plot\n",
    "plot(country_stats1.plot.bar(), filename=\"Country_Baskets_Profit\", figsize=(4,7))\n",
    "\n",
    "# Second plot: Other countries\n",
    "country_stats2 = country_stats.drop('United Kingdom')\n",
    "# Aggregate small values\n",
    "threshold = 25\n",
    "tmp = country_stats2[country_stats2[\"Baskets\"] < threshold].agg('sum')\n",
    "country_stats2 = country_stats2[country_stats2[\"Baskets\"] >= threshold]\n",
    "country_stats2.loc[\"Others\"] = tmp.values\n",
    "# Normalize values\n",
    "country_stats2['Baskets'] = country_stats2['Baskets'] / sum(country_stats2['Baskets']) * 100\n",
    "country_stats2['Profit'] = country_stats2['Profit'] / sum(country_stats2['Profit']) * 100\n",
    "# Plot\n",
    "plt_radar(country_stats2, \"../report/imgs/Country_Basket_Profit_No_UK\")"
   ]
  },
  {
   "cell_type": "code",
   "execution_count": null,
   "metadata": {},
   "outputs": [],
   "source": [
    "# Monthly activity per country\n",
    "ma_country = df.groupby(['CustomerCountry', year_month]).apply(lambda x: sum(x[\"Qta\"] * x[\"Sale\"]))\n",
    "ma_country = ma_country.unstack(level=0)\n",
    "\n",
    "ma_country = ma_country.reindex(index=natsorted(ma_country.index))\n",
    "cols = list(ma_country.columns)\n",
    "cols.sort(key=lambda x: ma_country[x].notnull().sum())\n",
    "ma_country = ma_country[cols]\n",
    "for i, c in enumerate(ma_country.columns):\n",
    "    ma_country[c][ma_country[c].notnull()] = i\n",
    "\n",
    "ax = ma_country.plot.line(legend=False, style='-o')\n",
    "ax.set_xticks(range(0, len(ma_country.index)))\n",
    "ax.set_xticklabels([x.replace('/', '\\n') for x in ma_country.index])\n",
    "ax.set_yticks(range(0, len(ma_country.columns)))\n",
    "ax.set_yticklabels(list(ma_country.columns))\n",
    "plot(ax, filename=\"Monthly_Activity_Country\", figsize=(16,8))"
   ]
  },
  {
   "cell_type": "code",
   "execution_count": null,
   "metadata": {},
   "outputs": [],
   "source": [
    "# Most popular products\n",
    "print(\"UNIQUE PRODUCTS:\", len(df['ProdID'].unique()))\n",
    "\n",
    "popular_prods = df[['ProdDescr', 'Qta']].groupby('ProdDescr').agg('sum').sort_values(by='Qta', ascending=False).head(10)\n",
    "plot(popular_prods.plot.barh(color='darkred'), filename=\"Products_Popular\", figsize=(10,3))"
   ]
  },
  {
   "cell_type": "code",
   "execution_count": null,
   "metadata": {},
   "outputs": [],
   "source": []
  }
 ]
}