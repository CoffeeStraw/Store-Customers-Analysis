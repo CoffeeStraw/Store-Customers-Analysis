{
 "metadata": {
  "language_info": {
   "codemirror_mode": {
    "name": "ipython",
    "version": 3
   },
   "file_extension": ".py",
   "mimetype": "text/x-python",
   "name": "python",
   "nbconvert_exporter": "python",
   "pygments_lexer": "ipython3",
   "version": "3.8.5-final"
  },
  "orig_nbformat": 2,
  "kernelspec": {
   "name": "python3",
   "display_name": "Python 3"
  }
 },
 "nbformat": 4,
 "nbformat_minor": 2,
 "cells": [
  {
   "source": [
    "# DATA MINING PROJECT: Analysis of a Supermarket’s Customers\n",
    "## 1.2) Data Preparation\n",
    "### *Antonio Strippoli, Valerio Mariani*"
   ],
   "cell_type": "markdown",
   "metadata": {}
  },
  {
   "cell_type": "code",
   "execution_count": null,
   "metadata": {},
   "outputs": [],
   "source": [
    "import numpy as np\n",
    "import pandas as pd\n",
    "import seaborn as sn\n",
    "from scipy import stats\n",
    "from math import log, ceil\n",
    "from natsort import natsorted\n",
    "import matplotlib.pyplot as plt\n",
    "\n",
    "pd.set_option('mode.chained_assignment', None)"
   ]
  },
  {
   "cell_type": "code",
   "execution_count": null,
   "metadata": {},
   "outputs": [],
   "source": [
    "def plot(ax, filename=\"\", figsize=(6.4, 4.8)):\n",
    "    fig = plt.gcf()\n",
    "    fig.set_size_inches(*figsize)\n",
    "    plt.tight_layout()\n",
    "    if filename:\n",
    "        plt.savefig(f\"../report/imgs/{filename}\")\n",
    "    plt.show()\n",
    "    plt.close()\n",
    "\n",
    "def plt_radar(df: pd.DataFrame, filepath=\"\"):\n",
    "    \"\"\"Represent a DataFrame using a radar plot.\n",
    "    \"\"\"\n",
    "    # Number of variable\n",
    "    categories=list(df.index)\n",
    "    N = len(categories)\n",
    "\n",
    "    # What will be the angle of each axis in the plot? (we divide the plot / number of variable)\n",
    "    angles = [n / float(N) * 2 * np.pi for n in range(N)]\n",
    "    angles += angles[:1]\n",
    "\n",
    "    # Initialise the spider plot\n",
    "    ax = plt.subplot(111, polar=True)\n",
    "\n",
    "    # If you want the first axis to be on top:\n",
    "    ax.set_theta_offset(np.pi / 2)\n",
    "    ax.set_theta_direction(-1)\n",
    "\n",
    "    # Draw one axe per variable + add labels labels yet\n",
    "    plt.xticks(angles[:-1], categories)\n",
    "\n",
    "    # Draw ylabels\n",
    "    ax.set_rlabel_position(0)\n",
    "    ylim = ceil(df.max().max())\n",
    "    ticks = list(range(0,ylim,5))\n",
    "    ticks_str = list(map(lambda x: str(x), ticks))\n",
    "    plt.yticks(ticks, ticks_str, color=\"grey\", size=7)\n",
    "    plt.ylim(0,ylim)\n",
    "\n",
    "    # PART 2: Add plots\n",
    "    # Ind1\n",
    "    values = list(df[df.columns[0]])\n",
    "    values += values[:1]\n",
    "    ax.plot(angles, values, linewidth=1, linestyle='solid', label=df.columns[0])\n",
    "    ax.fill(angles, values, 'b', alpha=0.1)\n",
    "    \n",
    "    # Ind2\n",
    "    values = list(df[df.columns[1]])\n",
    "    values += values[:1]\n",
    "    ax.plot(angles, values, linewidth=1, linestyle='solid', label=df.columns[1])\n",
    "    ax.fill(angles, values, 'r', alpha=0.1)\n",
    "    \n",
    "    # Add legend and tight the layout\n",
    "    plt.legend(loc='upper right', bbox_to_anchor=(0.1, 0.1))\n",
    "    plt.tight_layout()\n",
    "\n",
    "    # Show or save?\n",
    "    if not filepath:\n",
    "        plt.show()\n",
    "        plt.close()\n",
    "    else:\n",
    "        plt.savefig(filepath)"
   ]
  },
  {
   "cell_type": "code",
   "execution_count": null,
   "metadata": {},
   "outputs": [],
   "source": [
    "# Load the secondary data from the given file\n",
    "df = pd.read_csv('customer_supermarket_2.csv', index_col=0, parse_dates=[\"PurchaseDate\"])"
   ]
  },
  {
   "source": [
    "### Create a new dataset with a profilation of each customer."
   ],
   "cell_type": "markdown",
   "metadata": {}
  },
  {
   "cell_type": "code",
   "execution_count": null,
   "metadata": {},
   "outputs": [],
   "source": [
    "# Total purchased items\n",
    "tot_items = lambda g: sum( g[\"Qta\"] )\n",
    "# Maximum number of purchased items in a shopping session\n",
    "max_items = lambda g: max( [ sum( g1[1][\"Qta\"] ) for g1 in g.groupby(\"BasketID\") ] )\n",
    "# Medium object in basket\n",
    "mean_items = lambda g: int( np.mean( [ sum( g1[1][\"Qta\"] ) for g1 in g.groupby(\"BasketID\") ] ))\n",
    "# Number of distinct items\n",
    "unique_items = lambda g: g[\"ProdID\"].nunique()\n",
    "# Preferred item\n",
    "preferred_item = lambda g: g.groupby('ProdID').agg({'Qta':'sum'}).idxmax()[0]\n",
    "# Total money spent\n",
    "tot_sale = lambda g: round( sum( g[\"Sale\"]*g[\"Qta\"] ), 2)\n",
    "# Max amount for a basket\n",
    "max_sale = lambda g: round( max( [ sum( g1[1][\"Sale\"]*g1[1][\"Qta\"] ) for g1 in g.groupby(\"BasketID\") ] ), 2)\n",
    "# Medium amount for a basket\n",
    "mean_sale = lambda g: round( np.mean( [ sum( g1[1][\"Sale\"]*g1[1][\"Qta\"] ) for g1 in g.groupby( \"BasketID\" ) ] ), 2)\n",
    "# Medium amount paid for an item\n",
    "mean_item_sale = lambda g: round( np.mean( g[\"Sale\"].unique() ), 2)\n",
    "# Number of baskets\n",
    "n_baskets = lambda g: g['BasketID'].nunique()\n",
    "# Entropy\n",
    "def entropy(g, attr1, attr2, op):\n",
    "    l = g[[attr1, attr2]].groupby(attr1).agg(op)\n",
    "    m = l.values.sum()\n",
    "    e = -sum( [ (mi/m)*log((mi/m), 2) for mi in l.values.flatten() ] )\n",
    "    return round(e, 2)\n",
    "# Main country\n",
    "main_country = lambda g: g[['BasketID','CustomerCountry']].groupby('CustomerCountry').nunique().idxmax()[0]"
   ]
  },
  {
   "cell_type": "code",
   "execution_count": null,
   "metadata": {},
   "outputs": [],
   "source": [
    "groups = df[df[\"Qta\"]>0].groupby(\"CustomerID\")\n",
    "cdf = pd.DataFrame(data=np.array( [\n",
    "    [\n",
    "    group[0],\n",
    "    tot_items(group[1]),\n",
    "    max_items(group[1]),\n",
    "    mean_items(group[1]),\n",
    "    unique_items(group[1]),\n",
    "    preferred_item(group[1]),\n",
    "    tot_sale(group[1]),\n",
    "    max_sale(group[1]),\n",
    "    mean_sale(group[1]),\n",
    "    mean_item_sale(group[1]),\n",
    "    n_baskets(group[1]),\n",
    "    entropy(group[1], \"ProdID\", 'Qta', 'sum'),\n",
    "    entropy(group[1], \"ProdID\", 'Sale', 'sum'),\n",
    "    entropy(group[1], \"PurchaseDate\", 'Qta', 'sum'),\n",
    "    main_country(group[1])\n",
    "    ] for group in groups\n",
    "] ), columns=[\"CustomerID\",\"TotItems\",\"MaxItems\",\"MeanItems\",\"UniqueItems\",\"PrefItem\",\"TotSale\",\"MaxSale\",\"MeanSale\",\"MeanItemSale\",\"NBaskets\",\"E-Qta\",\"E-Sale\",\"E-Date\",\"MainCountry\"] )\n",
    "cdf.set_index('CustomerID', inplace=True)\n",
    "\n",
    "# Workaround for Pandas' bug (not able to convert to correct dtypes)\n",
    "# cdf.convert_dtypes()\n",
    "cdf.to_csv(\"customer_profilation.csv\")\n",
    "cdf = pd.read_csv(\"customer_profilation.csv\", index_col=0)\n",
    "\n",
    "# calculate percentage of returned item for customer\n",
    "groups = df[ (df[\"Qta\"]<0) & ~(df[\"ProdID\"].isin(['M', 'D', 'BANK CHARGES'])) ][['CustomerID','Qta']].groupby(\"CustomerID\").agg('sum')\n",
    "cdf['PReturn'] = pd.Series(\n",
    "    [ round(-groups.loc[i]['Qta']/cdf.loc[i]['TotItems']*100, 2) if i in groups.index else 0 for i in cdf.index ],\n",
    "    index=cdf.index\n",
    ")\n",
    "cdf['SaleRate'] = cdf['TotSale'] / cdf['TotItems']\n",
    "\n",
    "cdf.to_csv(\"customer_profilation.csv\")\n",
    "cdf"
   ]
  },
  {
   "source": [
    "### Distribution & Statistics"
   ],
   "cell_type": "markdown",
   "metadata": {}
  },
  {
   "cell_type": "code",
   "execution_count": null,
   "metadata": {},
   "outputs": [],
   "source": [
    "cdf = pd.read_csv(\"customer_profilation.csv\", index_col=0)\n",
    "\n",
    "print('---------- BASIC INFORMATION ----------')\n",
    "print( cdf.info() )\n",
    "print('---------- INDIVIDUAL ATTRIBUTE STATISTICS ----------')\n",
    "print( cdf.describe() )"
   ]
  },
  {
   "cell_type": "code",
   "execution_count": null,
   "metadata": {},
   "outputs": [],
   "source": [
    "# Pandas' scatter matrix\n",
    "plot(pd.plotting.scatter_matrix(cdf), figsize=(20,20), filename=\"cdf_ScatterMatrix\")"
   ]
  },
  {
   "cell_type": "code",
   "execution_count": null,
   "metadata": {},
   "outputs": [],
   "source": [
    "# Distrituion of numerical attributes with histograms\n",
    "plot(cdf.hist(bins=50), filename=\"cdf_Histograms\", figsize=(10,10))\n",
    "\n",
    "# Distrituion of numerical attributes with box-plots\n",
    "plot(cdf.plot.box(), filename=\"cdf_Box_Plots\")\n",
    "\n",
    "# Pairwise xorrelations with heatmap on correlation matrix\n",
    "plot(sn.heatmap(cdf.corr(), cmap='coolwarm', annot=True), filename=\"cdf_HeatMap_Pairwise_Correlations\", figsize=(10,10))"
   ]
  },
  {
   "cell_type": "code",
   "execution_count": null,
   "metadata": {},
   "outputs": [],
   "source": [
    "# lu vs E\n",
    "cdf['log(lu)'] = np.log(cdf['lu'])\n",
    "_, axes = plt.subplots(nrows=1, ncols=2)\n",
    "cdf.plot.scatter('lu','E',c='l',colormap='viridis',ax=axes[0])\n",
    "cdf.plot.scatter('log(lu)','E',c='l',colormap='viridis' ,ax = axes[1])\n",
    "plot(None, filename=\"cdf_lu_vs_E\", figsize=(12,3))\n",
    "\n",
    "# l vs TotSale\n",
    "plot(cdf.plot.scatter('l','TotSale',c='E',colormap='viridis'), filename=\"cdf_l_vs_TotSale\")\n",
    "\n",
    "# l vs PReturn ( unico che droppa info nascosta: chi ha comprato tanti articoli solitamente non li riporta )\n",
    "cdf['1/PReturn']=np.reciprocal(cdf['PReturn'])\n",
    "fig, axes = plt.subplots(nrows=1, ncols=2)\n",
    "cdf.plot.scatter('l','PReturn',c='E',colormap='viridis' ,ax = axes[0])\n",
    "cdf.plot.scatter('l','1/PReturn',c='E',colormap='viridis' ,ax = axes[1])\n",
    "plot(None, filename=\"cdf_lu_vs_PReturn\", figsize=(12,3))\n",
    "\n",
    "# TotSale vs MeanSale\n",
    "plot(cdf.plot.scatter('TotSale','MeanSale',c='E',colormap='viridis'), filename=\"cdf_TotSale_vs_MeanSale\")\n",
    "\n",
    "# l vs MeanItems\n",
    "plot(cdf.plot.scatter('l','MeanItems',c='E',colormap='viridis'), filename=\"cdf_l_vs_MeanItems\")"
   ]
  },
  {
   "cell_type": "code",
   "execution_count": null,
   "metadata": {},
   "outputs": [],
   "source": []
  }
 ]
}