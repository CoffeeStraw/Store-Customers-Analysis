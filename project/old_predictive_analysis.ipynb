{
 "metadata": {
  "language_info": {
   "codemirror_mode": {
    "name": "ipython",
    "version": 3
   },
   "file_extension": ".py",
   "mimetype": "text/x-python",
   "name": "python",
   "nbconvert_exporter": "python",
   "pygments_lexer": "ipython3",
   "version": "3.8.5-final"
  },
  "orig_nbformat": 2,
  "kernelspec": {
   "name": "python3",
   "display_name": "Python 3"
  }
 },
 "nbformat": 4,
 "nbformat_minor": 2,
 "cells": [
  {
   "source": [
    "# DATA MINING PROJECT: Analysis of a Supermarket’s Customers\n",
    "## 3.1) Predictive Analysis: new customer profile\n",
    "### *Antonio Strippoli, Valerio Mariani*"
   ],
   "cell_type": "markdown",
   "metadata": {}
  },
  {
   "cell_type": "code",
   "execution_count": 1,
   "metadata": {},
   "outputs": [],
   "source": [
    "%matplotlib inline\n",
    "import numpy as np\n",
    "import pandas as pd\n",
    "import seaborn as sn\n",
    "from math import log\n",
    "import matplotlib.pyplot as plt\n",
    "\n",
    "pd.set_option('mode.chained_assignment', None)"
   ]
  },
  {
   "cell_type": "code",
   "execution_count": 2,
   "metadata": {},
   "outputs": [],
   "source": [
    "def plot(ax, folder=\"clustering_kmeans\", filename=\"\", figsize=(6.4, 4.8)):\n",
    "    fig = plt.gcf()\n",
    "    fig.set_size_inches(*figsize)\n",
    "    plt.tight_layout()\n",
    "    if filename:\n",
    "        path = os.path.join(\"..\", \"report\", \"imgs\", folder)\n",
    "        if not os.path.exists(path):\n",
    "            os.mkdir(path)\n",
    "        plt.savefig(os.path.join(path, filename))\n",
    "    plt.show()\n",
    "    plt.close()"
   ]
  },
  {
   "source": [
    "### Check for a good parameter for high-spending, medium-spending and low-spending customers"
   ],
   "cell_type": "markdown",
   "metadata": {}
  },
  {
   "cell_type": "code",
   "execution_count": null,
   "metadata": {},
   "outputs": [],
   "source": [
    "# Load dataset\n",
    "cdf = pd.read_csv(\"customer_profilation.csv\", index_col=0)"
   ]
  },
  {
   "cell_type": "code",
   "execution_count": null,
   "metadata": {},
   "outputs": [],
   "source": [
    "print(cdf['TotItems'].describe())\n",
    "print(cdf['E-Sale'].describe())"
   ]
  },
  {
   "cell_type": "code",
   "execution_count": null,
   "metadata": {},
   "outputs": [],
   "source": [
    "cdf = cdf[cdf['TotItems'] >= cdf['TotItems'].quantile(.25)]"
   ]
  },
  {
   "cell_type": "code",
   "execution_count": null,
   "metadata": {},
   "outputs": [],
   "source": [
    "print(cdf['E-Sale'].describe())"
   ]
  },
  {
   "cell_type": "code",
   "execution_count": null,
   "metadata": {},
   "outputs": [],
   "source": [
    "cdf = cdf[cdf['E-Sale'] >= cdf['E-Sale'].quantile(.25)]"
   ]
  },
  {
   "cell_type": "code",
   "execution_count": null,
   "metadata": {},
   "outputs": [],
   "source": [
    "print(cdf['UniqueItems'].describe())\n",
    "print(cdf['MeanItemSale'].describe())\n",
    "cdf['SaleRate'] = cdf['Monetary'] / cdf['TotItems']\n",
    "cdf.plot.scatter(x='UniqueItems', y='SaleRate')"
   ]
  },
  {
   "cell_type": "code",
   "execution_count": null,
   "metadata": {},
   "outputs": [],
   "source": [
    "cdf['SaleRate'].describe()"
   ]
  },
  {
   "cell_type": "code",
   "execution_count": null,
   "metadata": {},
   "outputs": [],
   "source": [
    "plot(cdf['MeanSale'].hist(bins=100))\n",
    "plot(cdf['MeanSale'].plot.box())\n",
    "cdf['MeanSale'].describe()"
   ]
  },
  {
   "cell_type": "code",
   "execution_count": null,
   "metadata": {},
   "outputs": [],
   "source": [
    "q1, q3 = cdf['MeanSale'].quantile(.25), cdf['MeanSale'].quantile(.75)\n",
    "def get_spending_class(x):\n",
    "    if x < q1:\n",
    "        return 0\n",
    "    elif x < q3:\n",
    "        return 1\n",
    "    return 2  \n",
    "cdf['SpendingClass'] = cdf['MeanSale'].apply(get_spending_class)"
   ]
  },
  {
   "cell_type": "code",
   "execution_count": null,
   "metadata": {},
   "outputs": [],
   "source": [
    "cdf['SpendingClass'].hist()"
   ]
  },
  {
   "source": [
    "NEW TRY"
   ],
   "cell_type": "markdown",
   "metadata": {}
  },
  {
   "cell_type": "code",
   "execution_count": 3,
   "metadata": {},
   "outputs": [],
   "source": [
    "# Load the secondary data\n",
    "df = pd.read_csv('customer_supermarket_2.csv', index_col=0, parse_dates=[\"PurchaseDate\"])"
   ]
  },
  {
   "cell_type": "code",
   "execution_count": 4,
   "metadata": {},
   "outputs": [
    {
     "output_type": "display_data",
     "data": {
      "text/plain": "<Figure size 460.8x345.6 with 1 Axes>",
      "image/svg+xml": "<?xml version=\"1.0\" encoding=\"utf-8\" standalone=\"no\"?>\r\n<!DOCTYPE svg PUBLIC \"-//W3C//DTD SVG 1.1//EN\"\r\n  \"http://www.w3.org/Graphics/SVG/1.1/DTD/svg11.dtd\">\r\n<!-- Created with matplotlib (https://matplotlib.org/) -->\r\n<svg height=\"338.078125pt\" version=\"1.1\" viewBox=\"0 0 453.8 338.078125\" width=\"453.8pt\" xmlns=\"http://www.w3.org/2000/svg\" xmlns:xlink=\"http://www.w3.org/1999/xlink\">\r\n <metadata>\r\n  <rdf:RDF xmlns:cc=\"http://creativecommons.org/ns#\" xmlns:dc=\"http://purl.org/dc/elements/1.1/\" xmlns:rdf=\"http://www.w3.org/1999/02/22-rdf-syntax-ns#\">\r\n   <cc:Work>\r\n    <dc:type rdf:resource=\"http://purl.org/dc/dcmitype/StillImage\"/>\r\n    <dc:date>2020-11-22T12:17:04.731918</dc:date>\r\n    <dc:format>image/svg+xml</dc:format>\r\n    <dc:creator>\r\n     <cc:Agent>\r\n      <dc:title>Matplotlib v3.3.2, https://matplotlib.org/</dc:title>\r\n     </cc:Agent>\r\n    </dc:creator>\r\n   </cc:Work>\r\n  </rdf:RDF>\r\n </metadata>\r\n <defs>\r\n  <style type=\"text/css\">*{stroke-linecap:butt;stroke-linejoin:round;}</style>\r\n </defs>\r\n <g id=\"figure_1\">\r\n  <g id=\"patch_1\">\r\n   <path d=\"M 0 338.078125 \r\nL 453.8 338.078125 \r\nL 453.8 0 \r\nL 0 0 \r\nz\r\n\" style=\"fill:none;\"/>\r\n  </g>\r\n  <g id=\"axes_1\">\r\n   <g id=\"patch_2\">\r\n    <path d=\"M 39.65 314.2 \r\nL 446.6 314.2 \r\nL 446.6 7.2 \r\nL 39.65 7.2 \r\nz\r\n\" style=\"fill:#ffffff;\"/>\r\n   </g>\r\n   <g id=\"matplotlib.axis_1\">\r\n    <g id=\"xtick_1\">\r\n     <g id=\"line2d_1\">\r\n      <defs>\r\n       <path d=\"M 0 0 \r\nL 0 3.5 \r\n\" id=\"m07a7398de4\" style=\"stroke:#000000;stroke-width:0.8;\"/>\r\n      </defs>\r\n      <g>\r\n       <use style=\"stroke:#000000;stroke-width:0.8;\" x=\"243.125\" xlink:href=\"#m07a7398de4\" y=\"314.2\"/>\r\n      </g>\r\n     </g>\r\n     <g id=\"text_1\">\r\n      <!-- Sale -->\r\n      <g transform=\"translate(232.421094 328.798437)scale(0.1 -0.1)\">\r\n       <defs>\r\n        <path d=\"M 53.515625 70.515625 \r\nL 53.515625 60.890625 \r\nQ 47.90625 63.578125 42.921875 64.890625 \r\nQ 37.9375 66.21875 33.296875 66.21875 \r\nQ 25.25 66.21875 20.875 63.09375 \r\nQ 16.5 59.96875 16.5 54.203125 \r\nQ 16.5 49.359375 19.40625 46.890625 \r\nQ 22.3125 44.4375 30.421875 42.921875 \r\nL 36.375 41.703125 \r\nQ 47.40625 39.59375 52.65625 34.296875 \r\nQ 57.90625 29 57.90625 20.125 \r\nQ 57.90625 9.515625 50.796875 4.046875 \r\nQ 43.703125 -1.421875 29.984375 -1.421875 \r\nQ 24.8125 -1.421875 18.96875 -0.25 \r\nQ 13.140625 0.921875 6.890625 3.21875 \r\nL 6.890625 13.375 \r\nQ 12.890625 10.015625 18.65625 8.296875 \r\nQ 24.421875 6.59375 29.984375 6.59375 \r\nQ 38.421875 6.59375 43.015625 9.90625 \r\nQ 47.609375 13.234375 47.609375 19.390625 \r\nQ 47.609375 24.75 44.3125 27.78125 \r\nQ 41.015625 30.8125 33.5 32.328125 \r\nL 27.484375 33.5 \r\nQ 16.453125 35.6875 11.515625 40.375 \r\nQ 6.59375 45.0625 6.59375 53.421875 \r\nQ 6.59375 63.09375 13.40625 68.65625 \r\nQ 20.21875 74.21875 32.171875 74.21875 \r\nQ 37.3125 74.21875 42.625 73.28125 \r\nQ 47.953125 72.359375 53.515625 70.515625 \r\nz\r\n\" id=\"DejaVuSans-83\"/>\r\n        <path d=\"M 34.28125 27.484375 \r\nQ 23.390625 27.484375 19.1875 25 \r\nQ 14.984375 22.515625 14.984375 16.5 \r\nQ 14.984375 11.71875 18.140625 8.90625 \r\nQ 21.296875 6.109375 26.703125 6.109375 \r\nQ 34.1875 6.109375 38.703125 11.40625 \r\nQ 43.21875 16.703125 43.21875 25.484375 \r\nL 43.21875 27.484375 \r\nz\r\nM 52.203125 31.203125 \r\nL 52.203125 0 \r\nL 43.21875 0 \r\nL 43.21875 8.296875 \r\nQ 40.140625 3.328125 35.546875 0.953125 \r\nQ 30.953125 -1.421875 24.3125 -1.421875 \r\nQ 15.921875 -1.421875 10.953125 3.296875 \r\nQ 6 8.015625 6 15.921875 \r\nQ 6 25.140625 12.171875 29.828125 \r\nQ 18.359375 34.515625 30.609375 34.515625 \r\nL 43.21875 34.515625 \r\nL 43.21875 35.40625 \r\nQ 43.21875 41.609375 39.140625 45 \r\nQ 35.0625 48.390625 27.6875 48.390625 \r\nQ 23 48.390625 18.546875 47.265625 \r\nQ 14.109375 46.140625 10.015625 43.890625 \r\nL 10.015625 52.203125 \r\nQ 14.9375 54.109375 19.578125 55.046875 \r\nQ 24.21875 56 28.609375 56 \r\nQ 40.484375 56 46.34375 49.84375 \r\nQ 52.203125 43.703125 52.203125 31.203125 \r\nz\r\n\" id=\"DejaVuSans-97\"/>\r\n        <path d=\"M 9.421875 75.984375 \r\nL 18.40625 75.984375 \r\nL 18.40625 0 \r\nL 9.421875 0 \r\nz\r\n\" id=\"DejaVuSans-108\"/>\r\n        <path d=\"M 56.203125 29.59375 \r\nL 56.203125 25.203125 \r\nL 14.890625 25.203125 \r\nQ 15.484375 15.921875 20.484375 11.0625 \r\nQ 25.484375 6.203125 34.421875 6.203125 \r\nQ 39.59375 6.203125 44.453125 7.46875 \r\nQ 49.3125 8.734375 54.109375 11.28125 \r\nL 54.109375 2.78125 \r\nQ 49.265625 0.734375 44.1875 -0.34375 \r\nQ 39.109375 -1.421875 33.890625 -1.421875 \r\nQ 20.796875 -1.421875 13.15625 6.1875 \r\nQ 5.515625 13.8125 5.515625 26.8125 \r\nQ 5.515625 40.234375 12.765625 48.109375 \r\nQ 20.015625 56 32.328125 56 \r\nQ 43.359375 56 49.78125 48.890625 \r\nQ 56.203125 41.796875 56.203125 29.59375 \r\nz\r\nM 47.21875 32.234375 \r\nQ 47.125 39.59375 43.09375 43.984375 \r\nQ 39.0625 48.390625 32.421875 48.390625 \r\nQ 24.90625 48.390625 20.390625 44.140625 \r\nQ 15.875 39.890625 15.1875 32.171875 \r\nz\r\n\" id=\"DejaVuSans-101\"/>\r\n       </defs>\r\n       <use xlink:href=\"#DejaVuSans-83\"/>\r\n       <use x=\"63.476562\" xlink:href=\"#DejaVuSans-97\"/>\r\n       <use x=\"124.755859\" xlink:href=\"#DejaVuSans-108\"/>\r\n       <use x=\"152.539062\" xlink:href=\"#DejaVuSans-101\"/>\r\n      </g>\r\n     </g>\r\n    </g>\r\n   </g>\r\n   <g id=\"matplotlib.axis_2\">\r\n    <g id=\"ytick_1\">\r\n     <g id=\"line2d_2\">\r\n      <defs>\r\n       <path d=\"M 0 0 \r\nL -3.5 0 \r\n\" id=\"md88cabe715\" style=\"stroke:#000000;stroke-width:0.8;\"/>\r\n      </defs>\r\n      <g>\r\n       <use style=\"stroke:#000000;stroke-width:0.8;\" x=\"39.65\" xlink:href=\"#md88cabe715\" y=\"300.246772\"/>\r\n      </g>\r\n     </g>\r\n     <g id=\"text_2\">\r\n      <!-- 0 -->\r\n      <g transform=\"translate(26.2875 304.045991)scale(0.1 -0.1)\">\r\n       <defs>\r\n        <path d=\"M 31.78125 66.40625 \r\nQ 24.171875 66.40625 20.328125 58.90625 \r\nQ 16.5 51.421875 16.5 36.375 \r\nQ 16.5 21.390625 20.328125 13.890625 \r\nQ 24.171875 6.390625 31.78125 6.390625 \r\nQ 39.453125 6.390625 43.28125 13.890625 \r\nQ 47.125 21.390625 47.125 36.375 \r\nQ 47.125 51.421875 43.28125 58.90625 \r\nQ 39.453125 66.40625 31.78125 66.40625 \r\nz\r\nM 31.78125 74.21875 \r\nQ 44.046875 74.21875 50.515625 64.515625 \r\nQ 56.984375 54.828125 56.984375 36.375 \r\nQ 56.984375 17.96875 50.515625 8.265625 \r\nQ 44.046875 -1.421875 31.78125 -1.421875 \r\nQ 19.53125 -1.421875 13.0625 8.265625 \r\nQ 6.59375 17.96875 6.59375 36.375 \r\nQ 6.59375 54.828125 13.0625 64.515625 \r\nQ 19.53125 74.21875 31.78125 74.21875 \r\nz\r\n\" id=\"DejaVuSans-48\"/>\r\n       </defs>\r\n       <use xlink:href=\"#DejaVuSans-48\"/>\r\n      </g>\r\n     </g>\r\n    </g>\r\n    <g id=\"ytick_2\">\r\n     <g id=\"line2d_3\">\r\n      <g>\r\n       <use style=\"stroke:#000000;stroke-width:0.8;\" x=\"39.65\" xlink:href=\"#md88cabe715\" y=\"234.383989\"/>\r\n      </g>\r\n     </g>\r\n     <g id=\"text_3\">\r\n      <!-- 500 -->\r\n      <g transform=\"translate(13.5625 238.183207)scale(0.1 -0.1)\">\r\n       <defs>\r\n        <path d=\"M 10.796875 72.90625 \r\nL 49.515625 72.90625 \r\nL 49.515625 64.59375 \r\nL 19.828125 64.59375 \r\nL 19.828125 46.734375 \r\nQ 21.96875 47.46875 24.109375 47.828125 \r\nQ 26.265625 48.1875 28.421875 48.1875 \r\nQ 40.625 48.1875 47.75 41.5 \r\nQ 54.890625 34.8125 54.890625 23.390625 \r\nQ 54.890625 11.625 47.5625 5.09375 \r\nQ 40.234375 -1.421875 26.90625 -1.421875 \r\nQ 22.3125 -1.421875 17.546875 -0.640625 \r\nQ 12.796875 0.140625 7.71875 1.703125 \r\nL 7.71875 11.625 \r\nQ 12.109375 9.234375 16.796875 8.0625 \r\nQ 21.484375 6.890625 26.703125 6.890625 \r\nQ 35.15625 6.890625 40.078125 11.328125 \r\nQ 45.015625 15.765625 45.015625 23.390625 \r\nQ 45.015625 31 40.078125 35.4375 \r\nQ 35.15625 39.890625 26.703125 39.890625 \r\nQ 22.75 39.890625 18.8125 39.015625 \r\nQ 14.890625 38.140625 10.796875 36.28125 \r\nz\r\n\" id=\"DejaVuSans-53\"/>\r\n       </defs>\r\n       <use xlink:href=\"#DejaVuSans-53\"/>\r\n       <use x=\"63.623047\" xlink:href=\"#DejaVuSans-48\"/>\r\n       <use x=\"127.246094\" xlink:href=\"#DejaVuSans-48\"/>\r\n      </g>\r\n     </g>\r\n    </g>\r\n    <g id=\"ytick_3\">\r\n     <g id=\"line2d_4\">\r\n      <g>\r\n       <use style=\"stroke:#000000;stroke-width:0.8;\" x=\"39.65\" xlink:href=\"#md88cabe715\" y=\"168.521205\"/>\r\n      </g>\r\n     </g>\r\n     <g id=\"text_4\">\r\n      <!-- 1000 -->\r\n      <g transform=\"translate(7.2 172.320424)scale(0.1 -0.1)\">\r\n       <defs>\r\n        <path d=\"M 12.40625 8.296875 \r\nL 28.515625 8.296875 \r\nL 28.515625 63.921875 \r\nL 10.984375 60.40625 \r\nL 10.984375 69.390625 \r\nL 28.421875 72.90625 \r\nL 38.28125 72.90625 \r\nL 38.28125 8.296875 \r\nL 54.390625 8.296875 \r\nL 54.390625 0 \r\nL 12.40625 0 \r\nz\r\n\" id=\"DejaVuSans-49\"/>\r\n       </defs>\r\n       <use xlink:href=\"#DejaVuSans-49\"/>\r\n       <use x=\"63.623047\" xlink:href=\"#DejaVuSans-48\"/>\r\n       <use x=\"127.246094\" xlink:href=\"#DejaVuSans-48\"/>\r\n       <use x=\"190.869141\" xlink:href=\"#DejaVuSans-48\"/>\r\n      </g>\r\n     </g>\r\n    </g>\r\n    <g id=\"ytick_4\">\r\n     <g id=\"line2d_5\">\r\n      <g>\r\n       <use style=\"stroke:#000000;stroke-width:0.8;\" x=\"39.65\" xlink:href=\"#md88cabe715\" y=\"102.658422\"/>\r\n      </g>\r\n     </g>\r\n     <g id=\"text_5\">\r\n      <!-- 1500 -->\r\n      <g transform=\"translate(7.2 106.457641)scale(0.1 -0.1)\">\r\n       <use xlink:href=\"#DejaVuSans-49\"/>\r\n       <use x=\"63.623047\" xlink:href=\"#DejaVuSans-53\"/>\r\n       <use x=\"127.246094\" xlink:href=\"#DejaVuSans-48\"/>\r\n       <use x=\"190.869141\" xlink:href=\"#DejaVuSans-48\"/>\r\n      </g>\r\n     </g>\r\n    </g>\r\n    <g id=\"ytick_5\">\r\n     <g id=\"line2d_6\">\r\n      <g>\r\n       <use style=\"stroke:#000000;stroke-width:0.8;\" x=\"39.65\" xlink:href=\"#md88cabe715\" y=\"36.795639\"/>\r\n      </g>\r\n     </g>\r\n     <g id=\"text_6\">\r\n      <!-- 2000 -->\r\n      <g transform=\"translate(7.2 40.594858)scale(0.1 -0.1)\">\r\n       <defs>\r\n        <path d=\"M 19.1875 8.296875 \r\nL 53.609375 8.296875 \r\nL 53.609375 0 \r\nL 7.328125 0 \r\nL 7.328125 8.296875 \r\nQ 12.9375 14.109375 22.625 23.890625 \r\nQ 32.328125 33.6875 34.8125 36.53125 \r\nQ 39.546875 41.84375 41.421875 45.53125 \r\nQ 43.3125 49.21875 43.3125 52.78125 \r\nQ 43.3125 58.59375 39.234375 62.25 \r\nQ 35.15625 65.921875 28.609375 65.921875 \r\nQ 23.96875 65.921875 18.8125 64.3125 \r\nQ 13.671875 62.703125 7.8125 59.421875 \r\nL 7.8125 69.390625 \r\nQ 13.765625 71.78125 18.9375 73 \r\nQ 24.125 74.21875 28.421875 74.21875 \r\nQ 39.75 74.21875 46.484375 68.546875 \r\nQ 53.21875 62.890625 53.21875 53.421875 \r\nQ 53.21875 48.921875 51.53125 44.890625 \r\nQ 49.859375 40.875 45.40625 35.40625 \r\nQ 44.1875 33.984375 37.640625 27.21875 \r\nQ 31.109375 20.453125 19.1875 8.296875 \r\nz\r\n\" id=\"DejaVuSans-50\"/>\r\n       </defs>\r\n       <use xlink:href=\"#DejaVuSans-50\"/>\r\n       <use x=\"63.623047\" xlink:href=\"#DejaVuSans-48\"/>\r\n       <use x=\"127.246094\" xlink:href=\"#DejaVuSans-48\"/>\r\n       <use x=\"190.869141\" xlink:href=\"#DejaVuSans-48\"/>\r\n      </g>\r\n     </g>\r\n    </g>\r\n   </g>\r\n   <g id=\"line2d_7\">\r\n    <path clip-path=\"url(#p4d5466e811)\" d=\"M 212.60375 299.934582 \r\nL 273.64625 299.934582 \r\nL 273.64625 295.372926 \r\nL 212.60375 295.372926 \r\nL 212.60375 299.934582 \r\n\" style=\"fill:none;stroke:#1f77b4;stroke-linecap:square;\"/>\r\n   </g>\r\n   <g id=\"line2d_8\">\r\n    <path clip-path=\"url(#p4d5466e811)\" d=\"M 243.125 299.934582 \r\nL 243.125 300.245455 \r\n\" style=\"fill:none;stroke:#1f77b4;stroke-linecap:square;\"/>\r\n   </g>\r\n   <g id=\"line2d_9\">\r\n    <path clip-path=\"url(#p4d5466e811)\" d=\"M 243.125 295.372926 \r\nL 243.125 288.973698 \r\n\" style=\"fill:none;stroke:#1f77b4;stroke-linecap:square;\"/>\r\n   </g>\r\n   <g id=\"line2d_10\">\r\n    <path clip-path=\"url(#p4d5466e811)\" d=\"M 227.864375 300.245455 \r\nL 258.385625 300.245455 \r\n\" style=\"fill:none;stroke:#000000;stroke-linecap:square;\"/>\r\n   </g>\r\n   <g id=\"line2d_11\">\r\n    <path clip-path=\"url(#p4d5466e811)\" d=\"M 227.864375 288.973698 \r\nL 258.385625 288.973698 \r\n\" style=\"fill:none;stroke:#000000;stroke-linecap:square;\"/>\r\n   </g>\r\n   <g id=\"line2d_12\">\r\n    <defs>\r\n     <path d=\"M 0 3 \r\nC 0.795609 3 1.55874 2.683901 2.12132 2.12132 \r\nC 2.683901 1.55874 3 0.795609 3 0 \r\nC 3 -0.795609 2.683901 -1.55874 2.12132 -2.12132 \r\nC 1.55874 -2.683901 0.795609 -3 0 -3 \r\nC -0.795609 -3 -1.55874 -2.683901 -2.12132 -2.12132 \r\nC -2.683901 -1.55874 -3 -0.795609 -3 0 \r\nC -3 0.795609 -2.683901 1.55874 -2.12132 2.12132 \r\nC -1.55874 2.683901 -0.795609 3 0 3 \r\nz\r\n\" id=\"mcdfde0c8a7\" style=\"stroke:#000000;\"/>\r\n    </defs>\r\n    <g clip-path=\"url(#p4d5466e811)\">\r\n     <use style=\"fill-opacity:0;stroke:#000000;\" x=\"243.125\" xlink:href=\"#mcdfde0c8a7\" y=\"278.512053\"/>\r\n     <use style=\"fill-opacity:0;stroke:#000000;\" x=\"243.125\" xlink:href=\"#mcdfde0c8a7\" y=\"261.38773\"/>\r\n     <use style=\"fill-opacity:0;stroke:#000000;\" x=\"243.125\" xlink:href=\"#mcdfde0c8a7\" y=\"263.231888\"/>\r\n     <use style=\"fill-opacity:0;stroke:#000000;\" x=\"243.125\" xlink:href=\"#mcdfde0c8a7\" y=\"265.060239\"/>\r\n     <use style=\"fill-opacity:0;stroke:#000000;\" x=\"243.125\" xlink:href=\"#mcdfde0c8a7\" y=\"281.146565\"/>\r\n     <use style=\"fill-opacity:0;stroke:#000000;\" x=\"243.125\" xlink:href=\"#mcdfde0c8a7\" y=\"277.194798\"/>\r\n     <use style=\"fill-opacity:0;stroke:#000000;\" x=\"243.125\" xlink:href=\"#mcdfde0c8a7\" y=\"283.781076\"/>\r\n     <use style=\"fill-opacity:0;stroke:#000000;\" x=\"243.125\" xlink:href=\"#mcdfde0c8a7\" y=\"280.487937\"/>\r\n     <use style=\"fill-opacity:0;stroke:#000000;\" x=\"243.125\" xlink:href=\"#mcdfde0c8a7\" y=\"276.042199\"/>\r\n     <use style=\"fill-opacity:0;stroke:#000000;\" x=\"243.125\" xlink:href=\"#mcdfde0c8a7\" y=\"263.357027\"/>\r\n     <use style=\"fill-opacity:0;stroke:#000000;\" x=\"243.125\" xlink:href=\"#mcdfde0c8a7\" y=\"250.652096\"/>\r\n     <use style=\"fill-opacity:0;stroke:#000000;\" x=\"243.125\" xlink:href=\"#mcdfde0c8a7\" y=\"263.943206\"/>\r\n     <use style=\"fill-opacity:0;stroke:#000000;\" x=\"243.125\" xlink:href=\"#mcdfde0c8a7\" y=\"254.142824\"/>\r\n     <use style=\"fill-opacity:0;stroke:#000000;\" x=\"243.125\" xlink:href=\"#mcdfde0c8a7\" y=\"267.31538\"/>\r\n     <use style=\"fill-opacity:0;stroke:#000000;\" x=\"243.125\" xlink:href=\"#mcdfde0c8a7\" y=\"285.75696\"/>\r\n     <use style=\"fill-opacity:0;stroke:#000000;\" x=\"243.125\" xlink:href=\"#mcdfde0c8a7\" y=\"74.225459\"/>\r\n     <use style=\"fill-opacity:0;stroke:#000000;\" x=\"243.125\" xlink:href=\"#mcdfde0c8a7\" y=\"187.911209\"/>\r\n     <use style=\"fill-opacity:0;stroke:#000000;\" x=\"243.125\" xlink:href=\"#mcdfde0c8a7\" y=\"285.700318\"/>\r\n     <use style=\"fill-opacity:0;stroke:#000000;\" x=\"243.125\" xlink:href=\"#mcdfde0c8a7\" y=\"272.826778\"/>\r\n     <use style=\"fill-opacity:0;stroke:#000000;\" x=\"243.125\" xlink:href=\"#mcdfde0c8a7\" y=\"258.0037\"/>\r\n     <use style=\"fill-opacity:0;stroke:#000000;\" x=\"243.125\" xlink:href=\"#mcdfde0c8a7\" y=\"235.668313\"/>\r\n     <use style=\"fill-opacity:0;stroke:#000000;\" x=\"243.125\" xlink:href=\"#mcdfde0c8a7\" y=\"280.12174\"/>\r\n     <use style=\"fill-opacity:0;stroke:#000000;\" x=\"243.125\" xlink:href=\"#mcdfde0c8a7\" y=\"284.439704\"/>\r\n     <use style=\"fill-opacity:0;stroke:#000000;\" x=\"243.125\" xlink:href=\"#mcdfde0c8a7\" y=\"278.875616\"/>\r\n     <use style=\"fill-opacity:0;stroke:#000000;\" x=\"243.125\" xlink:href=\"#mcdfde0c8a7\" y=\"282.595546\"/>\r\n     <use style=\"fill-opacity:0;stroke:#000000;\" x=\"243.125\" xlink:href=\"#mcdfde0c8a7\" y=\"268.724844\"/>\r\n     <use style=\"fill-opacity:0;stroke:#000000;\" x=\"243.125\" xlink:href=\"#mcdfde0c8a7\" y=\"278.828195\"/>\r\n     <use style=\"fill-opacity:0;stroke:#000000;\" x=\"243.125\" xlink:href=\"#mcdfde0c8a7\" y=\"135.201224\"/>\r\n     <use style=\"fill-opacity:0;stroke:#000000;\" x=\"243.125\" xlink:href=\"#mcdfde0c8a7\" y=\"29.804963\"/>\r\n     <use style=\"fill-opacity:0;stroke:#000000;\" x=\"243.125\" xlink:href=\"#mcdfde0c8a7\" y=\"248.915953\"/>\r\n     <use style=\"fill-opacity:0;stroke:#000000;\" x=\"243.125\" xlink:href=\"#mcdfde0c8a7\" y=\"265.638514\"/>\r\n     <use style=\"fill-opacity:0;stroke:#000000;\" x=\"243.125\" xlink:href=\"#mcdfde0c8a7\" y=\"274.560286\"/>\r\n     <use style=\"fill-opacity:0;stroke:#000000;\" x=\"243.125\" xlink:href=\"#mcdfde0c8a7\" y=\"270.904902\"/>\r\n     <use style=\"fill-opacity:0;stroke:#000000;\" x=\"243.125\" xlink:href=\"#mcdfde0c8a7\" y=\"279.40647\"/>\r\n     <use style=\"fill-opacity:0;stroke:#000000;\" x=\"243.125\" xlink:href=\"#mcdfde0c8a7\" y=\"247.556545\"/>\r\n     <use style=\"fill-opacity:0;stroke:#000000;\" x=\"243.125\" xlink:href=\"#mcdfde0c8a7\" y=\"150.567011\"/>\r\n     <use style=\"fill-opacity:0;stroke:#000000;\" x=\"243.125\" xlink:href=\"#mcdfde0c8a7\" y=\"268.632636\"/>\r\n     <use style=\"fill-opacity:0;stroke:#000000;\" x=\"243.125\" xlink:href=\"#mcdfde0c8a7\" y=\"271.33301\"/>\r\n     <use style=\"fill-opacity:0;stroke:#000000;\" x=\"243.125\" xlink:href=\"#mcdfde0c8a7\" y=\"89.583343\"/>\r\n     <use style=\"fill-opacity:0;stroke:#000000;\" x=\"243.125\" xlink:href=\"#mcdfde0c8a7\" y=\"261.651181\"/>\r\n     <use style=\"fill-opacity:0;stroke:#000000;\" x=\"243.125\" xlink:href=\"#mcdfde0c8a7\" y=\"136.646253\"/>\r\n     <use style=\"fill-opacity:0;stroke:#000000;\" x=\"243.125\" xlink:href=\"#mcdfde0c8a7\" y=\"226.780789\"/>\r\n     <use style=\"fill-opacity:0;stroke:#000000;\" x=\"243.125\" xlink:href=\"#mcdfde0c8a7\" y=\"151.923784\"/>\r\n     <use style=\"fill-opacity:0;stroke:#000000;\" x=\"243.125\" xlink:href=\"#mcdfde0c8a7\" y=\"271.435756\"/>\r\n     <use style=\"fill-opacity:0;stroke:#000000;\" x=\"243.125\" xlink:href=\"#mcdfde0c8a7\" y=\"283.135621\"/>\r\n     <use style=\"fill-opacity:0;stroke:#000000;\" x=\"243.125\" xlink:href=\"#mcdfde0c8a7\" y=\"208.038875\"/>\r\n     <use style=\"fill-opacity:0;stroke:#000000;\" x=\"243.125\" xlink:href=\"#mcdfde0c8a7\" y=\"221.211432\"/>\r\n     <use style=\"fill-opacity:0;stroke:#000000;\" x=\"243.125\" xlink:href=\"#mcdfde0c8a7\" y=\"227.673888\"/>\r\n     <use style=\"fill-opacity:0;stroke:#000000;\" x=\"243.125\" xlink:href=\"#mcdfde0c8a7\" y=\"227.713406\"/>\r\n     <use style=\"fill-opacity:0;stroke:#000000;\" x=\"243.125\" xlink:href=\"#mcdfde0c8a7\" y=\"205.769244\"/>\r\n     <use style=\"fill-opacity:0;stroke:#000000;\" x=\"243.125\" xlink:href=\"#mcdfde0c8a7\" y=\"90.475125\"/>\r\n     <use style=\"fill-opacity:0;stroke:#000000;\" x=\"243.125\" xlink:href=\"#mcdfde0c8a7\" y=\"219.649167\"/>\r\n     <use style=\"fill-opacity:0;stroke:#000000;\" x=\"243.125\" xlink:href=\"#mcdfde0c8a7\" y=\"261.398268\"/>\r\n     <use style=\"fill-opacity:0;stroke:#000000;\" x=\"243.125\" xlink:href=\"#mcdfde0c8a7\" y=\"207.320971\"/>\r\n     <use style=\"fill-opacity:0;stroke:#000000;\" x=\"243.125\" xlink:href=\"#mcdfde0c8a7\" y=\"285.447404\"/>\r\n     <use style=\"fill-opacity:0;stroke:#000000;\" x=\"243.125\" xlink:href=\"#mcdfde0c8a7\" y=\"286.231172\"/>\r\n     <use style=\"fill-opacity:0;stroke:#000000;\" x=\"243.125\" xlink:href=\"#mcdfde0c8a7\" y=\"240.783217\"/>\r\n     <use style=\"fill-opacity:0;stroke:#000000;\" x=\"243.125\" xlink:href=\"#mcdfde0c8a7\" y=\"54.201856\"/>\r\n     <use style=\"fill-opacity:0;stroke:#000000;\" x=\"243.125\" xlink:href=\"#mcdfde0c8a7\" y=\"283.204118\"/>\r\n     <use style=\"fill-opacity:0;stroke:#000000;\" x=\"243.125\" xlink:href=\"#mcdfde0c8a7\" y=\"243.010696\"/>\r\n     <use style=\"fill-opacity:0;stroke:#000000;\" x=\"243.125\" xlink:href=\"#mcdfde0c8a7\" y=\"273.058615\"/>\r\n     <use style=\"fill-opacity:0;stroke:#000000;\" x=\"243.125\" xlink:href=\"#mcdfde0c8a7\" y=\"272.803067\"/>\r\n     <use style=\"fill-opacity:0;stroke:#000000;\" x=\"243.125\" xlink:href=\"#mcdfde0c8a7\" y=\"285.697683\"/>\r\n     <use style=\"fill-opacity:0;stroke:#000000;\" x=\"243.125\" xlink:href=\"#mcdfde0c8a7\" y=\"270.649354\"/>\r\n     <use style=\"fill-opacity:0;stroke:#000000;\" x=\"243.125\" xlink:href=\"#mcdfde0c8a7\" y=\"286.77915\"/>\r\n     <use style=\"fill-opacity:0;stroke:#000000;\" x=\"243.125\" xlink:href=\"#mcdfde0c8a7\" y=\"59.210062\"/>\r\n     <use style=\"fill-opacity:0;stroke:#000000;\" x=\"243.125\" xlink:href=\"#mcdfde0c8a7\" y=\"32.435523\"/>\r\n     <use style=\"fill-opacity:0;stroke:#000000;\" x=\"243.125\" xlink:href=\"#mcdfde0c8a7\" y=\"254.7975\"/>\r\n     <use style=\"fill-opacity:0;stroke:#000000;\" x=\"243.125\" xlink:href=\"#mcdfde0c8a7\" y=\"184.519276\"/>\r\n     <use style=\"fill-opacity:0;stroke:#000000;\" x=\"243.125\" xlink:href=\"#mcdfde0c8a7\" y=\"209.609044\"/>\r\n     <use style=\"fill-opacity:0;stroke:#000000;\" x=\"243.125\" xlink:href=\"#mcdfde0c8a7\" y=\"288.391471\"/>\r\n     <use style=\"fill-opacity:0;stroke:#000000;\" x=\"243.125\" xlink:href=\"#mcdfde0c8a7\" y=\"265.273634\"/>\r\n     <use style=\"fill-opacity:0;stroke:#000000;\" x=\"243.125\" xlink:href=\"#mcdfde0c8a7\" y=\"256.156908\"/>\r\n     <use style=\"fill-opacity:0;stroke:#000000;\" x=\"243.125\" xlink:href=\"#mcdfde0c8a7\" y=\"214.691016\"/>\r\n     <use style=\"fill-opacity:0;stroke:#000000;\" x=\"243.125\" xlink:href=\"#mcdfde0c8a7\" y=\"152.558701\"/>\r\n     <use style=\"fill-opacity:0;stroke:#000000;\" x=\"243.125\" xlink:href=\"#mcdfde0c8a7\" y=\"210.403349\"/>\r\n     <use style=\"fill-opacity:0;stroke:#000000;\" x=\"243.125\" xlink:href=\"#mcdfde0c8a7\" y=\"216.59972\"/>\r\n     <use style=\"fill-opacity:0;stroke:#000000;\" x=\"243.125\" xlink:href=\"#mcdfde0c8a7\" y=\"180.618882\"/>\r\n     <use style=\"fill-opacity:0;stroke:#000000;\" x=\"243.125\" xlink:href=\"#mcdfde0c8a7\" y=\"227.884649\"/>\r\n     <use style=\"fill-opacity:0;stroke:#000000;\" x=\"243.125\" xlink:href=\"#mcdfde0c8a7\" y=\"244.387228\"/>\r\n     <use style=\"fill-opacity:0;stroke:#000000;\" x=\"243.125\" xlink:href=\"#mcdfde0c8a7\" y=\"221.277295\"/>\r\n     <use style=\"fill-opacity:0;stroke:#000000;\" x=\"243.125\" xlink:href=\"#mcdfde0c8a7\" y=\"262.965802\"/>\r\n     <use style=\"fill-opacity:0;stroke:#000000;\" x=\"243.125\" xlink:href=\"#mcdfde0c8a7\" y=\"255.58917\"/>\r\n     <use style=\"fill-opacity:0;stroke:#000000;\" x=\"243.125\" xlink:href=\"#mcdfde0c8a7\" y=\"202.293006\"/>\r\n     <use style=\"fill-opacity:0;stroke:#000000;\" x=\"243.125\" xlink:href=\"#mcdfde0c8a7\" y=\"284.363303\"/>\r\n     <use style=\"fill-opacity:0;stroke:#000000;\" x=\"243.125\" xlink:href=\"#mcdfde0c8a7\" y=\"21.154545\"/>\r\n     <use style=\"fill-opacity:0;stroke:#000000;\" x=\"243.125\" xlink:href=\"#mcdfde0c8a7\" y=\"239.007556\"/>\r\n     <use style=\"fill-opacity:0;stroke:#000000;\" x=\"243.125\" xlink:href=\"#mcdfde0c8a7\" y=\"216.166343\"/>\r\n     <use style=\"fill-opacity:0;stroke:#000000;\" x=\"243.125\" xlink:href=\"#mcdfde0c8a7\" y=\"180.771683\"/>\r\n     <use style=\"fill-opacity:0;stroke:#000000;\" x=\"243.125\" xlink:href=\"#mcdfde0c8a7\" y=\"181.485636\"/>\r\n     <use style=\"fill-opacity:0;stroke:#000000;\" x=\"243.125\" xlink:href=\"#mcdfde0c8a7\" y=\"275.113534\"/>\r\n     <use style=\"fill-opacity:0;stroke:#000000;\" x=\"243.125\" xlink:href=\"#mcdfde0c8a7\" y=\"187.426459\"/>\r\n     <use style=\"fill-opacity:0;stroke:#000000;\" x=\"243.125\" xlink:href=\"#mcdfde0c8a7\" y=\"78.003348\"/>\r\n     <use style=\"fill-opacity:0;stroke:#000000;\" x=\"243.125\" xlink:href=\"#mcdfde0c8a7\" y=\"287.45095\"/>\r\n     <use style=\"fill-opacity:0;stroke:#000000;\" x=\"243.125\" xlink:href=\"#mcdfde0c8a7\" y=\"276.140993\"/>\r\n     <use style=\"fill-opacity:0;stroke:#000000;\" x=\"243.125\" xlink:href=\"#mcdfde0c8a7\" y=\"102.611001\"/>\r\n     <use style=\"fill-opacity:0;stroke:#000000;\" x=\"243.125\" xlink:href=\"#mcdfde0c8a7\" y=\"188.214178\"/>\r\n     <use style=\"fill-opacity:0;stroke:#000000;\" x=\"243.125\" xlink:href=\"#mcdfde0c8a7\" y=\"260.729102\"/>\r\n     <use style=\"fill-opacity:0;stroke:#000000;\" x=\"243.125\" xlink:href=\"#mcdfde0c8a7\" y=\"132.947399\"/>\r\n     <use style=\"fill-opacity:0;stroke:#000000;\" x=\"243.125\" xlink:href=\"#mcdfde0c8a7\" y=\"99.133446\"/>\r\n     <use style=\"fill-opacity:0;stroke:#000000;\" x=\"243.125\" xlink:href=\"#mcdfde0c8a7\" y=\"259.567282\"/>\r\n     <use style=\"fill-opacity:0;stroke:#000000;\" x=\"243.125\" xlink:href=\"#mcdfde0c8a7\" y=\"177.755168\"/>\r\n     <use style=\"fill-opacity:0;stroke:#000000;\" x=\"243.125\" xlink:href=\"#mcdfde0c8a7\" y=\"231.354301\"/>\r\n    </g>\r\n   </g>\r\n   <g id=\"line2d_13\">\r\n    <path clip-path=\"url(#p4d5466e811)\" d=\"M 212.60375 299.318107 \r\nL 273.64625 299.318107 \r\n\" style=\"fill:none;stroke:#2ca02c;stroke-linecap:square;\"/>\r\n   </g>\r\n   <g id=\"patch_3\">\r\n    <path d=\"M 39.65 314.2 \r\nL 39.65 7.2 \r\n\" style=\"fill:none;stroke:#000000;stroke-linecap:square;stroke-linejoin:miter;stroke-width:0.8;\"/>\r\n   </g>\r\n   <g id=\"patch_4\">\r\n    <path d=\"M 446.6 314.2 \r\nL 446.6 7.2 \r\n\" style=\"fill:none;stroke:#000000;stroke-linecap:square;stroke-linejoin:miter;stroke-width:0.8;\"/>\r\n   </g>\r\n   <g id=\"patch_5\">\r\n    <path d=\"M 39.65 314.2 \r\nL 446.6 314.2 \r\n\" style=\"fill:none;stroke:#000000;stroke-linecap:square;stroke-linejoin:miter;stroke-width:0.8;\"/>\r\n   </g>\r\n   <g id=\"patch_6\">\r\n    <path d=\"M 39.65 7.2 \r\nL 446.6 7.2 \r\n\" style=\"fill:none;stroke:#000000;stroke-linecap:square;stroke-linejoin:miter;stroke-width:0.8;\"/>\r\n   </g>\r\n  </g>\r\n </g>\r\n <defs>\r\n  <clipPath id=\"p4d5466e811\">\r\n   <rect height=\"307\" width=\"406.95\" x=\"39.65\" y=\"7.2\"/>\r\n  </clipPath>\r\n </defs>\r\n</svg>\r\n",
      "image/png": "[encoded data removed]"
     },
     "metadata": {
      "needs_background": "light"
     }
    },
    {
     "output_type": "stream",
     "name": "stdout",
     "text": [
      "count     567.000000\nmean      113.291869\nstd       308.147794\nmin         0.010000\n25%         2.370000\n50%         7.050000\n75%        37.000000\nmax      2118.740000\nName: Sale, dtype: float64\n0    240619\n1    117109\n2     36389\nName: PriceCategory, dtype: int64\n"
     ]
    },
    {
     "output_type": "execute_result",
     "data": {
      "text/plain": [
       "<AxesSubplot:>"
      ]
     },
     "metadata": {},
     "execution_count": 4
    },
    {
     "output_type": "display_data",
     "data": {
      "text/plain": "<Figure size 432x288 with 1 Axes>",
      "image/svg+xml": "<?xml version=\"1.0\" encoding=\"utf-8\" standalone=\"no\"?>\r\n<!DOCTYPE svg PUBLIC \"-//W3C//DTD SVG 1.1//EN\"\r\n  \"http://www.w3.org/Graphics/SVG/1.1/DTD/svg11.dtd\">\r\n<!-- Created with matplotlib (https://matplotlib.org/) -->\r\n<svg height=\"246.721073pt\" version=\"1.1\" viewBox=\"0 0 394.375 246.721073\" width=\"394.375pt\" xmlns=\"http://www.w3.org/2000/svg\" xmlns:xlink=\"http://www.w3.org/1999/xlink\">\r\n <metadata>\r\n  <rdf:RDF xmlns:cc=\"http://creativecommons.org/ns#\" xmlns:dc=\"http://purl.org/dc/elements/1.1/\" xmlns:rdf=\"http://www.w3.org/1999/02/22-rdf-syntax-ns#\">\r\n   <cc:Work>\r\n    <dc:type rdf:resource=\"http://purl.org/dc/dcmitype/StillImage\"/>\r\n    <dc:date>2020-11-22T12:17:05.153788</dc:date>\r\n    <dc:format>image/svg+xml</dc:format>\r\n    <dc:creator>\r\n     <cc:Agent>\r\n      <dc:title>Matplotlib v3.3.2, https://matplotlib.org/</dc:title>\r\n     </cc:Agent>\r\n    </dc:creator>\r\n   </cc:Work>\r\n  </rdf:RDF>\r\n </metadata>\r\n <defs>\r\n  <style type=\"text/css\">*{stroke-linecap:butt;stroke-linejoin:round;}</style>\r\n </defs>\r\n <g id=\"figure_1\">\r\n  <g id=\"patch_1\">\r\n   <path d=\"M 0 246.721073 \r\nL 394.375 246.721073 \r\nL 394.375 0 \r\nL 0 0 \r\nz\r\n\" style=\"fill:none;\"/>\r\n  </g>\r\n  <g id=\"axes_1\">\r\n   <g id=\"patch_2\">\r\n    <path d=\"M 52.375 226.158573 \r\nL 387.175 226.158573 \r\nL 387.175 8.718573 \r\nL 52.375 8.718573 \r\nz\r\n\" style=\"fill:#ffffff;\"/>\r\n   </g>\r\n   <g id=\"patch_3\">\r\n    <path clip-path=\"url(#p50bad729ca)\" d=\"M 80.275 226.158573 \r\nL 136.075 226.158573 \r\nL 136.075 19.072858 \r\nL 80.275 19.072858 \r\nz\r\n\" style=\"fill:#1f77b4;\"/>\r\n   </g>\r\n   <g id=\"patch_4\">\r\n    <path clip-path=\"url(#p50bad729ca)\" d=\"M 191.875 226.158573 \r\nL 247.675 226.158573 \r\nL 247.675 125.370186 \r\nL 191.875 125.370186 \r\nz\r\n\" style=\"fill:#1f77b4;\"/>\r\n   </g>\r\n   <g id=\"patch_5\">\r\n    <path clip-path=\"url(#p50bad729ca)\" d=\"M 303.475 226.158573 \r\nL 359.275 226.158573 \r\nL 359.275 194.840838 \r\nL 303.475 194.840838 \r\nz\r\n\" style=\"fill:#1f77b4;\"/>\r\n   </g>\r\n   <g id=\"matplotlib.axis_1\">\r\n    <g id=\"xtick_1\">\r\n     <g id=\"line2d_1\">\r\n      <defs>\r\n       <path d=\"M 0 0 \r\nL 0 3.5 \r\n\" id=\"m75494eb263\" style=\"stroke:#000000;stroke-width:0.8;\"/>\r\n      </defs>\r\n      <g>\r\n       <use style=\"stroke:#000000;stroke-width:0.8;\" x=\"108.175\" xlink:href=\"#m75494eb263\" y=\"226.158573\"/>\r\n      </g>\r\n     </g>\r\n     <g id=\"text_1\">\r\n      <!-- 0 -->\r\n      <g transform=\"translate(110.934375 239.521073)rotate(-90)scale(0.1 -0.1)\">\r\n       <defs>\r\n        <path d=\"M 31.78125 66.40625 \r\nQ 24.171875 66.40625 20.328125 58.90625 \r\nQ 16.5 51.421875 16.5 36.375 \r\nQ 16.5 21.390625 20.328125 13.890625 \r\nQ 24.171875 6.390625 31.78125 6.390625 \r\nQ 39.453125 6.390625 43.28125 13.890625 \r\nQ 47.125 21.390625 47.125 36.375 \r\nQ 47.125 51.421875 43.28125 58.90625 \r\nQ 39.453125 66.40625 31.78125 66.40625 \r\nz\r\nM 31.78125 74.21875 \r\nQ 44.046875 74.21875 50.515625 64.515625 \r\nQ 56.984375 54.828125 56.984375 36.375 \r\nQ 56.984375 17.96875 50.515625 8.265625 \r\nQ 44.046875 -1.421875 31.78125 -1.421875 \r\nQ 19.53125 -1.421875 13.0625 8.265625 \r\nQ 6.59375 17.96875 6.59375 36.375 \r\nQ 6.59375 54.828125 13.0625 64.515625 \r\nQ 19.53125 74.21875 31.78125 74.21875 \r\nz\r\n\" id=\"DejaVuSans-48\"/>\r\n       </defs>\r\n       <use xlink:href=\"#DejaVuSans-48\"/>\r\n      </g>\r\n     </g>\r\n    </g>\r\n    <g id=\"xtick_2\">\r\n     <g id=\"line2d_2\">\r\n      <g>\r\n       <use style=\"stroke:#000000;stroke-width:0.8;\" x=\"219.775\" xlink:href=\"#m75494eb263\" y=\"226.158573\"/>\r\n      </g>\r\n     </g>\r\n     <g id=\"text_2\">\r\n      <!-- 1 -->\r\n      <g transform=\"translate(222.534375 239.521073)rotate(-90)scale(0.1 -0.1)\">\r\n       <defs>\r\n        <path d=\"M 12.40625 8.296875 \r\nL 28.515625 8.296875 \r\nL 28.515625 63.921875 \r\nL 10.984375 60.40625 \r\nL 10.984375 69.390625 \r\nL 28.421875 72.90625 \r\nL 38.28125 72.90625 \r\nL 38.28125 8.296875 \r\nL 54.390625 8.296875 \r\nL 54.390625 0 \r\nL 12.40625 0 \r\nz\r\n\" id=\"DejaVuSans-49\"/>\r\n       </defs>\r\n       <use xlink:href=\"#DejaVuSans-49\"/>\r\n      </g>\r\n     </g>\r\n    </g>\r\n    <g id=\"xtick_3\">\r\n     <g id=\"line2d_3\">\r\n      <g>\r\n       <use style=\"stroke:#000000;stroke-width:0.8;\" x=\"331.375\" xlink:href=\"#m75494eb263\" y=\"226.158573\"/>\r\n      </g>\r\n     </g>\r\n     <g id=\"text_3\">\r\n      <!-- 2 -->\r\n      <g transform=\"translate(334.134375 239.521073)rotate(-90)scale(0.1 -0.1)\">\r\n       <defs>\r\n        <path d=\"M 19.1875 8.296875 \r\nL 53.609375 8.296875 \r\nL 53.609375 0 \r\nL 7.328125 0 \r\nL 7.328125 8.296875 \r\nQ 12.9375 14.109375 22.625 23.890625 \r\nQ 32.328125 33.6875 34.8125 36.53125 \r\nQ 39.546875 41.84375 41.421875 45.53125 \r\nQ 43.3125 49.21875 43.3125 52.78125 \r\nQ 43.3125 58.59375 39.234375 62.25 \r\nQ 35.15625 65.921875 28.609375 65.921875 \r\nQ 23.96875 65.921875 18.8125 64.3125 \r\nQ 13.671875 62.703125 7.8125 59.421875 \r\nL 7.8125 69.390625 \r\nQ 13.765625 71.78125 18.9375 73 \r\nQ 24.125 74.21875 28.421875 74.21875 \r\nQ 39.75 74.21875 46.484375 68.546875 \r\nQ 53.21875 62.890625 53.21875 53.421875 \r\nQ 53.21875 48.921875 51.53125 44.890625 \r\nQ 49.859375 40.875 45.40625 35.40625 \r\nQ 44.1875 33.984375 37.640625 27.21875 \r\nQ 31.109375 20.453125 19.1875 8.296875 \r\nz\r\n\" id=\"DejaVuSans-50\"/>\r\n       </defs>\r\n       <use xlink:href=\"#DejaVuSans-50\"/>\r\n      </g>\r\n     </g>\r\n    </g>\r\n   </g>\r\n   <g id=\"matplotlib.axis_2\">\r\n    <g id=\"ytick_1\">\r\n     <g id=\"line2d_4\">\r\n      <defs>\r\n       <path d=\"M 0 0 \r\nL -3.5 0 \r\n\" id=\"mc2f915b3fe\" style=\"stroke:#000000;stroke-width:0.8;\"/>\r\n      </defs>\r\n      <g>\r\n       <use style=\"stroke:#000000;stroke-width:0.8;\" x=\"52.375\" xlink:href=\"#mc2f915b3fe\" y=\"226.158573\"/>\r\n      </g>\r\n     </g>\r\n     <g id=\"text_4\">\r\n      <!-- 0 -->\r\n      <g transform=\"translate(39.0125 229.957791)scale(0.1 -0.1)\">\r\n       <use xlink:href=\"#DejaVuSans-48\"/>\r\n      </g>\r\n     </g>\r\n    </g>\r\n    <g id=\"ytick_2\">\r\n     <g id=\"line2d_5\">\r\n      <g>\r\n       <use style=\"stroke:#000000;stroke-width:0.8;\" x=\"52.375\" xlink:href=\"#mc2f915b3fe\" y=\"183.126702\"/>\r\n      </g>\r\n     </g>\r\n     <g id=\"text_5\">\r\n      <!-- 50000 -->\r\n      <g transform=\"translate(13.5625 186.925921)scale(0.1 -0.1)\">\r\n       <defs>\r\n        <path d=\"M 10.796875 72.90625 \r\nL 49.515625 72.90625 \r\nL 49.515625 64.59375 \r\nL 19.828125 64.59375 \r\nL 19.828125 46.734375 \r\nQ 21.96875 47.46875 24.109375 47.828125 \r\nQ 26.265625 48.1875 28.421875 48.1875 \r\nQ 40.625 48.1875 47.75 41.5 \r\nQ 54.890625 34.8125 54.890625 23.390625 \r\nQ 54.890625 11.625 47.5625 5.09375 \r\nQ 40.234375 -1.421875 26.90625 -1.421875 \r\nQ 22.3125 -1.421875 17.546875 -0.640625 \r\nQ 12.796875 0.140625 7.71875 1.703125 \r\nL 7.71875 11.625 \r\nQ 12.109375 9.234375 16.796875 8.0625 \r\nQ 21.484375 6.890625 26.703125 6.890625 \r\nQ 35.15625 6.890625 40.078125 11.328125 \r\nQ 45.015625 15.765625 45.015625 23.390625 \r\nQ 45.015625 31 40.078125 35.4375 \r\nQ 35.15625 39.890625 26.703125 39.890625 \r\nQ 22.75 39.890625 18.8125 39.015625 \r\nQ 14.890625 38.140625 10.796875 36.28125 \r\nz\r\n\" id=\"DejaVuSans-53\"/>\r\n       </defs>\r\n       <use xlink:href=\"#DejaVuSans-53\"/>\r\n       <use x=\"63.623047\" xlink:href=\"#DejaVuSans-48\"/>\r\n       <use x=\"127.246094\" xlink:href=\"#DejaVuSans-48\"/>\r\n       <use x=\"190.869141\" xlink:href=\"#DejaVuSans-48\"/>\r\n       <use x=\"254.492188\" xlink:href=\"#DejaVuSans-48\"/>\r\n      </g>\r\n     </g>\r\n    </g>\r\n    <g id=\"ytick_3\">\r\n     <g id=\"line2d_6\">\r\n      <g>\r\n       <use style=\"stroke:#000000;stroke-width:0.8;\" x=\"52.375\" xlink:href=\"#mc2f915b3fe\" y=\"140.094831\"/>\r\n      </g>\r\n     </g>\r\n     <g id=\"text_6\">\r\n      <!-- 100000 -->\r\n      <g transform=\"translate(7.2 143.89405)scale(0.1 -0.1)\">\r\n       <use xlink:href=\"#DejaVuSans-49\"/>\r\n       <use x=\"63.623047\" xlink:href=\"#DejaVuSans-48\"/>\r\n       <use x=\"127.246094\" xlink:href=\"#DejaVuSans-48\"/>\r\n       <use x=\"190.869141\" xlink:href=\"#DejaVuSans-48\"/>\r\n       <use x=\"254.492188\" xlink:href=\"#DejaVuSans-48\"/>\r\n       <use x=\"318.115234\" xlink:href=\"#DejaVuSans-48\"/>\r\n      </g>\r\n     </g>\r\n    </g>\r\n    <g id=\"ytick_4\">\r\n     <g id=\"line2d_7\">\r\n      <g>\r\n       <use style=\"stroke:#000000;stroke-width:0.8;\" x=\"52.375\" xlink:href=\"#mc2f915b3fe\" y=\"97.06296\"/>\r\n      </g>\r\n     </g>\r\n     <g id=\"text_7\">\r\n      <!-- 150000 -->\r\n      <g transform=\"translate(7.2 100.862179)scale(0.1 -0.1)\">\r\n       <use xlink:href=\"#DejaVuSans-49\"/>\r\n       <use x=\"63.623047\" xlink:href=\"#DejaVuSans-53\"/>\r\n       <use x=\"127.246094\" xlink:href=\"#DejaVuSans-48\"/>\r\n       <use x=\"190.869141\" xlink:href=\"#DejaVuSans-48\"/>\r\n       <use x=\"254.492188\" xlink:href=\"#DejaVuSans-48\"/>\r\n       <use x=\"318.115234\" xlink:href=\"#DejaVuSans-48\"/>\r\n      </g>\r\n     </g>\r\n    </g>\r\n    <g id=\"ytick_5\">\r\n     <g id=\"line2d_8\">\r\n      <g>\r\n       <use style=\"stroke:#000000;stroke-width:0.8;\" x=\"52.375\" xlink:href=\"#mc2f915b3fe\" y=\"54.03109\"/>\r\n      </g>\r\n     </g>\r\n     <g id=\"text_8\">\r\n      <!-- 200000 -->\r\n      <g transform=\"translate(7.2 57.830308)scale(0.1 -0.1)\">\r\n       <use xlink:href=\"#DejaVuSans-50\"/>\r\n       <use x=\"63.623047\" xlink:href=\"#DejaVuSans-48\"/>\r\n       <use x=\"127.246094\" xlink:href=\"#DejaVuSans-48\"/>\r\n       <use x=\"190.869141\" xlink:href=\"#DejaVuSans-48\"/>\r\n       <use x=\"254.492188\" xlink:href=\"#DejaVuSans-48\"/>\r\n       <use x=\"318.115234\" xlink:href=\"#DejaVuSans-48\"/>\r\n      </g>\r\n     </g>\r\n    </g>\r\n    <g id=\"ytick_6\">\r\n     <g id=\"line2d_9\">\r\n      <g>\r\n       <use style=\"stroke:#000000;stroke-width:0.8;\" x=\"52.375\" xlink:href=\"#mc2f915b3fe\" y=\"10.999219\"/>\r\n      </g>\r\n     </g>\r\n     <g id=\"text_9\">\r\n      <!-- 250000 -->\r\n      <g transform=\"translate(7.2 14.798437)scale(0.1 -0.1)\">\r\n       <use xlink:href=\"#DejaVuSans-50\"/>\r\n       <use x=\"63.623047\" xlink:href=\"#DejaVuSans-53\"/>\r\n       <use x=\"127.246094\" xlink:href=\"#DejaVuSans-48\"/>\r\n       <use x=\"190.869141\" xlink:href=\"#DejaVuSans-48\"/>\r\n       <use x=\"254.492188\" xlink:href=\"#DejaVuSans-48\"/>\r\n       <use x=\"318.115234\" xlink:href=\"#DejaVuSans-48\"/>\r\n      </g>\r\n     </g>\r\n    </g>\r\n   </g>\r\n   <g id=\"patch_6\">\r\n    <path d=\"M 52.375 226.158573 \r\nL 52.375 8.718573 \r\n\" style=\"fill:none;stroke:#000000;stroke-linecap:square;stroke-linejoin:miter;stroke-width:0.8;\"/>\r\n   </g>\r\n   <g id=\"patch_7\">\r\n    <path d=\"M 387.175 226.158573 \r\nL 387.175 8.718573 \r\n\" style=\"fill:none;stroke:#000000;stroke-linecap:square;stroke-linejoin:miter;stroke-width:0.8;\"/>\r\n   </g>\r\n   <g id=\"patch_8\">\r\n    <path d=\"M 52.375 226.158573 \r\nL 387.175 226.158573 \r\n\" style=\"fill:none;stroke:#000000;stroke-linecap:square;stroke-linejoin:miter;stroke-width:0.8;\"/>\r\n   </g>\r\n   <g id=\"patch_9\">\r\n    <path d=\"M 52.375 8.718573 \r\nL 387.175 8.718573 \r\n\" style=\"fill:none;stroke:#000000;stroke-linecap:square;stroke-linejoin:miter;stroke-width:0.8;\"/>\r\n   </g>\r\n  </g>\r\n </g>\r\n <defs>\r\n  <clipPath id=\"p50bad729ca\">\r\n   <rect height=\"217.44\" width=\"334.8\" x=\"52.375\" y=\"8.718573\"/>\r\n  </clipPath>\r\n </defs>\r\n</svg>\r\n",
      "image/png": "[encoded data removed]"
     },
     "metadata": {
      "needs_background": "light"
     }
    }
   ],
   "source": [
    "# Binning of unit price based on quantiles\n",
    "df_sale = pd.Series(df['Sale'].unique(), name=\"Sale\")\n",
    "plot(df_sale.plot.box())\n",
    "print(df_sale.describe())\n",
    "\n",
    "q2, q3 = df_sale.quantile([.25, .5])\n",
    "\n",
    "def categorize(sale):\n",
    "    if sale < q2:\n",
    "        return 0\n",
    "    elif sale < q3:\n",
    "        return 1\n",
    "    return 2\n",
    "\n",
    "df['PriceCategory'] = df['Sale'].apply(categorize)\n",
    "print(df['PriceCategory'].value_counts())\n",
    "df['PriceCategory'].value_counts().plot.bar()"
   ]
  },
  {
   "cell_type": "code",
   "execution_count": 5,
   "metadata": {},
   "outputs": [],
   "source": [
    "# Total money spent\n",
    "monetary = lambda g: round( sum( g[\"Sale\"]*g[\"Qta\"] ), 2)\n",
    "# Total purchased items\n",
    "n_transactions = lambda g: len(g)\n",
    "# Total purchased items\n",
    "tot_items = lambda g: sum( g[\"Qta\"] )\n",
    "# Items category\n",
    "cat_0 = lambda g: sum( g[g['PriceCategory'] == 0]['Qta'] )\n",
    "cat_1 = lambda g: sum( g[g['PriceCategory'] == 1]['Qta'] )\n",
    "cat_2 = lambda g: sum( g[g['PriceCategory'] == 2]['Qta'] )\n",
    "\n",
    "# TENIAMO?\n",
    "# Number of distinct items\n",
    "unique_items = lambda g: g[\"ProdID\"].nunique()\n",
    "def entropy(g, attr1, attr2, groupby, op):\n",
    "    l = g[[attr1, attr2]].groupby(groupby).agg(op)\n",
    "    m = l.values.sum()\n",
    "    e = -sum( [ (mi/m)*log((mi/m), 2) for mi in l.values.flatten() ] )\n",
    "    return round(e, 2)"
   ]
  },
  {
   "cell_type": "code",
   "execution_count": 6,
   "metadata": {},
   "outputs": [
    {
     "output_type": "stream",
     "name": "stdout",
     "text": [
      "            Monetary  NTransactions  TotItems  cat_0  cat_1  cat_2  \\\nCustomerID                                                           \n12347        4310.00            182      2458   1880    547     31   \n12348        1797.24             31      2341   2332      0      9   \n12349        1757.55             73       631    478    115     38   \n12350         334.40             17       197    190      6      1   \n12352        2506.04             85       536    354    146     36   \n...              ...            ...       ...    ...    ...    ...   \n18280         180.60             10        45      0     40      5   \n18281          80.82              7        54     46      6      2   \n18282         178.05             12       103     68     31      4   \n18283        2094.88            689      1397   1271    122      4   \n18287        1837.28             69      1586   1510     72      4   \n\n            UniqueItems  E-Sale  \nCustomerID                       \n12347               103    5.86  \n12348                22    0.91  \n12349                73    3.77  \n12350                17    2.48  \n12352                59    2.55  \n...                 ...     ...  \n18280                10    3.16  \n18281                 7    1.70  \n18282                12    3.01  \n18283               263    7.44  \n18287                59    5.51  \n\n[4336 rows x 8 columns]\n"
     ]
    }
   ],
   "source": [
    "groups = df[df[\"Qta\"]>0].groupby(\"CustomerID\")\n",
    "cl = pd.DataFrame(data=np.array( [\n",
    "    [\n",
    "    group[0],\n",
    "    monetary(group[1]),\n",
    "    n_transactions(group[1]),\n",
    "    tot_items(group[1]),\n",
    "    cat_0(group[1]),\n",
    "    cat_1(group[1]),\n",
    "    cat_2(group[1]),\n",
    "    unique_items(group[1]),\n",
    "    entropy(group[1], \"ProdID\", 'Sale', 'ProdID', 'sum')\n",
    "    ] for group in groups\n",
    "] ), columns=[\"CustomerID\",\"Monetary\",\"NTransactions\",\"TotItems\",\"cat_0\",\"cat_1\",\"cat_2\",\"UniqueItems\",\"E-Sale\"] )\n",
    "\n",
    "for col in cl.columns:\n",
    "    if col not in [\"Monetary\",\"E-Sale\"]:\n",
    "        cl[col] = cl[col].astype(np.int64)\n",
    "\n",
    "cl.set_index('CustomerID', inplace=True)\n",
    "print(cl)\n",
    "cl.to_csv(\"classification.csv\")"
   ]
  },
  {
   "cell_type": "code",
   "execution_count": 7,
   "metadata": {},
   "outputs": [
    {
     "output_type": "execute_result",
     "data": {
      "text/plain": [
       "0    4011367\n",
       "1     860538\n",
       "2     114966\n",
       "dtype: int64"
      ]
     },
     "metadata": {},
     "execution_count": 7
    }
   ],
   "source": [
    "cl = pd.read_csv(\"classification.csv\", index_col=0)\n",
    "\n",
    "bro = []\n",
    "bro.append(cl['cat_0'].sum())\n",
    "bro.append(cl['cat_1'].sum())\n",
    "bro.append(cl['cat_2'].sum())\n",
    "\n",
    "bro = pd.Series(bro)\n",
    "bro"
   ]
  },
  {
   "cell_type": "code",
   "execution_count": 8,
   "metadata": {},
   "outputs": [
    {
     "output_type": "execute_result",
     "data": {
      "text/plain": [
       "            Monetary  NTransactions  TotItems  cat_0  cat_1  cat_2  \\\n",
       "CustomerID                                                           \n",
       "12347        4310.00            182      2458   1880    547     31   \n",
       "12354        1079.40             58       530    430     77     23   \n",
       "12356        2811.43             59      1591   1346    170     75   \n",
       "12357        6207.67            131      2708   1766    823    119   \n",
       "12359        6372.58            243      1622   1004    433    185   \n",
       "...              ...            ...       ...    ...    ...    ...   \n",
       "18263        1213.16             61      1468   1456     12      0   \n",
       "18265         771.51             44       309    202     91     16   \n",
       "18272        3078.58            166      2050   1702    338     10   \n",
       "18283        2094.88            689      1397   1271    122      4   \n",
       "18287        1837.28             69      1586   1510     72      4   \n",
       "\n",
       "            UniqueItems  E-Sale  \n",
       "CustomerID                       \n",
       "12347               103    5.86  \n",
       "12354                58    5.30  \n",
       "12356                53    4.48  \n",
       "12357               131    6.43  \n",
       "12359               214    5.94  \n",
       "...                 ...     ...  \n",
       "18263                59    5.61  \n",
       "18265                43    5.06  \n",
       "18272                99    6.07  \n",
       "18283               263    7.44  \n",
       "18287                59    5.51  \n",
       "\n",
       "[2446 rows x 8 columns]"
      ],
      "text/html": "<div>\n<style scoped>\n    .dataframe tbody tr th:only-of-type {\n        vertical-align: middle;\n    }\n\n    .dataframe tbody tr th {\n        vertical-align: top;\n    }\n\n    .dataframe thead th {\n        text-align: right;\n    }\n</style>\n<table border=\"1\" class=\"dataframe\">\n  <thead>\n    <tr style=\"text-align: right;\">\n      <th></th>\n      <th>Monetary</th>\n      <th>NTransactions</th>\n      <th>TotItems</th>\n      <th>cat_0</th>\n      <th>cat_1</th>\n      <th>cat_2</th>\n      <th>UniqueItems</th>\n      <th>E-Sale</th>\n    </tr>\n    <tr>\n      <th>CustomerID</th>\n      <th></th>\n      <th></th>\n      <th></th>\n      <th></th>\n      <th></th>\n      <th></th>\n      <th></th>\n      <th></th>\n    </tr>\n  </thead>\n  <tbody>\n    <tr>\n      <th>12347</th>\n      <td>4310.00</td>\n      <td>182</td>\n      <td>2458</td>\n      <td>1880</td>\n      <td>547</td>\n      <td>31</td>\n      <td>103</td>\n      <td>5.86</td>\n    </tr>\n    <tr>\n      <th>12354</th>\n      <td>1079.40</td>\n      <td>58</td>\n      <td>530</td>\n      <td>430</td>\n      <td>77</td>\n      <td>23</td>\n      <td>58</td>\n      <td>5.30</td>\n    </tr>\n    <tr>\n      <th>12356</th>\n      <td>2811.43</td>\n      <td>59</td>\n      <td>1591</td>\n      <td>1346</td>\n      <td>170</td>\n      <td>75</td>\n      <td>53</td>\n      <td>4.48</td>\n    </tr>\n    <tr>\n      <th>12357</th>\n      <td>6207.67</td>\n      <td>131</td>\n      <td>2708</td>\n      <td>1766</td>\n      <td>823</td>\n      <td>119</td>\n      <td>131</td>\n      <td>6.43</td>\n    </tr>\n    <tr>\n      <th>12359</th>\n      <td>6372.58</td>\n      <td>243</td>\n      <td>1622</td>\n      <td>1004</td>\n      <td>433</td>\n      <td>185</td>\n      <td>214</td>\n      <td>5.94</td>\n    </tr>\n    <tr>\n      <th>...</th>\n      <td>...</td>\n      <td>...</td>\n      <td>...</td>\n      <td>...</td>\n      <td>...</td>\n      <td>...</td>\n      <td>...</td>\n      <td>...</td>\n    </tr>\n    <tr>\n      <th>18263</th>\n      <td>1213.16</td>\n      <td>61</td>\n      <td>1468</td>\n      <td>1456</td>\n      <td>12</td>\n      <td>0</td>\n      <td>59</td>\n      <td>5.61</td>\n    </tr>\n    <tr>\n      <th>18265</th>\n      <td>771.51</td>\n      <td>44</td>\n      <td>309</td>\n      <td>202</td>\n      <td>91</td>\n      <td>16</td>\n      <td>43</td>\n      <td>5.06</td>\n    </tr>\n    <tr>\n      <th>18272</th>\n      <td>3078.58</td>\n      <td>166</td>\n      <td>2050</td>\n      <td>1702</td>\n      <td>338</td>\n      <td>10</td>\n      <td>99</td>\n      <td>6.07</td>\n    </tr>\n    <tr>\n      <th>18283</th>\n      <td>2094.88</td>\n      <td>689</td>\n      <td>1397</td>\n      <td>1271</td>\n      <td>122</td>\n      <td>4</td>\n      <td>263</td>\n      <td>7.44</td>\n    </tr>\n    <tr>\n      <th>18287</th>\n      <td>1837.28</td>\n      <td>69</td>\n      <td>1586</td>\n      <td>1510</td>\n      <td>72</td>\n      <td>4</td>\n      <td>59</td>\n      <td>5.51</td>\n    </tr>\n  </tbody>\n</table>\n<p>2446 rows × 8 columns</p>\n</div>"
     },
     "metadata": {},
     "execution_count": 8
    }
   ],
   "source": [
    "# Prova a scremare\n",
    "cl = pd.read_csv(\"classification.csv\", index_col=0)\n",
    "cl = cl[cl['TotItems'] >= cl['TotItems'].quantile(.25)]\n",
    "cl = cl[cl['E-Sale'] >= cl['E-Sale'].quantile(.25)]\n",
    "\n",
    "cl"
   ]
  },
  {
   "cell_type": "code",
   "execution_count": 9,
   "metadata": {},
   "outputs": [],
   "source": [
    "cl['Mean_cat'] = cl[['cat_0', 'cat_1', 'cat_2']].idxmax(axis='columns')"
   ]
  },
  {
   "cell_type": "code",
   "execution_count": 10,
   "metadata": {},
   "outputs": [
    {
     "output_type": "execute_result",
     "data": {
      "text/plain": [
       "<AxesSubplot:>"
      ]
     },
     "metadata": {},
     "execution_count": 10
    },
    {
     "output_type": "display_data",
     "data": {
      "text/plain": "<Figure size 432x288 with 1 Axes>",
      "image/svg+xml": "<?xml version=\"1.0\" encoding=\"utf-8\" standalone=\"no\"?>\r\n<!DOCTYPE svg PUBLIC \"-//W3C//DTD SVG 1.1//EN\"\r\n  \"http://www.w3.org/Graphics/SVG/1.1/DTD/svg11.dtd\">\r\n<!-- Created with matplotlib (https://matplotlib.org/) -->\r\n<svg height=\"265.749375pt\" version=\"1.1\" viewBox=\"0 0 381.65 265.749375\" width=\"381.65pt\" xmlns=\"http://www.w3.org/2000/svg\" xmlns:xlink=\"http://www.w3.org/1999/xlink\">\r\n <metadata>\r\n  <rdf:RDF xmlns:cc=\"http://creativecommons.org/ns#\" xmlns:dc=\"http://purl.org/dc/elements/1.1/\" xmlns:rdf=\"http://www.w3.org/1999/02/22-rdf-syntax-ns#\">\r\n   <cc:Work>\r\n    <dc:type rdf:resource=\"http://purl.org/dc/dcmitype/StillImage\"/>\r\n    <dc:date>2020-11-22T12:17:31.832653</dc:date>\r\n    <dc:format>image/svg+xml</dc:format>\r\n    <dc:creator>\r\n     <cc:Agent>\r\n      <dc:title>Matplotlib v3.3.2, https://matplotlib.org/</dc:title>\r\n     </cc:Agent>\r\n    </dc:creator>\r\n   </cc:Work>\r\n  </rdf:RDF>\r\n </metadata>\r\n <defs>\r\n  <style type=\"text/css\">*{stroke-linecap:butt;stroke-linejoin:round;}</style>\r\n </defs>\r\n <g id=\"figure_1\">\r\n  <g id=\"patch_1\">\r\n   <path d=\"M -0 265.749375 \r\nL 381.65 265.749375 \r\nL 381.65 0 \r\nL -0 0 \r\nz\r\n\" style=\"fill:none;\"/>\r\n  </g>\r\n  <g id=\"axes_1\">\r\n   <g id=\"patch_2\">\r\n    <path d=\"M 39.65 224.64 \r\nL 374.45 224.64 \r\nL 374.45 7.2 \r\nL 39.65 7.2 \r\nz\r\n\" style=\"fill:#ffffff;\"/>\r\n   </g>\r\n   <g id=\"patch_3\">\r\n    <path clip-path=\"url(#p9ee41c1adc)\" d=\"M 81.5 224.64 \r\nL 165.2 224.64 \r\nL 165.2 17.554286 \r\nL 81.5 17.554286 \r\nz\r\n\" style=\"fill:#1f77b4;\"/>\r\n   </g>\r\n   <g id=\"patch_4\">\r\n    <path clip-path=\"url(#p9ee41c1adc)\" d=\"M 248.9 224.64 \r\nL 332.6 224.64 \r\nL 332.6 218.089419 \r\nL 248.9 218.089419 \r\nz\r\n\" style=\"fill:#1f77b4;\"/>\r\n   </g>\r\n   <g id=\"matplotlib.axis_1\">\r\n    <g id=\"xtick_1\">\r\n     <g id=\"line2d_1\">\r\n      <defs>\r\n       <path d=\"M 0 0 \r\nL 0 3.5 \r\n\" id=\"m974c613a48\" style=\"stroke:#000000;stroke-width:0.8;\"/>\r\n      </defs>\r\n      <g>\r\n       <use style=\"stroke:#000000;stroke-width:0.8;\" x=\"123.35\" xlink:href=\"#m974c613a48\" y=\"224.64\"/>\r\n      </g>\r\n     </g>\r\n     <g id=\"text_1\">\r\n      <!-- cat_0 -->\r\n      <g transform=\"translate(125.882031 258.549375)rotate(-90)scale(0.1 -0.1)\">\r\n       <defs>\r\n        <path d=\"M 48.78125 52.59375 \r\nL 48.78125 44.1875 \r\nQ 44.96875 46.296875 41.140625 47.34375 \r\nQ 37.3125 48.390625 33.40625 48.390625 \r\nQ 24.65625 48.390625 19.8125 42.84375 \r\nQ 14.984375 37.3125 14.984375 27.296875 \r\nQ 14.984375 17.28125 19.8125 11.734375 \r\nQ 24.65625 6.203125 33.40625 6.203125 \r\nQ 37.3125 6.203125 41.140625 7.25 \r\nQ 44.96875 8.296875 48.78125 10.40625 \r\nL 48.78125 2.09375 \r\nQ 45.015625 0.34375 40.984375 -0.53125 \r\nQ 36.96875 -1.421875 32.421875 -1.421875 \r\nQ 20.0625 -1.421875 12.78125 6.34375 \r\nQ 5.515625 14.109375 5.515625 27.296875 \r\nQ 5.515625 40.671875 12.859375 48.328125 \r\nQ 20.21875 56 33.015625 56 \r\nQ 37.15625 56 41.109375 55.140625 \r\nQ 45.0625 54.296875 48.78125 52.59375 \r\nz\r\n\" id=\"DejaVuSans-99\"/>\r\n        <path d=\"M 34.28125 27.484375 \r\nQ 23.390625 27.484375 19.1875 25 \r\nQ 14.984375 22.515625 14.984375 16.5 \r\nQ 14.984375 11.71875 18.140625 8.90625 \r\nQ 21.296875 6.109375 26.703125 6.109375 \r\nQ 34.1875 6.109375 38.703125 11.40625 \r\nQ 43.21875 16.703125 43.21875 25.484375 \r\nL 43.21875 27.484375 \r\nz\r\nM 52.203125 31.203125 \r\nL 52.203125 0 \r\nL 43.21875 0 \r\nL 43.21875 8.296875 \r\nQ 40.140625 3.328125 35.546875 0.953125 \r\nQ 30.953125 -1.421875 24.3125 -1.421875 \r\nQ 15.921875 -1.421875 10.953125 3.296875 \r\nQ 6 8.015625 6 15.921875 \r\nQ 6 25.140625 12.171875 29.828125 \r\nQ 18.359375 34.515625 30.609375 34.515625 \r\nL 43.21875 34.515625 \r\nL 43.21875 35.40625 \r\nQ 43.21875 41.609375 39.140625 45 \r\nQ 35.0625 48.390625 27.6875 48.390625 \r\nQ 23 48.390625 18.546875 47.265625 \r\nQ 14.109375 46.140625 10.015625 43.890625 \r\nL 10.015625 52.203125 \r\nQ 14.9375 54.109375 19.578125 55.046875 \r\nQ 24.21875 56 28.609375 56 \r\nQ 40.484375 56 46.34375 49.84375 \r\nQ 52.203125 43.703125 52.203125 31.203125 \r\nz\r\n\" id=\"DejaVuSans-97\"/>\r\n        <path d=\"M 18.3125 70.21875 \r\nL 18.3125 54.6875 \r\nL 36.8125 54.6875 \r\nL 36.8125 47.703125 \r\nL 18.3125 47.703125 \r\nL 18.3125 18.015625 \r\nQ 18.3125 11.328125 20.140625 9.421875 \r\nQ 21.96875 7.515625 27.59375 7.515625 \r\nL 36.8125 7.515625 \r\nL 36.8125 0 \r\nL 27.59375 0 \r\nQ 17.1875 0 13.234375 3.875 \r\nQ 9.28125 7.765625 9.28125 18.015625 \r\nL 9.28125 47.703125 \r\nL 2.6875 47.703125 \r\nL 2.6875 54.6875 \r\nL 9.28125 54.6875 \r\nL 9.28125 70.21875 \r\nz\r\n\" id=\"DejaVuSans-116\"/>\r\n        <path d=\"M 50.984375 -16.609375 \r\nL 50.984375 -23.578125 \r\nL -0.984375 -23.578125 \r\nL -0.984375 -16.609375 \r\nz\r\n\" id=\"DejaVuSans-95\"/>\r\n        <path d=\"M 31.78125 66.40625 \r\nQ 24.171875 66.40625 20.328125 58.90625 \r\nQ 16.5 51.421875 16.5 36.375 \r\nQ 16.5 21.390625 20.328125 13.890625 \r\nQ 24.171875 6.390625 31.78125 6.390625 \r\nQ 39.453125 6.390625 43.28125 13.890625 \r\nQ 47.125 21.390625 47.125 36.375 \r\nQ 47.125 51.421875 43.28125 58.90625 \r\nQ 39.453125 66.40625 31.78125 66.40625 \r\nz\r\nM 31.78125 74.21875 \r\nQ 44.046875 74.21875 50.515625 64.515625 \r\nQ 56.984375 54.828125 56.984375 36.375 \r\nQ 56.984375 17.96875 50.515625 8.265625 \r\nQ 44.046875 -1.421875 31.78125 -1.421875 \r\nQ 19.53125 -1.421875 13.0625 8.265625 \r\nQ 6.59375 17.96875 6.59375 36.375 \r\nQ 6.59375 54.828125 13.0625 64.515625 \r\nQ 19.53125 74.21875 31.78125 74.21875 \r\nz\r\n\" id=\"DejaVuSans-48\"/>\r\n       </defs>\r\n       <use xlink:href=\"#DejaVuSans-99\"/>\r\n       <use x=\"54.980469\" xlink:href=\"#DejaVuSans-97\"/>\r\n       <use x=\"116.259766\" xlink:href=\"#DejaVuSans-116\"/>\r\n       <use x=\"155.46875\" xlink:href=\"#DejaVuSans-95\"/>\r\n       <use x=\"205.46875\" xlink:href=\"#DejaVuSans-48\"/>\r\n      </g>\r\n     </g>\r\n    </g>\r\n    <g id=\"xtick_2\">\r\n     <g id=\"line2d_2\">\r\n      <g>\r\n       <use style=\"stroke:#000000;stroke-width:0.8;\" x=\"290.75\" xlink:href=\"#m974c613a48\" y=\"224.64\"/>\r\n      </g>\r\n     </g>\r\n     <g id=\"text_2\">\r\n      <!-- cat_1 -->\r\n      <g transform=\"translate(293.23125 258.549375)rotate(-90)scale(0.1 -0.1)\">\r\n       <defs>\r\n        <path d=\"M 12.40625 8.296875 \r\nL 28.515625 8.296875 \r\nL 28.515625 63.921875 \r\nL 10.984375 60.40625 \r\nL 10.984375 69.390625 \r\nL 28.421875 72.90625 \r\nL 38.28125 72.90625 \r\nL 38.28125 8.296875 \r\nL 54.390625 8.296875 \r\nL 54.390625 0 \r\nL 12.40625 0 \r\nz\r\n\" id=\"DejaVuSans-49\"/>\r\n       </defs>\r\n       <use xlink:href=\"#DejaVuSans-99\"/>\r\n       <use x=\"54.980469\" xlink:href=\"#DejaVuSans-97\"/>\r\n       <use x=\"116.259766\" xlink:href=\"#DejaVuSans-116\"/>\r\n       <use x=\"155.46875\" xlink:href=\"#DejaVuSans-95\"/>\r\n       <use x=\"205.46875\" xlink:href=\"#DejaVuSans-49\"/>\r\n      </g>\r\n     </g>\r\n    </g>\r\n   </g>\r\n   <g id=\"matplotlib.axis_2\">\r\n    <g id=\"ytick_1\">\r\n     <g id=\"line2d_3\">\r\n      <defs>\r\n       <path d=\"M 0 0 \r\nL -3.5 0 \r\n\" id=\"mcb0aa09aba\" style=\"stroke:#000000;stroke-width:0.8;\"/>\r\n      </defs>\r\n      <g>\r\n       <use style=\"stroke:#000000;stroke-width:0.8;\" x=\"39.65\" xlink:href=\"#mcb0aa09aba\" y=\"224.64\"/>\r\n      </g>\r\n     </g>\r\n     <g id=\"text_3\">\r\n      <!-- 0 -->\r\n      <g transform=\"translate(26.2875 228.439219)scale(0.1 -0.1)\">\r\n       <use xlink:href=\"#DejaVuSans-48\"/>\r\n      </g>\r\n     </g>\r\n    </g>\r\n    <g id=\"ytick_2\">\r\n     <g id=\"line2d_4\">\r\n      <g>\r\n       <use style=\"stroke:#000000;stroke-width:0.8;\" x=\"39.65\" xlink:href=\"#mcb0aa09aba\" y=\"180.969457\"/>\r\n      </g>\r\n     </g>\r\n     <g id=\"text_4\">\r\n      <!-- 500 -->\r\n      <g transform=\"translate(13.5625 184.768676)scale(0.1 -0.1)\">\r\n       <defs>\r\n        <path d=\"M 10.796875 72.90625 \r\nL 49.515625 72.90625 \r\nL 49.515625 64.59375 \r\nL 19.828125 64.59375 \r\nL 19.828125 46.734375 \r\nQ 21.96875 47.46875 24.109375 47.828125 \r\nQ 26.265625 48.1875 28.421875 48.1875 \r\nQ 40.625 48.1875 47.75 41.5 \r\nQ 54.890625 34.8125 54.890625 23.390625 \r\nQ 54.890625 11.625 47.5625 5.09375 \r\nQ 40.234375 -1.421875 26.90625 -1.421875 \r\nQ 22.3125 -1.421875 17.546875 -0.640625 \r\nQ 12.796875 0.140625 7.71875 1.703125 \r\nL 7.71875 11.625 \r\nQ 12.109375 9.234375 16.796875 8.0625 \r\nQ 21.484375 6.890625 26.703125 6.890625 \r\nQ 35.15625 6.890625 40.078125 11.328125 \r\nQ 45.015625 15.765625 45.015625 23.390625 \r\nQ 45.015625 31 40.078125 35.4375 \r\nQ 35.15625 39.890625 26.703125 39.890625 \r\nQ 22.75 39.890625 18.8125 39.015625 \r\nQ 14.890625 38.140625 10.796875 36.28125 \r\nz\r\n\" id=\"DejaVuSans-53\"/>\r\n       </defs>\r\n       <use xlink:href=\"#DejaVuSans-53\"/>\r\n       <use x=\"63.623047\" xlink:href=\"#DejaVuSans-48\"/>\r\n       <use x=\"127.246094\" xlink:href=\"#DejaVuSans-48\"/>\r\n      </g>\r\n     </g>\r\n    </g>\r\n    <g id=\"ytick_3\">\r\n     <g id=\"line2d_5\">\r\n      <g>\r\n       <use style=\"stroke:#000000;stroke-width:0.8;\" x=\"39.65\" xlink:href=\"#mcb0aa09aba\" y=\"137.298914\"/>\r\n      </g>\r\n     </g>\r\n     <g id=\"text_5\">\r\n      <!-- 1000 -->\r\n      <g transform=\"translate(7.2 141.098133)scale(0.1 -0.1)\">\r\n       <use xlink:href=\"#DejaVuSans-49\"/>\r\n       <use x=\"63.623047\" xlink:href=\"#DejaVuSans-48\"/>\r\n       <use x=\"127.246094\" xlink:href=\"#DejaVuSans-48\"/>\r\n       <use x=\"190.869141\" xlink:href=\"#DejaVuSans-48\"/>\r\n      </g>\r\n     </g>\r\n    </g>\r\n    <g id=\"ytick_4\">\r\n     <g id=\"line2d_6\">\r\n      <g>\r\n       <use style=\"stroke:#000000;stroke-width:0.8;\" x=\"39.65\" xlink:href=\"#mcb0aa09aba\" y=\"93.628371\"/>\r\n      </g>\r\n     </g>\r\n     <g id=\"text_6\">\r\n      <!-- 1500 -->\r\n      <g transform=\"translate(7.2 97.42759)scale(0.1 -0.1)\">\r\n       <use xlink:href=\"#DejaVuSans-49\"/>\r\n       <use x=\"63.623047\" xlink:href=\"#DejaVuSans-53\"/>\r\n       <use x=\"127.246094\" xlink:href=\"#DejaVuSans-48\"/>\r\n       <use x=\"190.869141\" xlink:href=\"#DejaVuSans-48\"/>\r\n      </g>\r\n     </g>\r\n    </g>\r\n    <g id=\"ytick_5\">\r\n     <g id=\"line2d_7\">\r\n      <g>\r\n       <use style=\"stroke:#000000;stroke-width:0.8;\" x=\"39.65\" xlink:href=\"#mcb0aa09aba\" y=\"49.957829\"/>\r\n      </g>\r\n     </g>\r\n     <g id=\"text_7\">\r\n      <!-- 2000 -->\r\n      <g transform=\"translate(7.2 53.757047)scale(0.1 -0.1)\">\r\n       <defs>\r\n        <path d=\"M 19.1875 8.296875 \r\nL 53.609375 8.296875 \r\nL 53.609375 0 \r\nL 7.328125 0 \r\nL 7.328125 8.296875 \r\nQ 12.9375 14.109375 22.625 23.890625 \r\nQ 32.328125 33.6875 34.8125 36.53125 \r\nQ 39.546875 41.84375 41.421875 45.53125 \r\nQ 43.3125 49.21875 43.3125 52.78125 \r\nQ 43.3125 58.59375 39.234375 62.25 \r\nQ 35.15625 65.921875 28.609375 65.921875 \r\nQ 23.96875 65.921875 18.8125 64.3125 \r\nQ 13.671875 62.703125 7.8125 59.421875 \r\nL 7.8125 69.390625 \r\nQ 13.765625 71.78125 18.9375 73 \r\nQ 24.125 74.21875 28.421875 74.21875 \r\nQ 39.75 74.21875 46.484375 68.546875 \r\nQ 53.21875 62.890625 53.21875 53.421875 \r\nQ 53.21875 48.921875 51.53125 44.890625 \r\nQ 49.859375 40.875 45.40625 35.40625 \r\nQ 44.1875 33.984375 37.640625 27.21875 \r\nQ 31.109375 20.453125 19.1875 8.296875 \r\nz\r\n\" id=\"DejaVuSans-50\"/>\r\n       </defs>\r\n       <use xlink:href=\"#DejaVuSans-50\"/>\r\n       <use x=\"63.623047\" xlink:href=\"#DejaVuSans-48\"/>\r\n       <use x=\"127.246094\" xlink:href=\"#DejaVuSans-48\"/>\r\n       <use x=\"190.869141\" xlink:href=\"#DejaVuSans-48\"/>\r\n      </g>\r\n     </g>\r\n    </g>\r\n   </g>\r\n   <g id=\"patch_5\">\r\n    <path d=\"M 39.65 224.64 \r\nL 39.65 7.2 \r\n\" style=\"fill:none;stroke:#000000;stroke-linecap:square;stroke-linejoin:miter;stroke-width:0.8;\"/>\r\n   </g>\r\n   <g id=\"patch_6\">\r\n    <path d=\"M 374.45 224.64 \r\nL 374.45 7.2 \r\n\" style=\"fill:none;stroke:#000000;stroke-linecap:square;stroke-linejoin:miter;stroke-width:0.8;\"/>\r\n   </g>\r\n   <g id=\"patch_7\">\r\n    <path d=\"M 39.65 224.64 \r\nL 374.45 224.64 \r\n\" style=\"fill:none;stroke:#000000;stroke-linecap:square;stroke-linejoin:miter;stroke-width:0.8;\"/>\r\n   </g>\r\n   <g id=\"patch_8\">\r\n    <path d=\"M 39.65 7.2 \r\nL 374.45 7.2 \r\n\" style=\"fill:none;stroke:#000000;stroke-linecap:square;stroke-linejoin:miter;stroke-width:0.8;\"/>\r\n   </g>\r\n  </g>\r\n </g>\r\n <defs>\r\n  <clipPath id=\"p9ee41c1adc\">\r\n   <rect height=\"217.44\" width=\"334.8\" x=\"39.65\" y=\"7.2\"/>\r\n  </clipPath>\r\n </defs>\r\n</svg>\r\n",
      "image/png": "[encoded data removed]"
     },
     "metadata": {
      "needs_background": "light"
     }
    }
   ],
   "source": [
    "cl['Mean_cat'].value_counts().plot.bar()"
   ]
  },
  {
   "source": [
    "Idea (valutare monetary oltre minitemsale):\n",
    "- Impostare 2 soglie di sbarramento per identificare una categoria di utenti papabile per la classificazione\n",
    "    - una soglia su Numero di transazioni\n",
    "    - una sull'entropia\n",
    "    - alla peggio un cazzo\n",
    "- dopodiché puoi assumere che minitemsale sia un attributo significativo per la capacità di spesa dell'utente\n",
    "- poi o lo dividiamo con kmeans o per quartili"
   ],
   "cell_type": "markdown",
   "metadata": {}
  },
  {
   "cell_type": "code",
   "execution_count": null,
   "metadata": {},
   "outputs": [],
   "source": [
    "print(cl['NTransactions'].describe())\n",
    "cl['NTransactions'].hist(bins=100)"
   ]
  }
 ]
}