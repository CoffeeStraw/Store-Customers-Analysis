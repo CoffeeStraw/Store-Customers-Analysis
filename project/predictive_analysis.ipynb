{
 "metadata": {
  "language_info": {
   "codemirror_mode": {
    "name": "ipython",
    "version": 3
   },
   "file_extension": ".py",
   "mimetype": "text/x-python",
   "name": "python",
   "nbconvert_exporter": "python",
   "pygments_lexer": "ipython3",
   "version": "3.8.5-final"
  },
  "orig_nbformat": 2,
  "kernelspec": {
   "name": "python3",
   "display_name": "Python 3"
  }
 },
 "nbformat": 4,
 "nbformat_minor": 2,
 "cells": [
  {
   "source": [
    "# DATA MINING PROJECT: Analysis of a Supermarket’s Customers\n",
    "## 3.1) Predictive Analysis: new customer profile\n",
    "### *Antonio Strippoli, Valerio Mariani*"
   ],
   "cell_type": "markdown",
   "metadata": {}
  },
  {
   "cell_type": "code",
   "execution_count": null,
   "metadata": {},
   "outputs": [],
   "source": [
    "%matplotlib inline\n",
    "import numpy as np\n",
    "import pandas as pd\n",
    "import seaborn as sn\n",
    "import matplotlib.pyplot as plt\n",
    "from matplotlib.colors import LinearSegmentedColormap\n",
    "\n",
    "from sklearn.cluster import KMeans, DBSCAN\n",
    "from sklearn.preprocessing import MinMaxScaler\n",
    "from scipy.spatial.distance import pdist, squareform\n",
    "from sklearn.metrics import silhouette_score, davies_bouldin_score\n",
    "\n",
    "pd.set_option('mode.chained_assignment', None)"
   ]
  },
  {
   "cell_type": "code",
   "execution_count": null,
   "metadata": {},
   "outputs": [],
   "source": [
    "def plot(ax, folder=\"clustering_kmeans\", filename=\"\", figsize=(6.4, 4.8)):\n",
    "    fig = plt.gcf()\n",
    "    fig.set_size_inches(*figsize)\n",
    "    plt.tight_layout()\n",
    "    if filename:\n",
    "        path = os.path.join(\"..\", \"report\", \"imgs\", folder)\n",
    "        if not os.path.exists(path):\n",
    "            os.mkdir(path)\n",
    "        plt.savefig(os.path.join(path, filename))\n",
    "    plt.show()\n",
    "    plt.close()"
   ]
  },
  {
   "source": [
    "### Define class using MeanSale"
   ],
   "cell_type": "markdown",
   "metadata": {}
  },
  {
   "cell_type": "code",
   "execution_count": null,
   "metadata": {},
   "outputs": [],
   "source": [
    "# Load dataset\n",
    "cdf = pd.read_csv(\"customer_profilation.csv\", index_col=0)\n",
    "cdf.sort_values(\"MeanSale\", inplace=True)\n",
    "brutti = cdf[cdf['MeanSale'] >= 3000]\n",
    "cdf = cdf[cdf['MeanSale'] < 3000]"
   ]
  },
  {
   "cell_type": "code",
   "execution_count": null,
   "metadata": {},
   "outputs": [],
   "source": [
    "print(cdf['MeanSale'].describe())\n",
    "plot(cdf['MeanSale'].plot.box())\n",
    "plot(cdf['MeanSale'].hist(bins=100))"
   ]
  },
  {
   "cell_type": "code",
   "execution_count": null,
   "metadata": {},
   "outputs": [],
   "source": [
    "attr_cluster = ['MeanSale']\n",
    "cdf_cluster = cdf[attr_cluster]\n",
    "\n",
    "# Normalize values\n",
    "scaler = MinMaxScaler() # Minmax?\n",
    "X = scaler.fit_transform(cdf_cluster.values)"
   ]
  },
  {
   "cell_type": "code",
   "execution_count": null,
   "metadata": {},
   "outputs": [],
   "source": [
    "# We choosed 3 as our number of clusters, proceede with the clusterization\n",
    "kmeans = KMeans(n_clusters=3, init=\"k-means++\", n_init=1000, max_iter=1000)\n",
    "kmeans.fit(X)\n",
    "\n",
    "sse = round(kmeans.inertia_, 2)\n",
    "sil = round(silhouette_score(X, kmeans.labels_), 2)\n",
    "db = round(davies_bouldin_score(X, kmeans.labels_), 2)\n",
    "print(\"SSE:\", sse)\n",
    "print(\"Silhouette:\", sil)\n",
    "print(\"Davies Bouldin:\", db)\n",
    "\n",
    "# Save centroids\n",
    "centers = scaler.inverse_transform(kmeans.cluster_centers_)\n",
    "\n",
    "# Define a new colormap to employ in the visualizations\n",
    "colors = np.array([\n",
    "    (219, 42, 42, 255), # Red\n",
    "    (219, 116, 42, 255), # Orange\n",
    "    (80, 219, 42, 255), # Green\n",
    "    (42, 219, 213, 255), # Cyan\n",
    "    (42, 48, 219, 255), # Blue\n",
    "])\n",
    "colors = colors / 255.0\n",
    "cm = LinearSegmentedColormap.from_list('clusters_6', colors, N=5)"
   ]
  },
  {
   "cell_type": "code",
   "execution_count": null,
   "metadata": {},
   "outputs": [],
   "source": [
    "centers"
   ]
  },
  {
   "cell_type": "code",
   "execution_count": null,
   "metadata": {},
   "outputs": [],
   "source": [
    "print(pd.Series(kmeans.labels_).value_counts())\n",
    "\n",
    "cdf2 = cdf[[\"MeanSale\", \"Monetary\"]]\n",
    "cdf2['Labels'] = kmeans.labels_\n",
    "cdf2.reset_index(drop=True, inplace=True)\n",
    "cdf2.reset_index(inplace=True)\n",
    "cdf2.plot.scatter(x=\"index\", y=\"MeanSale\", c=\"Labels\", cmap=cm)\n",
    "# cdf.plot.scatter(x='MeanSale', y='Labels', c=kmeans.labels_, cmap=cm)"
   ]
  },
  {
   "cell_type": "code",
   "execution_count": null,
   "metadata": {},
   "outputs": [],
   "source": [
    "cdf['Labels'] = kmeans.labels_\n",
    "brutti['Labels'] = int(cdf[cdf['MeanSale'] > 2000].head(1)['Labels'])\n",
    "cdf = cdf.append(brutti)\n",
    "print(cdf['Labels'].value_counts())"
   ]
  },
  {
   "cell_type": "code",
   "execution_count": null,
   "metadata": {},
   "outputs": [],
   "source": [
    "cdf2 = cdf[[\"MeanSale\", \"Labels\"]]\n",
    "cdf2.reset_index(drop=True, inplace=True)\n",
    "cdf2.reset_index(inplace=True)\n",
    "cdf2.plot.scatter(x=\"index\", y=\"MeanSale\", c=cdf2[\"Labels\"], cmap=cm)"
   ]
  },
  {
   "cell_type": "code",
   "execution_count": null,
   "metadata": {},
   "outputs": [],
   "source": []
  }
 ]
}