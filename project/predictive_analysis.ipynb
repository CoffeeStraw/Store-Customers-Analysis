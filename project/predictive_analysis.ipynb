{
  "nbformat": 4,
  "nbformat_minor": 0,
  "metadata": {
    "language_info": {
      "codemirror_mode": {
        "name": "ipython",
        "version": 3
      },
      "file_extension": ".py",
      "mimetype": "text/x-python",
      "name": "python",
      "nbconvert_exporter": "python",
      "pygments_lexer": "ipython3",
      "version": "3.8.5-final"
    },
    "orig_nbformat": 2,
    "kernelspec": {
      "name": "python3",
      "display_name": "Python 3"
    },
    "colab": {
      "name": "predictive_analysis.ipynb",
      "provenance": [],
      "collapsed_sections": []
    }
  },
  "cells": [
    {
      "cell_type": "markdown",
      "metadata": {
        "id": "KA3giDhQ666Q"
      },
      "source": [
        "# DATA MINING PROJECT: Analysis of a Supermarket’s Customers\n",
        "## 3.1) Predictive Analysis: new customer profile\n",
        "### *Antonio Strippoli, Valerio Mariani*"
      ]
    },
    {
      "cell_type": "code",
      "metadata": {
        "id": "XS-ynrU3666Q"
      },
      "source": [
        "%matplotlib inline\n",
        "import numpy as np\n",
        "import pandas as pd\n",
        "from math import log\n",
        "import seaborn as sn\n",
        "import matplotlib.pyplot as plt\n",
        "from datetime import timedelta, datetime\n",
        "from matplotlib.colors import LinearSegmentedColormap\n",
        "\n",
        "from sklearn.cluster import KMeans, DBSCAN\n",
        "from sklearn.preprocessing import MinMaxScaler\n",
        "from scipy.spatial.distance import pdist, squareform\n",
        "from sklearn.metrics import silhouette_score, davies_bouldin_score\n",
        "\n",
        "pd.set_option('mode.chained_assignment', None)"
      ],
      "execution_count": null,
      "outputs": []
    },
    {
      "cell_type": "code",
      "metadata": {
        "id": "QstT2z98666R"
      },
      "source": [
        "def plot(ax, folder=\"predictive_pre\", filename=\"\", figsize=(6.4, 4.8)):\n",
        "    fig = plt.gcf()\n",
        "    fig.set_size_inches(*figsize)\n",
        "    plt.tight_layout()\n",
        "    if filename:\n",
        "        path = os.path.join(\"..\", \"report\", \"imgs\", folder)\n",
        "        if not os.path.exists(path):\n",
        "            os.mkdir(path)\n",
        "        plt.savefig(os.path.join(path, filename))\n",
        "    plt.show()\n",
        "    plt.close()"
      ],
      "execution_count": null,
      "outputs": []
    },
    {
      "cell_type": "markdown",
      "metadata": {
        "id": "iGBj2tru666R"
      },
      "source": [
        "### Define class using MeanSale"
      ]
    },
    {
      "cell_type": "code",
      "execution_count": null,
      "metadata": {},
      "outputs": [],
      "source": [
        "# Hyperparameters\n",
        "min_baskets = 3\n",
        "threshold_baskets = 2"
      ]
    },
    {
      "cell_type": "code",
      "metadata": {
        "id": "qKxdJkAm666R"
      },
      "source": [
        "# Load dataset\n",
        "cdf = pd.read_csv(\"customer_profilation.csv\", index_col=0)\n",
        "# Sort by MeanSale\n",
        "cdf.sort_values(\"MeanSale\", inplace=True)"
      ],
      "execution_count": null,
      "outputs": []
    },
    {
      "cell_type": "code",
      "metadata": {
        "id": "zsFe5nBH666R",
        "colab": {
          "base_uri": "https://localhost:8080/",
          "height": 1000
        },
        "outputId": "f050679b-48b0-44a1-ced3-8e1c7201f560"
      },
      "source": [
        "# Analyze MeanSale attribute\n",
        "print(\"--- NUMBER OF BASKETS ---\")\n",
        "print(cdf['Frequency'].describe())\n",
        "plot(cdf['Frequency'].plot.box())\n",
        "plot(cdf['Frequency'].hist(bins=100))\n",
        "print(\"--- MEAN SALE ---\")\n",
        "print(cdf['MeanSale'].describe())\n",
        "plot(cdf['MeanSale'].plot.box())\n",
        "plot(cdf['MeanSale'].hist(bins=100))"
      ],
      "execution_count": null,
      "outputs": []
    },
    {
      "cell_type": "code",
      "metadata": {
        "colab": {
          "base_uri": "https://localhost:8080/",
          "height": 846
        },
        "id": "k4HaBenPnp4K",
        "outputId": "a426a5a6-b522-4528-b521-39d1906969eb"
      },
      "source": [
        "# Remove customers without a minimum number of baskets and from MeanSale\n",
        "cdf = cdf[cdf['Frequency'] >= min_baskets]\n",
        "print(len(cdf))\n",
        "cdf = cdf[cdf['MeanSale'] < 3000]\n",
        "print(len(cdf))"
      ],
      "execution_count": null,
      "outputs": []
    },
    {
      "cell_type": "code",
      "execution_count": null,
      "metadata": {},
      "outputs": [],
      "source": [
        "# Pop some high-values from the dataset, saving them for later (they're surely high-spending customers)\n",
        "print(cdf['MeanSale'].describe())\n",
        "plot(cdf['MeanSale'].plot.box())\n",
        "plot(cdf['MeanSale'].hist(bins=100))\n",
        "\n",
        "mean_sale_outliers = cdf[cdf['MeanSale'] >= 1000]\n",
        "cdf = cdf[cdf['MeanSale'] < 1000]"
      ]
    },
    {
      "cell_type": "code",
      "metadata": {
        "id": "nbqdhexy666R",
        "colab": {
          "base_uri": "https://localhost:8080/"
        },
        "outputId": "c824661f-909d-45e5-cdec-fdd13d16ca38"
      },
      "source": [
        "# Execute K-means with k=3 to compute labels of non-outlier customers\n",
        "cdf_cluster = cdf[['MeanSale']]\n",
        "\n",
        "# Normalize values\n",
        "scaler = MinMaxScaler() # Minmax?\n",
        "X = scaler.fit_transform(cdf_cluster.values)\n",
        "\n",
        "# We choosed 3 as our number of clusters, proceede with the clusterization\n",
        "kmeans = KMeans(n_clusters=3, init=\"k-means++\", n_init=1000, max_iter=1000)\n",
        "kmeans.fit(X)\n",
        "\n",
        "sse = round(kmeans.inertia_, 2)\n",
        "sil = round(silhouette_score(X, kmeans.labels_), 2)\n",
        "db = round(davies_bouldin_score(X, kmeans.labels_), 2)\n",
        "print(\"SSE:\", sse)\n",
        "print(\"Silhouette:\", sil)\n",
        "print(\"Davies Bouldin:\", db)\n",
        "\n",
        "# Save centroids\n",
        "centers = scaler.inverse_transform(kmeans.cluster_centers_)\n",
        "print('Centers:')\n",
        "print(centers)\n",
        "\n",
        "# Define a new colormap to employ in the visualizations\n",
        "colors = np.array([\n",
        "    (80, 219, 42, 255), # Green\n",
        "    (42, 48, 219, 255), # Blue\n",
        "    (219, 42, 42, 255) # Red\n",
        "])\n",
        "colors = colors / 255.0\n",
        "cm = LinearSegmentedColormap.from_list('clusters_3', colors, N=3)\n",
        "\n",
        "cdf['Labels'] = kmeans.labels_"
      ],
      "execution_count": null,
      "outputs": []
    },
    {
      "cell_type": "code",
      "metadata": {
        "colab": {
          "base_uri": "https://localhost:8080/"
        },
        "id": "7_074mEcpwP4",
        "outputId": "fa279437-461e-49d2-e4b0-e6460b1302a7"
      },
      "source": [
        "# Map labels to always have 0 -> low-spending, 1 -> medium-spending, 2 -> high-spending\n",
        "l = int(cdf[cdf['MeanSale'] > 0].iloc[0]['Labels'])\n",
        "m = int(cdf[cdf['MeanSale'] > 500].iloc[0]['Labels'])\n",
        "h = int(cdf[cdf['MeanSale'] > 980].iloc[0]['Labels'])\n",
        "mapping = {\n",
        "    l: 0,\n",
        "    m: 1,\n",
        "    h: 2\n",
        "}\n",
        "cdf = cdf.replace({\"Labels\": mapping})\n",
        "print(cdf['Labels'].value_counts())"
      ],
      "execution_count": null,
      "outputs": []
    },
    {
      "cell_type": "code",
      "metadata": {
        "id": "MibSDFB5666R",
        "colab": {
          "base_uri": "https://localhost:8080/",
          "height": 355
        },
        "outputId": "f447d0f9-0cc8-4756-d4af-78329d555e3f"
      },
      "source": [
        "# Visualize distribution of the clusters\n",
        "cdf2 = cdf[[\"MeanSale\", \"Labels\"]]\n",
        "cdf2.reset_index(drop=True, inplace=True)\n",
        "cdf2.reset_index(inplace=True)\n",
        "plot(cdf2.plot.scatter(x=\"index\", y=\"MeanSale\", c=cdf2[\"Labels\"], cmap=cm), filename=\"clustering_partial\")"
      ],
      "execution_count": null,
      "outputs": []
    },
    {
      "cell_type": "code",
      "metadata": {
        "id": "cQI6jD-P666R"
      },
      "source": [
        "# assegnamo le etichette: quelli clasterizzati hanno ognuno la loro, quelli brutti sono tutti alto-spendenti\n",
        "mean_sale_outliers['Labels'] = 2\n",
        "cdf = cdf.append(mean_sale_outliers)\n",
        "print(cdf['Labels'].value_counts())"
      ],
      "execution_count": null,
      "outputs": []
    },
    {
      "cell_type": "code",
      "metadata": {
        "id": "WLmR7iO2666R"
      },
      "source": [
        "# Visualize distribution of the clusters\n",
        "cdf2 = cdf[[\"MeanSale\", \"Labels\"]]\n",
        "cdf2.reset_index(drop=True, inplace=True)\n",
        "cdf2.reset_index(inplace=True)\n",
        "plot(cdf2.plot.scatter(x=\"index\", y=\"MeanSale\", c=cdf2[\"Labels\"], cmap=cm), filename=\"clustering_full\")"
      ],
      "execution_count": null,
      "outputs": []
    },
    {
      "cell_type": "code",
      "execution_count": null,
      "metadata": {},
      "outputs": [],
      "source": [
        "print(cdf[cdf['Labels'] == 0]['MeanSale'].max())\n",
        "print(cdf[cdf['Labels'] == 1]['MeanSale'].max())\n",
        "print(cdf[cdf['Labels'] == 2]['MeanSale'].max())"
      ]
    },
    {
      "cell_type": "code",
      "metadata": {
        "colab": {
          "base_uri": "https://localhost:8080/",
          "height": 623
        },
        "id": "mpl57Sb1tY2n",
        "outputId": "08de34fc-0204-437e-cd77-26cc48fc0ab0"
      },
      "source": [
        "cdf.to_csv(\"customer_classification.csv\")\n",
        "cdf"
      ],
      "execution_count": null,
      "outputs": []
    },
    {
      "cell_type": "markdown",
      "metadata": {
        "id": "owmn26NM7fMI"
      },
      "source": [
        "# Creazione dataset per allenamento classificatore\n",
        "## Riustruazione sulla base dei dati relativi al primo periodo di di attivita' di ogni utente\n",
        "Una volta assegnate etichette \"SICURE\" ad ogni utente (calcolate usando tutto il periodo di osservazione) vogliamo creare un nuovo dataset, da usare per allenare il classificatore in modo supervisionato.  \n",
        "  \n",
        "In particolare quello che si vuole ottenere e' una serie di coppie  \n",
        "  \n",
        "(input)_i --> (desired_output)_i per i = 1...N_utenti  \n",
        "  \n",
        "dove (input)_i = (attr1, attr2, ... , attrn)_i e' una tupla di attributi relativi all'utente i-esimo e calcolati su una parte del periodo di osservazione disponibile (ad esempio il primo mese, oppure il primo carrello ), mentre invece (desired_output)_i e' l'etichetta assegnata in precedenza all'utente i.  \n"
      ]
    },
    {
      "cell_type": "markdown",
      "metadata": {
        "id": "YzhENxut-kKR"
      },
      "source": [
        "## Fase 1: preprocessing del dataset originario\n",
        "vogliamo eliminare le tuple relative ad acquisti eseguiti da utenti piu vecchi di ((((( un mese )))))"
      ]
    },
    {
      "cell_type": "code",
      "metadata": {
        "id": "9o_z8yr3-6NB"
      },
      "source": [
        "# Read datasets\n",
        "df = pd.read_csv('customer_supermarket_2.csv', index_col=0, parse_dates=[\"PurchaseDate\"])\n",
        "cdf = pd.read_csv('customer_classification.csv', index_col=0)"
      ],
      "execution_count": null,
      "outputs": []
    },
    {
      "cell_type": "code",
      "metadata": {
        "colab": {
          "base_uri": "https://localhost:8080/"
        },
        "id": "A8PcWNG9t1Ss",
        "outputId": "65703cce-4990-446f-de9d-45f6b071a9ae"
      },
      "source": [
        "# Keep only customers that we retained in the label computation step\n",
        "good_customers = list(set(cdf.index))\n",
        "print(\"Length of df BEFORE deletion:\", len(df))\n",
        "df = df[df['CustomerID'].isin(good_customers)]\n",
        "print(\"Length of df AFTER deletion:\", len(df))"
      ],
      "execution_count": null,
      "outputs": []
    },
    {
      "cell_type": "code",
      "metadata": {
        "id": "JVNPU5R1HWu1",
        "colab": {
          "base_uri": "https://localhost:8080/"
        },
        "outputId": "0e96489f-81f0-45c2-ab26-f771f46c56c8"
      },
      "source": [
        "# Do binning on the products' sale\n",
        "# NOTE: could k-means be better to categorize the products???????????????????????????????????????????\n",
        "df_sale = pd.Series(df['Sale'].unique(), name=\"Sale\")\n",
        "q2, q3 = df_sale.quantile([.25, .5])\n",
        "\n",
        "def categorize(sale):\n",
        "    if sale < q2:\n",
        "        return 0\n",
        "    elif sale < q3:\n",
        "        return 1\n",
        "    return 2\n",
        "\n",
        "df['PriceCategory'] = df[\"Sale\"].apply(categorize)\n",
        "print(df['PriceCategory'])"
      ],
      "execution_count": null,
      "outputs": []
    },
    {
      "cell_type": "code",
      "metadata": {
        "id": "MYy678aA666R",
        "colab": {
          "base_uri": "https://localhost:8080/"
        },
        "outputId": "5f233e68-dd05-4f38-a720-0cd0197d94dd"
      },
      "source": [
        "df.sort_values(\"PurchaseDate\", inplace=True)\n",
        "\n",
        "# Filter entries by keeping only the first basket for each customer\n",
        "def select_interesting_tuples(g):\n",
        "  global threshold_baskets\n",
        "  good_baskets = g.iloc[0:threshold_baskets]['BasketID']\n",
        "  return g[g['BasketID'].isin(good_baskets)]\n",
        "\n",
        "# Create an empty dataset\n",
        "new_df = df.drop(index = df.index)\n",
        "\n",
        "# Fill the dataset with only the customers having more than 'threshold_baskets' baskets\n",
        "for g in df.groupby(\"CustomerID\"):\n",
        "  interesting_tuples = select_interesting_tuples(g[1])\n",
        "  new_df = new_df.append(interesting_tuples)\n",
        "\n",
        "new_df"
      ],
      "execution_count": null,
      "outputs": []
    },
    {
      "cell_type": "markdown",
      "metadata": {
        "id": "7Kc10whKF1ev"
      },
      "source": [
        "## Fase due: Profilazione parziale\n",
        "A partire dal Dataset creato, costruisco un dataset per la profilazione utente nel modo esatto in cui lo facevo prima. (Quello che cambia e' che questa volta uso solo le tuple relative al primo periodo di attivita' di ogni utente)"
      ]
    },
    {
      "cell_type": "code",
      "metadata": {
        "id": "fpHejHytEzGk"
      },
      "source": [
        "# Total money spent\n",
        "monetary = lambda g: round( sum( g[\"Sale\"]*g[\"Qta\"] ), 2)\n",
        "# Define attributes for the customer classification\n",
        "max_sale = lambda g: round( max( [ sum( g1[1][\"Sale\"]*g1[1][\"Qta\"] ) for g1 in g.groupby(\"BasketID\") ] ), 2)\n",
        "# Medium amount for a basket\n",
        "mean_sale = lambda g: round( np.mean( [ sum( g1[1][\"Sale\"]*g1[1][\"Qta\"] ) for g1 in g.groupby( \"BasketID\" ) ] ), 2)\n",
        "# Sale entropy\n",
        "def entropy(g, attr1, attr2, groupby, op):\n",
        "    l = g[[attr1, attr2]].groupby(groupby).agg(op)\n",
        "    m = l.values.sum()\n",
        "    e = -sum( [ (mi/m)*log((mi/m), 2) for mi in l.values.flatten() ] )\n",
        "    return round(e, 2)\n",
        "\n",
        "# Total purchased items\n",
        "tot_items = lambda g: sum( g[\"Qta\"] )\n",
        "# Maximum number of purchased items in a shopping session\n",
        "max_items = lambda g: max( [ sum( g1[1][\"Qta\"] ) for g1 in g.groupby(\"BasketID\") ] )\n",
        "# Medium object in basket\n",
        "mean_items = lambda g: int( np.mean( [ sum( g1[1][\"Qta\"] ) for g1 in g.groupby(\"BasketID\") ] ))\n",
        "# Number of distinct items\n",
        "unique_items = lambda g: g[\"ProdID\"].nunique()\n",
        "\n",
        "# Medium amount paid for an item\n",
        "mean_item_sale = lambda g: round( np.mean( g[\"Sale\"].unique() ), 2)\n",
        "# Quantities of items purchased for each category\n",
        "cat_0 = lambda g: sum( g[g['PriceCategory'] == 0]['Qta'] )\n",
        "cat_1 = lambda g: sum( g[g['PriceCategory'] == 1]['Qta'] )\n",
        "cat_2 = lambda g: sum( g[g['PriceCategory'] == 2]['Qta'] )"
      ],
      "execution_count": null,
      "outputs": []
    },
    {
      "cell_type": "code",
      "metadata": {
        "id": "-zOj31MJH0wa",
        "colab": {
          "base_uri": "https://localhost:8080/",
          "height": 450
        },
        "outputId": "1dd32a4d-62a7-4370-c6fd-6e671bdb804c"
      },
      "source": [
        "groups = new_df.groupby(\"CustomerID\")\n",
        "\n",
        "cldf = pd.DataFrame(data=np.array( [\n",
        "    [\n",
        "    group[0],\n",
        "    monetary(group[1]),\n",
        "    max_sale(group[1]),\n",
        "    mean_sale(group[1]),\n",
        "    entropy(group[1], \"ProdID\", 'Sale', 'ProdID', 'sum'),\n",
        "    tot_items(group[1]),\n",
        "    max_items(group[1]),\n",
        "    mean_items(group[1]),\n",
        "    unique_items(group[1]),\n",
        "    mean_item_sale(group[1]),\n",
        "    cat_0(group[1]),\n",
        "    cat_1(group[1]),\n",
        "    cat_2(group[1]),\n",
        "    ] for group in groups\n",
        "] ), columns=[\"CustomerID\",\"Monetary\",\"MaxSale\",\"MeanSale\",\"E-Sale\",\"TotItems\",\"MaxItems\",\"MeanItems\",\"UniqueItems\",\"MeanItemSale\",\"Cat0\",\"Cat1\",\"Cat2\"] )\n",
        "\n",
        "for col in cldf.columns:\n",
        "    if col not in [\"E-Sale\"]:\n",
        "        cldf[col] = cldf[col].astype(np.int64)\n",
        "\n",
        "cldf.set_index('CustomerID', inplace=True)\n",
        "cldf.to_csv(\"customer_classification.csv\")\n",
        "cldf = pd.read_csv(\"customer_classification.csv\", index_col=0)\n",
        "cldf"
      ],
      "execution_count": null,
      "outputs": []
    },
    {
      "cell_type": "code",
      "metadata": {
        "colab": {
          "base_uri": "https://localhost:8080/"
        },
        "id": "WVLLYTFN3I8e",
        "outputId": "6cc7894b-cd13-4db4-8eb7-1384cf2ab184"
      },
      "source": [
        "print(len(cdf))\n",
        "print(len(cldf))"
      ],
      "execution_count": null,
      "outputs": []
    },
    {
      "cell_type": "code",
      "metadata": {
        "id": "MtwRp340IiS8",
        "colab": {
          "base_uri": "https://localhost:8080/"
        },
        "outputId": "0c398757-6e8e-4bb7-92a8-c553021cc932"
      },
      "source": [
        "# Align datasets' indexes\n",
        "cldf.sort_index(inplace=True)\n",
        "cdf.sort_index(inplace=True)\n",
        "\n",
        "# Check for anomalies\n",
        "print(\"NORM BETWEEN THE INDEXES:\", np.linalg.norm( cdf.index - cldf.index ))\n",
        "\n",
        "# Add labels to the classification dataset\n",
        "cldf['Labels'] = cdf['Labels']\n",
        "cldf.to_csv(\"customer_classification.csv\")"
      ],
      "execution_count": null,
      "outputs": []
    },
    {
      "cell_type": "code",
      "metadata": {
        "id": "YT600M3KUrWs",
        "colab": {
          "base_uri": "https://localhost:8080/",
          "height": 450
        },
        "outputId": "2ee6e97c-d8f1-46ba-e43f-45f098040518"
      },
      "source": [
        "cldf"
      ],
      "execution_count": null,
      "outputs": []
    }
  ]
}