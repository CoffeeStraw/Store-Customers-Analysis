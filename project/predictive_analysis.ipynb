{
  "nbformat": 4,
  "nbformat_minor": 0,
  "metadata": {
    "language_info": {
      "codemirror_mode": {
        "name": "ipython",
        "version": 3
      },
      "file_extension": ".py",
      "mimetype": "text/x-python",
      "name": "python",
      "nbconvert_exporter": "python",
      "pygments_lexer": "ipython3",
      "version": "3.8.5-final"
    },
    "orig_nbformat": 2,
    "kernelspec": {
      "name": "python3",
      "display_name": "Python 3"
    },
    "colab": {
      "name": "predictive_analysis.ipynb",
      "provenance": [],
      "collapsed_sections": []
    }
  },
  "cells": [
    {
      "cell_type": "markdown",
      "metadata": {
        "id": "KA3giDhQ666Q"
      },
      "source": [
        "# DATA MINING PROJECT: Analysis of a Supermarket’s Customers\n",
        "## 3.1) Predictive Analysis: new customer profile\n",
        "### *Antonio Strippoli, Valerio Mariani*"
      ]
    },
    {
      "cell_type": "code",
      "metadata": {
        "id": "XS-ynrU3666Q"
      },
      "source": [
        "%matplotlib inline\n",
        "import numpy as np\n",
        "import pandas as pd\n",
        "from math import log\n",
        "import seaborn as sn\n",
        "import matplotlib.pyplot as plt\n",
        "from datetime import timedelta, datetime\n",
        "from matplotlib.colors import LinearSegmentedColormap\n",
        "\n",
        "from sklearn.cluster import KMeans, DBSCAN\n",
        "from sklearn.preprocessing import MinMaxScaler\n",
        "from scipy.spatial.distance import pdist, squareform\n",
        "from sklearn.metrics import silhouette_score, davies_bouldin_score\n",
        "\n",
        "pd.set_option('mode.chained_assignment', None)"
      ],
      "execution_count": null,
      "outputs": []
    },
    {
      "cell_type": "code",
      "metadata": {
        "id": "QstT2z98666R"
      },
      "source": [
        "def plot(ax, folder=\"predictive_pre\", filename=\"\", figsize=(6.4, 4.8)):\n",
        "    fig = plt.gcf()\n",
        "    fig.set_size_inches(*figsize)\n",
        "    plt.tight_layout()\n",
        "    if filename:\n",
        "        path = os.path.join(\"..\", \"report\", \"imgs\", folder)\n",
        "        if not os.path.exists(path):\n",
        "            os.mkdir(path)\n",
        "        plt.savefig(os.path.join(path, filename))\n",
        "    plt.show()\n",
        "    plt.close()"
      ],
      "execution_count": null,
      "outputs": []
    },
    {
      "cell_type": "markdown",
      "metadata": {
        "id": "iGBj2tru666R"
      },
      "source": [
        "### Define class using MeanBasketSale"
      ]
    },
    {
      "cell_type": "code",
      "metadata": {
        "id": "U5rx54h4i0lm"
      },
      "source": [
        "# Hyperparameter\n",
        "min_baskets = 2"
      ],
      "execution_count": null,
      "outputs": []
    },
    {
      "cell_type": "code",
      "metadata": {
        "id": "qKxdJkAm666R"
      },
      "source": [
        "# Load dataset\n",
        "cdf = pd.read_csv(\"customer_profilation.csv\", index_col=0)\n",
        "# Sort by MeanBasketSale\n",
        "cdf.sort_values(\"MeanBasketSale\", inplace=True)"
      ],
      "execution_count": null,
      "outputs": []
    },
    {
      "cell_type": "code",
      "metadata": {
        "id": "zsFe5nBH666R",
        "colab": {
          "base_uri": "https://localhost:8080/",
          "height": 1000
        },
        "outputId": "d36f3fb2-19ea-4ac6-b0f8-49466632fdac"
      },
      "source": [
        "# Analyze MeanBasketSale attribute\n",
        "print(\"--- NUMBER OF BASKETS ---\")\n",
        "print(cdf['Frequency'].describe())\n",
        "plot(cdf['Frequency'].plot.box())\n",
        "plot(cdf['Frequency'].hist(bins=100))\n",
        "print(\"--- MEAN SALE ---\")\n",
        "print(cdf['MeanBasketSale'].describe())\n",
        "plot(cdf['MeanBasketSale'].plot.box())\n",
        "plot(cdf['MeanBasketSale'].hist(bins=100))"
      ],
      "execution_count": null,
      "outputs": []
    },
    {
      "cell_type": "code",
      "metadata": {
        "colab": {
          "base_uri": "https://localhost:8080/"
        },
        "id": "k4HaBenPnp4K",
        "outputId": "465ade96-05ea-405a-8509-2ac3f6fa91bc"
      },
      "source": [
        "# Remove customers without a minimum number of baskets and from MeanBasketSale\n",
        "cdf = cdf[cdf['Frequency'] >= min_baskets]\n",
        "print(len(cdf))\n",
        "cdf = cdf[cdf['MeanBasketSale'] < 3000]\n",
        "print(len(cdf))"
      ],
      "execution_count": null,
      "outputs": []
    },
    {
      "cell_type": "code",
      "metadata": {
        "colab": {
          "base_uri": "https://localhost:8080/",
          "height": 846
        },
        "id": "RErxsyF1i0lm",
        "outputId": "e1959b60-71a0-4b92-d2fc-0e7a779852a9"
      },
      "source": [
        "# Pop some high-values from the dataset, saving them for later (they're surely high-spending customers)\n",
        "print(cdf['MeanBasketSale'].describe())\n",
        "plot(cdf['MeanBasketSale'].plot.box())\n",
        "plot(cdf['MeanBasketSale'].hist(bins=100))\n",
        "\n",
        "mean_sale_outliers = cdf[cdf['MeanBasketSale'] >= 1000]\n",
        "cdf = cdf[cdf['MeanBasketSale'] < 1000]"
      ],
      "execution_count": null,
      "outputs": []
    },
    {
      "cell_type": "code",
      "metadata": {
        "id": "nbqdhexy666R",
        "colab": {
          "base_uri": "https://localhost:8080/"
        },
        "outputId": "bd9f2b3e-5e77-40bf-b17f-c0d331b852d6"
      },
      "source": [
        "# Execute K-means with k=3 to compute labels of non-outlier customers\n",
        "cdf_cluster = cdf[['MeanBasketSale']]\n",
        "\n",
        "# Normalize values\n",
        "scaler = MinMaxScaler() # Minmax?\n",
        "X = scaler.fit_transform(cdf_cluster.values)\n",
        "\n",
        "# We choosed 3 as our number of clusters, proceede with the clusterization\n",
        "kmeans = KMeans(n_clusters=3, init=\"k-means++\", n_init=1000, max_iter=1000)\n",
        "kmeans.fit(X)\n",
        "\n",
        "sse = round(kmeans.inertia_, 2)\n",
        "sil = round(silhouette_score(X, kmeans.labels_), 2)\n",
        "db = round(davies_bouldin_score(X, kmeans.labels_), 2)\n",
        "print(\"SSE:\", sse)\n",
        "print(\"Silhouette:\", sil)\n",
        "print(\"Davies Bouldin:\", db)\n",
        "\n",
        "# Save centroids\n",
        "centers = scaler.inverse_transform(kmeans.cluster_centers_)\n",
        "print('Centers:')\n",
        "print(centers)\n",
        "\n",
        "# Define a new colormap to employ in the visualizations\n",
        "colors = np.array([\n",
        "    (80, 219, 42, 255), # Green\n",
        "    (42, 48, 219, 255), # Blue\n",
        "    (219, 42, 42, 255) # Red\n",
        "])\n",
        "colors = colors / 255.0\n",
        "cm = LinearSegmentedColormap.from_list('clusters_3', colors, N=3)\n",
        "\n",
        "cdf['Labels'] = kmeans.labels_"
      ],
      "execution_count": null,
      "outputs": []
    },
    {
      "cell_type": "code",
      "metadata": {
        "colab": {
          "base_uri": "https://localhost:8080/"
        },
        "id": "7_074mEcpwP4",
        "outputId": "e85f07c8-ebbf-4157-e3a8-4238b054e9a5"
      },
      "source": [
        "# Map labels to always have 0 -> low-spending, 1 -> medium-spending, 2 -> high-spending\n",
        "l = int(cdf[cdf['MeanBasketSale'] > 0].iloc[0]['Labels'])\n",
        "m = int(cdf[cdf['MeanBasketSale'] > 500].iloc[0]['Labels'])\n",
        "h = int(cdf[cdf['MeanBasketSale'] > 980].iloc[0]['Labels'])\n",
        "mapping = {\n",
        "    l: 0,\n",
        "    m: 1,\n",
        "    h: 2\n",
        "}\n",
        "cdf = cdf.replace({\"Labels\": mapping})\n",
        "print(cdf['Labels'].value_counts())"
      ],
      "execution_count": null,
      "outputs": []
    },
    {
      "cell_type": "code",
      "metadata": {
        "id": "MibSDFB5666R",
        "colab": {
          "base_uri": "https://localhost:8080/",
          "height": 355
        },
        "outputId": "9a5860cf-a354-4a95-ff1a-d9e1a3808e06"
      },
      "source": [
        "# Visualize distribution of the clusters\n",
        "cdf2 = cdf[[\"MeanBasketSale\", \"Labels\"]]\n",
        "cdf2.reset_index(drop=True, inplace=True)\n",
        "cdf2.reset_index(inplace=True)\n",
        "plot(cdf2.plot.scatter(x=\"index\", y=\"MeanBasketSale\", c=cdf2[\"Labels\"], cmap=cm), filename=\"clustering_partial\")"
      ],
      "execution_count": null,
      "outputs": []
    },
    {
      "cell_type": "code",
      "metadata": {
        "id": "cQI6jD-P666R",
        "colab": {
          "base_uri": "https://localhost:8080/"
        },
        "outputId": "3e32e679-681d-410d-9e2a-9bd67e73fe29"
      },
      "source": [
        "# assegnamo le etichette: quelli clasterizzati hanno ognuno la loro, quelli brutti sono tutti alto-spendenti\n",
        "mean_sale_outliers['Labels'] = 2\n",
        "cdf = cdf.append(mean_sale_outliers)\n",
        "print(cdf['Labels'].value_counts())"
      ],
      "execution_count": null,
      "outputs": []
    },
    {
      "cell_type": "code",
      "metadata": {
        "id": "WLmR7iO2666R",
        "colab": {
          "base_uri": "https://localhost:8080/",
          "height": 355
        },
        "outputId": "32898429-d8f0-4dc0-eec3-3319348e927a"
      },
      "source": [
        "# Visualize distribution of the clusters\n",
        "cdf2 = cdf[[\"MeanBasketSale\", \"Labels\"]]\n",
        "cdf2.reset_index(drop=True, inplace=True)\n",
        "cdf2.reset_index(inplace=True)\n",
        "plot(cdf2.plot.scatter(x=\"index\", y=\"MeanBasketSale\", c=cdf2[\"Labels\"], cmap=cm), filename=\"clustering_full\")"
      ],
      "execution_count": null,
      "outputs": []
    },
    {
      "cell_type": "code",
      "metadata": {
        "colab": {
          "base_uri": "https://localhost:8080/"
        },
        "id": "wGXAsguai0lm",
        "outputId": "954dc3d4-9bc8-4ee8-b4b8-61a2e2c0fe37"
      },
      "source": [
        "# Get thresholds of each class\n",
        "print(cdf[cdf['Labels'] == 0]['MeanBasketSale'].max())\n",
        "print(cdf[cdf['Labels'] == 1]['MeanBasketSale'].max())\n",
        "print(cdf[cdf['Labels'] == 2]['MeanBasketSale'].max())"
      ],
      "execution_count": null,
      "outputs": []
    },
    {
      "cell_type": "code",
      "metadata": {
        "colab": {
          "base_uri": "https://localhost:8080/",
          "height": 623
        },
        "id": "mpl57Sb1tY2n",
        "outputId": "7d717e5e-1edf-463c-85c4-45f3f17cc89c"
      },
      "source": [
        "cdf.to_csv(\"customer_classification.csv\")\n",
        "cdf"
      ],
      "execution_count": null,
      "outputs": []
    },
    {
      "cell_type": "markdown",
      "metadata": {
        "id": "owmn26NM7fMI"
      },
      "source": [
        "# Creazione dataset per allenamento classificatore\n",
        "## Riustruazione sulla base dei dati relativi al primo periodo di di attivita' di ogni utente\n",
        "Una volta assegnate etichette \"SICURE\" ad ogni utente (calcolate usando tutto il periodo di osservazione) vogliamo creare un nuovo dataset, da usare per allenare il classificatore in modo supervisionato.  \n",
        "  \n",
        "In particolare quello che si vuole ottenere e' una serie di coppie  \n",
        "  \n",
        "(input)_i --> (desired_output)_i per i = 1...N_utenti  \n",
        "  \n",
        "dove (input)_i = (attr1, attr2, ... , attrn)_i e' una tupla di attributi relativi all'utente i-esimo e calcolati su una parte del periodo di osservazione disponibile (ad esempio il primo mese, oppure il primo carrello ), mentre invece (desired_output)_i e' l'etichetta assegnata in precedenza all'utente i.  \n"
      ]
    },
    {
      "cell_type": "markdown",
      "metadata": {
        "id": "YzhENxut-kKR"
      },
      "source": [
        "## Fase 1: preprocessing del dataset originario\n",
        "vogliamo eliminare le tuple relative ad acquisti eseguiti da utenti piu vecchi di ((((( un mese )))))"
      ]
    },
    {
      "cell_type": "code",
      "metadata": {
        "id": "9o_z8yr3-6NB"
      },
      "source": [
        "# Read datasets\n",
        "df = pd.read_csv('customer_supermarket_2.csv', index_col=0, parse_dates=[\"PurchaseDate\"])\n",
        "cdf = pd.read_csv('customer_classification.csv', index_col=0)\n",
        "cdf.sort_index(inplace=True)"
      ],
      "execution_count": null,
      "outputs": []
    },
    {
      "cell_type": "code",
      "metadata": {
        "colab": {
          "base_uri": "https://localhost:8080/"
        },
        "id": "A8PcWNG9t1Ss",
        "outputId": "a2755625-febb-4312-db09-8a2f7c3c851d"
      },
      "source": [
        "# Keep only customers that we retained in the label computation step\n",
        "good_customers = list(set(cdf.index))\n",
        "print(\"Length of df BEFORE deletion:\", len(df))\n",
        "df = df[df['CustomerID'].isin(good_customers)]\n",
        "print(\"Length of df AFTER deletion:\", len(df))"
      ],
      "execution_count": null,
      "outputs": []
    },
    {
      "cell_type": "code",
      "metadata": {
        "id": "JVNPU5R1HWu1",
        "colab": {
          "base_uri": "https://localhost:8080/"
        },
        "outputId": "72bb2004-8c86-4db7-925d-ebabaf93128a"
      },
      "source": [
        "# Do binning on the products' sale\n",
        "# NOTE: could k-means be better to categorize the products???????????????????????????????????????????\n",
        "df_sale = pd.Series(df['Sale'].unique(), name=\"Sale\")\n",
        "q2, q3 = df_sale.quantile([.25, .5])\n",
        "\n",
        "def categorize(sale):\n",
        "    if sale < q2:\n",
        "        return 0\n",
        "    elif sale < q3:\n",
        "        return 1\n",
        "    return 2\n",
        "\n",
        "df['PriceCategory'] = df[\"Sale\"].apply(categorize)\n",
        "print(df['PriceCategory'])"
      ],
      "execution_count": null,
      "outputs": []
    },
    {
      "cell_type": "markdown",
      "metadata": {
        "id": "7Kc10whKF1ev"
      },
      "source": [
        "## Fase due: Profilazione parziale\n",
        "A partire dal Dataset creato, costruisco un dataset per la profilazione utente nel modo esatto in cui lo facevo prima. (Quello che cambia e' che questa volta uso solo le tuple relative al primo periodo di attivita' di ogni utente)"
      ]
    },
    {
      "cell_type": "code",
      "metadata": {
        "id": "fpHejHytEzGk"
      },
      "source": [
        "# Keep only attributes normalized in number of baskets\n",
        "cdf.drop(['Monetary', 'TotItems', 'MaxItems', 'UniqueItems', 'PrefItem', 'MaxSale', 'MeanBasketSale', 'WeekDayPref', 'WeekMonthPref', 'MainCountry', 'PReturn'], axis=1, inplace=True)\n",
        "\n",
        "# Quantities of items purchased for each category\n",
        "cat_0 = lambda g: sum( g[g['PriceCategory'] == 0]['Qta'] )\n",
        "cat_1 = lambda g: sum( g[g['PriceCategory'] == 1]['Qta'] )\n",
        "cat_2 = lambda g: sum( g[g['PriceCategory'] == 2]['Qta'] )"
      ],
      "execution_count": null,
      "outputs": []
    },
    {
      "cell_type": "code",
      "metadata": {
        "id": "g0C65VEDpwsu"
      },
      "source": [
        "groups = df[df['Qta'] > 0].groupby(\"CustomerID\")\n",
        "\n",
        "cldf = pd.DataFrame(data=np.array( [\n",
        "    [\n",
        "    group[0],\n",
        "    cat_0(group[1]),\n",
        "    cat_1(group[1]),\n",
        "    cat_2(group[1]),\n",
        "    ] for group in groups\n",
        "] ), columns=[\"CustomerID\",\"Cat0\",\"Cat1\",\"Cat2\"] )\n",
        "\n",
        "for col in cldf.columns:\n",
        "  cldf[col] = cldf[col].astype(np.int64)\n",
        "\n",
        "cldf.set_index('CustomerID', inplace=True)\n",
        "cldf.sort_index(inplace=True)"
      ],
      "execution_count": null,
      "outputs": []
    },
    {
      "cell_type": "code",
      "metadata": {
        "colab": {
          "base_uri": "https://localhost:8080/",
          "height": 467
        },
        "id": "sCypCDqip0bP",
        "outputId": "7ff54049-8f2c-4385-9e6b-d5f00db7ce02"
      },
      "source": [
        "# Check for anomalies\n",
        "print(\"NORM BETWEEN THE INDEXES:\", np.linalg.norm( cdf.index - cldf.index ))\n",
        "\n",
        "# Normalize categories\n",
        "cdf[['Cat0', 'Cat1', 'Cat2']] = round(cldf[['Cat0', 'Cat1', 'Cat2']].div(cdf['Frequency'], axis=0), 2)\n",
        "cldf = cdf\n",
        "\n",
        "# Move labels to last column\n",
        "cldf['Labels'] = cldf.pop('Labels')\n",
        "\n",
        "# Write final dataset\n",
        "cldf.to_csv(\"customer_classification.csv\")\n",
        "cldf = pd.read_csv(\"customer_classification.csv\", index_col=0)\n",
        "cldf"
      ],
      "execution_count": null,
      "outputs": []
    }
  ]
}