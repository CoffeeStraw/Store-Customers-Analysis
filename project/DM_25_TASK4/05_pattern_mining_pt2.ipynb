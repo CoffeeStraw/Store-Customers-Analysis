{
 "metadata": {
  "language_info": {
   "codemirror_mode": {
    "name": "ipython",
    "version": 3
   },
   "file_extension": ".py",
   "mimetype": "text/x-python",
   "name": "python",
   "nbconvert_exporter": "python",
   "pygments_lexer": "ipython3",
   "version": "3.9.1-final"
  },
  "orig_nbformat": 2,
  "kernelspec": {
   "name": "python3",
   "display_name": "Python 3",
   "language": "python"
  }
 },
 "nbformat": 4,
 "nbformat_minor": 2,
 "cells": [
  {
   "source": [
    "# DATA MINING PROJECT: Analysis of a Supermarket’s Customers\n",
    "## 4.optional) Pattern Mining with Time Constraints\n",
    "### *Antonio Strippoli, Valerio Mariani*"
   ],
   "cell_type": "markdown",
   "metadata": {}
  },
  {
   "cell_type": "code",
   "execution_count": null,
   "metadata": {},
   "outputs": [],
   "source": [
    "from functions import *  # Custom function for the analysis\n",
    "from gsp import apriori\n",
    "import datetime\n",
    "import logging\n",
    "import time\n",
    "import os\n",
    "\n",
    "# Set logging\n",
    "if os.path.exists('log.txt'):\n",
    "    os.remove('log.txt')\n",
    "logging.basicConfig(level=logging.INFO, filename=\"log.txt\", filemode=\"a+\", format=\"%(message)s\")\n",
    "logging.getLogger().addHandler(logging.StreamHandler())"
   ]
  },
  {
   "cell_type": "code",
   "execution_count": null,
   "metadata": {},
   "outputs": [],
   "source": [
    "import matplotlib.pyplot as plt\n",
    "\n",
    "def plot(ax, folder=\"pattern_mining\", filename=\"\", figsize=(6.4, 4.8)):\n",
    "    fig = plt.gcf()\n",
    "    fig.set_size_inches(*figsize)\n",
    "    plt.tight_layout()\n",
    "    if filename:\n",
    "        path = os.path.join(\"..\", \"..\", \"report\", \"imgs\", folder)\n",
    "        if not os.path.exists(path):\n",
    "            os.mkdir(path)\n",
    "        plt.savefig(os.path.join(path, filename))\n",
    "    plt.show()\n",
    "    plt.close()"
   ]
  },
  {
   "source": [
    "### Apply GSP on sequential data using Time Constraints"
   ],
   "cell_type": "markdown",
   "metadata": {}
  },
  {
   "cell_type": "code",
   "execution_count": null,
   "metadata": {
    "tags": []
   },
   "outputs": [],
   "source": [
    "# Config (which result do we want to analyze)\n",
    "min_baskets = 10\n",
    "min_sup = 0.25\n",
    "tests = [\n",
    "    ('min_gap', list(range(1000, 1001, 1))), # qui c'è qualocsa di strano, '22386', '85099B'\n",
    "    ('max_gap', list(range(4, 200, 4))), # 4, 72\n",
    "    ('max_span', list(range(4, 200, 4))),\n",
    "]\n",
    "\n",
    "for test in tests:\n",
    "    print(f\"STARTING WITH {test[0]} - {test[1]}\")\n",
    "    lengths = []\n",
    "    for x in test[1]:\n",
    "        print(f\"TESTING x={x}\")\n",
    "        # Read the dataset\n",
    "        df = read_dataset()\n",
    "        # Remove some baskets\n",
    "        df = remove_baskets(df, min_baskets)\n",
    "        # Convert into seq form\n",
    "        seq_data, time_stamps = sequentialize(df, return_times=True)\n",
    "\n",
    "        # Apply GSP\n",
    "        kwargs = {test[0]: datetime.timedelta(weeks=x)}\n",
    "        result_set = apriori(seq_data, min_sup, time_stamps, **kwargs)\n",
    "        print(result_set)\n",
    "        lengths.append(len(result_set))\n",
    "\n",
    "        # DEBUG Prints\n",
    "        if len(lengths) == 1:\n",
    "            print('\\tLEN RESULT SET:', lengths[-1])\n",
    "        elif lengths[-1] != lengths[-2]:\n",
    "            print('\\tLEN RESULT SET:', lengths[-1])\n",
    "        \n",
    "        # Stop when reaching full set or when no sequence long > 2 remain\n",
    "        if lengths[-1] >= 73 or lengths[-1] <= 56:\n",
    "            break\n",
    "\n",
    "    # Plot trend\n",
    "    _, ax = plt.subplots()\n",
    "    ax.plot([str(x // 4) for x in test[1]], lengths)\n",
    "    ax.set(xlabel='Months', ylabel='N. of sequences')\n",
    "    plot(ax, filename=f\"{test[0]}_trend\")"
   ]
  },
  {
   "source": [
    "Forse da buttare"
   ],
   "cell_type": "markdown",
   "metadata": {}
  },
  {
   "cell_type": "code",
   "execution_count": null,
   "metadata": {},
   "outputs": [],
   "source": [
    "# Config (which result do we want to analyze)\n",
    "min_baskets = 10\n",
    "min_sup = 0.25\n",
    "max_gap = datetime.timedelta(days=365)\n",
    "min_gap = datetime.timedelta(days=365)\n",
    "\n",
    "# Read the dataset\n",
    "df = read_dataset()\n",
    "# Remove some baskets\n",
    "df = remove_baskets(df, min_baskets)\n",
    "# Convert into seq form\n",
    "seq_data, time_stamps = sequentialize(df, return_times=True)\n",
    "\n",
    "# Apply GSP\n",
    "result_set = apriori(seq_data, min_sup, time_stamps, max_span=None, min_gap=None, max_gap=max_gap)\n",
    "print_distribution(result_set)\n",
    "\n",
    "# Distribution of lengths: {1: 56, 2: 1, 3: 0, 4: 0, 5: 0}"
   ]
  },
  {
   "cell_type": "code",
   "execution_count": null,
   "metadata": {},
   "outputs": [],
   "source": [
    "params = {\n",
    "    'min_sup': [0.4, 0.35, 0.3, 0.25, 0.2, 0.15],\n",
    "    'min_baskets': [20, 10],\n",
    "    'max_gap': [datetime.timedelta(days=1), datetime.timedelta(days=2), datetime.timedelta(days=3), datetime.timedelta(weeks=1), datetime.timedelta(weeks=2), datetime.timedelta(weeks=3), datetime.timedelta(weeks=4), datetime.timedelta(weeks=8), datetime.timedelta(weeks=12)],\n",
    "    'max_span': [datetime.timedelta(weeks=4), datetime.timedelta(weeks=8), datetime.timedelta(weeks=12), datetime.timedelta(weeks=48)]\n",
    "}\n",
    "for min_sup in params['min_sup']:\n",
    "    for min_baskets in params['min_baskets']:\n",
    "        for max_gap in params['max_gap']:\n",
    "            for max_span in params['max_span']:\n",
    "                logging.info(f\"MIN_BASKETS: {min_baskets}, MIN_SUP: {min_sup}, MAX_GAP: {max_gap}, MAX_SPAN: {max_span}\")\n",
    "\n",
    "                # Read the dataset\n",
    "                df = read_dataset()\n",
    "                # Remove some baskets\n",
    "                df = remove_baskets(df, min_baskets)\n",
    "                # Convert into seq form\n",
    "                seq_data, time_stamps = sequentialize(df, return_times=True)\n",
    "                \n",
    "                # Apply GSP\n",
    "                t0 = time.time()\n",
    "                result_set = apriori(seq_data, min_sup, time_stamps, max_span=max_span, min_gap=None, max_gap=max_gap)\n",
    "                t1 = time.time()\n",
    "\n",
    "                # Compute n. of sequences with len > 2 and n. of sequences containing duplicates\n",
    "                cnt_len_2 = 0\n",
    "                cnt_duplicates = 0\n",
    "                for r in result_set:\n",
    "                    r = r[0]\n",
    "                    tmp = []\n",
    "                    for l in r:\n",
    "                        tmp.extend(l)\n",
    "                    if len(tmp) >= 2:\n",
    "                        cnt_len_2 += 1\n",
    "                        if len(set(tmp)) < len(tmp):\n",
    "                            cnt_duplicates += 1\n",
    "\n",
    "                logging.info(\n",
    "                    f\"TOTAL TIME:\\t{round(t1-t0, 2)} s\\n\"\\\n",
    "                    f\"LEN RESULT SET:\\t{len(result_set)}\\n\"\\\n",
    "                    f\"LEN SEQ > 2:\\t{cnt_len_2}\\nN. DUPLICATES:\\t{cnt_duplicates}\\n\"\n",
    "                )\n",
    "\n",
    "                # Save\n",
    "                save_to_pickle(result_set, min_baskets, min_sup, max_gap.days, max_span.days)"
   ]
  },
  {
   "cell_type": "code",
   "execution_count": null,
   "metadata": {},
   "outputs": [],
   "source": [
    "print_distribution(result_set)"
   ]
  },
  {
   "cell_type": "code",
   "execution_count": null,
   "metadata": {},
   "outputs": [],
   "source": []
  }
 ]
}