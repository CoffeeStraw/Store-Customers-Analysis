{
 "metadata": {
  "language_info": {
   "codemirror_mode": {
    "name": "ipython",
    "version": 3
   },
   "file_extension": ".py",
   "mimetype": "text/x-python",
   "name": "python",
   "nbconvert_exporter": "python",
   "pygments_lexer": "ipython3",
   "version": "3.9.1-final"
  },
  "orig_nbformat": 2,
  "kernelspec": {
   "name": "python3",
   "display_name": "Python 3",
   "language": "python"
  }
 },
 "nbformat": 4,
 "nbformat_minor": 2,
 "cells": [
  {
   "source": [
    "# DATA MINING PROJECT: Analysis of a Supermarket’s Customers\n",
    "## 4) Pattern Mining\n",
    "### *Antonio Strippoli, Valerio Mariani*"
   ],
   "cell_type": "markdown",
   "metadata": {}
  },
  {
   "cell_type": "code",
   "execution_count": null,
   "metadata": {},
   "outputs": [],
   "source": [
    "from functions import *  # Custom function for the analysis\n",
    "from gsp import apriori\n",
    "import datetime\n",
    "import logging\n",
    "import time\n",
    "import os\n",
    "\n",
    "# Set logging\n",
    "logging.basicConfig(level=logging.INFO, filename=\"log.txt\", filemode=\"a+\", format=\"%(message)s\")\n",
    "logging.getLogger().addHandler(logging.StreamHandler())"
   ]
  },
  {
   "source": [
    "### Apply GSP on sequential data"
   ],
   "cell_type": "markdown",
   "metadata": {}
  },
  {
   "cell_type": "code",
   "execution_count": null,
   "metadata": {},
   "outputs": [],
   "source": [
    "# Main cycle: apply GSP multiple times\n",
    "params = {\n",
    "    'min_sup': [0.4, 0.35, 0.3, 0.25, 0.2, 0.15],\n",
    "    'min_baskets': [20, 10, 5, 3, 2],\n",
    "}\n",
    "for min_sup in params['min_sup']:\n",
    "    for min_baskets in params['min_baskets']:\n",
    "        logging.info(f\"MIN_BASKETS: {min_baskets}, MIN_SUP: {min_sup}\")\n",
    "\n",
    "        # Read the dataset\n",
    "        df = read_dataset()\n",
    "        # Remove some baskets\n",
    "        df = remove_baskets(df, min_baskets)\n",
    "        # Convert into seq form\n",
    "        seq_data = sequentialize(df)\n",
    "        \n",
    "        # Apply GSP\n",
    "        t0 = time.time()\n",
    "        result_set = apriori(seq_data, min_sup, verbose=False)\n",
    "        t1 = time.time()\n",
    "\n",
    "        # Compute n. of sequences with len > 2 and n. of sequences containing duplicates\n",
    "        cnt_len_2 = 0\n",
    "        cnt_duplicates = 0\n",
    "        for r in result_set:\n",
    "            r = r[0]\n",
    "            tmp = []\n",
    "            for l in r:\n",
    "                tmp.extend(l)\n",
    "            if len(tmp) >= 2:\n",
    "                cnt_len_2 += 1\n",
    "                if len(set(tmp)) < len(tmp):\n",
    "                    cnt_duplicates += 1\n",
    "\n",
    "        logging.info(\n",
    "            f\"TOTAL TIME:\\t{round(t1-t0, 2)} s\\n\"\\\n",
    "            f\"LEN RESULT SET:\\t{len(result_set)}\\n\"\\\n",
    "            f\"LEN SEQ > 2:\\t{cnt_len_2}\\nN. DUPLICATES:\\t{cnt_duplicates}\\n\"\n",
    "        )\n",
    "\n",
    "        # Save\n",
    "        read_write_result(False, min_baskets, min_sup, result_set)"
   ]
  },
  {
   "source": [
    "### Analyze results and collect statistics"
   ],
   "cell_type": "markdown",
   "metadata": {}
  },
  {
   "cell_type": "code",
   "execution_count": null,
   "metadata": {},
   "outputs": [],
   "source": [
    "# Config (which result do we want to analyze)\n",
    "min_baskets = 10\n",
    "min_sup = 0.25\n",
    "\n",
    "# Read result\n",
    "result_set = read_write_result(True, min_baskets, min_sup)\n",
    "result_set = convert_tuples_to_list(result_set)\n",
    "print_distribution(result_set)\n",
    "\n",
    "# Read and prepare the dataset\n",
    "df = read_dataset()\n",
    "df = remove_baskets(df, min_baskets)\n",
    "\n",
    "# Compute mean qta values\n",
    "result_set = compute_patterns_mean_qta(result_set, df)\n",
    "\n",
    "# Convert ProdID to ProdDescr\n",
    "result_set = prodID_to_prodDescr(result_set, df)\n",
    "\n",
    "result_set"
   ]
  },
  {
   "cell_type": "code",
   "execution_count": null,
   "metadata": {},
   "outputs": [],
   "source": []
  }
 ]
}