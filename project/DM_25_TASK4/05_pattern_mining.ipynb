{
 "metadata": {
  "language_info": {
   "codemirror_mode": {
    "name": "ipython",
    "version": 3
   },
   "file_extension": ".py",
   "mimetype": "text/x-python",
   "name": "python",
   "nbconvert_exporter": "python",
   "pygments_lexer": "ipython3",
   "version": "3.9.1-final"
  },
  "orig_nbformat": 2,
  "kernelspec": {
   "name": "python3",
   "display_name": "Python 3",
   "language": "python"
  }
 },
 "nbformat": 4,
 "nbformat_minor": 2,
 "cells": [
  {
   "source": [
    "# DATA MINING PROJECT: Analysis of a Supermarket’s Customers\n",
    "## 4) Pattern Mining\n",
    "### *Antonio Strippoli, Valerio Mariani*"
   ],
   "cell_type": "markdown",
   "metadata": {}
  },
  {
   "cell_type": "code",
   "execution_count": null,
   "metadata": {},
   "outputs": [],
   "source": [
    "import pandas as pd\n",
    "from gsp import *\n",
    "import pickle"
   ]
  },
  {
   "cell_type": "code",
   "execution_count": null,
   "metadata": {},
   "outputs": [],
   "source": [
    "df = pd.read_csv(\"../DM_25_TASK1/customer_supermarket_2.csv\", index_col=0, parse_dates=[\"PurchaseDate\"])"
   ]
  },
  {
   "source": [
    "### Prepare sequential data"
   ],
   "cell_type": "markdown",
   "metadata": {}
  },
  {
   "cell_type": "code",
   "execution_count": null,
   "metadata": {},
   "outputs": [],
   "source": [
    "# Convert data in sequential form\n",
    "seq_data = []\n",
    "for customer in df.groupby('CustomerID'):\n",
    "    customer = customer[1]\n",
    "    tmp = []\n",
    "    for basket in customer.groupby('BasketID'):\n",
    "        basket = basket[1]\n",
    "        purchases = list( basket['ProdID'].unique() )\n",
    "        tmp.append(purchases)\n",
    "    seq_data.append(tmp)\n",
    "\n",
    "# Save sequential data\n",
    "with open('sequential_data.pickle', 'wb') as handle:\n",
    "    pickle.dump(seq_data, handle, protocol=pickle.HIGHEST_PROTOCOL)"
   ]
  },
  {
   "source": [
    "### Apply GSP on sequential data"
   ],
   "cell_type": "markdown",
   "metadata": {}
  },
  {
   "cell_type": "code",
   "execution_count": null,
   "metadata": {},
   "outputs": [],
   "source": [
    "# Read sequential data\n",
    "with open('sequential_data.pickle', 'rb') as handle:\n",
    "    seq_data = pickle.load(handle)"
   ]
  },
  {
   "cell_type": "code",
   "execution_count": null,
   "metadata": {},
   "outputs": [],
   "source": []
  }
 ]
}