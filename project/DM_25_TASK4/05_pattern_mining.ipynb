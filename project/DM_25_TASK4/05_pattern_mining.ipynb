{
 "metadata": {
  "language_info": {
   "codemirror_mode": {
    "name": "ipython",
    "version": 3
   },
   "file_extension": ".py",
   "mimetype": "text/x-python",
   "name": "python",
   "nbconvert_exporter": "python",
   "pygments_lexer": "ipython3",
   "version": "3.9.1-final"
  },
  "orig_nbformat": 2,
  "kernelspec": {
   "name": "python3",
   "display_name": "Python 3",
   "language": "python"
  }
 },
 "nbformat": 4,
 "nbformat_minor": 2,
 "cells": [
  {
   "source": [
    "# DATA MINING PROJECT: Analysis of a Supermarket’s Customers\n",
    "## 4) Pattern Mining\n",
    "### *Antonio Strippoli, Valerio Mariani*"
   ],
   "cell_type": "markdown",
   "metadata": {}
  },
  {
   "cell_type": "code",
   "execution_count": null,
   "metadata": {},
   "outputs": [],
   "source": [
    "from gsp import apriori\n",
    "import pandas as pd\n",
    "import pickle\n",
    "import time"
   ]
  },
  {
   "cell_type": "code",
   "execution_count": null,
   "metadata": {},
   "outputs": [],
   "source": [
    "def read_dataset():\n",
    "    \"\"\"Read the dataset using Pandas.\"\"\"\n",
    "    return pd.read_csv(\"../DM_25_TASK1/customer_supermarket_2.csv\", index_col=0, parse_dates=[\"PurchaseDate\"])"
   ]
  },
  {
   "source": [
    "### Functions"
   ],
   "cell_type": "markdown",
   "metadata": {}
  },
  {
   "cell_type": "code",
   "execution_count": null,
   "metadata": {},
   "outputs": [],
   "source": [
    "def remove_baskets(df, threshold):\n",
    "    \"\"\"Keep only customers with more than `threshold` baskets.\"\"\"\n",
    "    customers = df.groupby('CustomerID').agg({'BasketID': 'nunique'})\n",
    "    customers = customers[customers >= threshold].dropna().index.values\n",
    "    return df[df['CustomerID'].isin(customers)]"
   ]
  },
  {
   "cell_type": "code",
   "execution_count": null,
   "metadata": {},
   "outputs": [],
   "source": [
    "# Convert data in sequential form\n",
    "def get_sequential_form(df):\n",
    "    \"\"\"Convert a dataset into its sequential form.\"\"\"\n",
    "    seq_data = []\n",
    "    for customer in df.groupby('CustomerID'):\n",
    "        customer = customer[1]\n",
    "        tmp = []\n",
    "        for basket in customer.groupby('BasketID'):\n",
    "            basket = basket[1]\n",
    "            purchases = list( basket['ProdID'].unique() )\n",
    "            tmp.append(purchases)\n",
    "        seq_data.append(tmp)\n",
    "    return seq_data"
   ]
  },
  {
   "cell_type": "code",
   "execution_count": null,
   "metadata": {},
   "outputs": [],
   "source": [
    "def save_to_pickle(result_set, min_baskets, min_sup):\n",
    "    \"\"\"Save gsp results\"\"\"\n",
    "    with open(f'gsp_res/{min_baskets}_{int(min_sup*100)}.pickle', 'wb') as handle:\n",
    "        pickle.dump(result_set, handle, protocol=pickle.HIGHEST_PROTOCOL)"
   ]
  },
  {
   "source": [
    "### Apply GSP on sequential data"
   ],
   "cell_type": "markdown",
   "metadata": {}
  },
  {
   "cell_type": "code",
   "execution_count": null,
   "metadata": {},
   "outputs": [],
   "source": [
    "# Main cycle: apply GSP multiple times\n",
    "params = {\n",
    "    'min_sup': [0.4, 0.3, 0.2],\n",
    "    'min_baskets': [20, 10, 5],\n",
    "}\n",
    "for min_sup in params['min_sup']:\n",
    "    for min_baskets in params['min_baskets']:\n",
    "        # Read the dataset\n",
    "        df = read_dataset()\n",
    "        # Remove some baskets\n",
    "        df = remove_baskets(df, min_baskets)\n",
    "        # Convert into seq form\n",
    "        seq_data = get_sequential_form(df)\n",
    "        \n",
    "        # Apply GSP\n",
    "        t0 = time.time()\n",
    "        result_set = apriori(seq_data, min_sup, verbose=False)\n",
    "        t1 = time.time()\n",
    "        print(f\"MIN BASKETS: {min_baskets}, MIN SUP: {min_sup}\\nTOTAL TIME: {round(t1-t0, 2)} s\\nLEN RESULT SET: {len(result_set)}\\n\")\n",
    "\n",
    "        # Save\n",
    "        save_to_pickle(result_set, min_baskets, min_sup)"
   ]
  },
  {
   "cell_type": "code",
   "execution_count": null,
   "metadata": {},
   "outputs": [],
   "source": [
    "# Read gsp results\n",
    "with open('gsp_res/20_40.pickle', 'rb') as handle:\n",
    "    result_set = pickle.load(handle)\n",
    "\n",
    "result_set"
   ]
  }
 ]
}